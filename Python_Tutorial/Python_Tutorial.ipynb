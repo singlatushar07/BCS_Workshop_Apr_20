{
 "cells": [
  {
   "cell_type": "markdown",
   "metadata": {
    "colab_type": "text",
    "id": "3deYTsOujB2E"
   },
   "source": [
    "<table class=\"tfo-notebook-buttons\" align=\"left\">\n",
    "  <td>\n",
    "    <a target=\"_blank\" href=\"https://colab.research.google.com/github/bcs-iitk/BCS_Workshop_Apr_20/blob/master/Python_Tutorial/Python_Tutorial.ipynb\"><img src=\"https://www.tensorflow.org/images/colab_logo_32px.png\" />Run in Google Colab</a>\n",
    "  </td>\n",
    "  <td>\n",
    "    <a target=\"_blank\" href=\"https://github.com/bcs-iitk/BCS_Workshop_Apr_20/blob/master/Python_Tutorial/Python_Tutorial.ipynb\"><img src=\"https://www.tensorflow.org/images/GitHub-Mark-32px.png\" />View source on GitHub</a>\n",
    "  </td>\n",
    "  <td>\n",
    "    <a href=\"https://github.com/bcs-iitk/BCS_Workshop_Apr_20/raw/master/Python_Tutorial/Python_Tutorial.ipynb\"><img src=\"https://www.tensorflow.org/images/download_logo_32px.png\" />Download notebook</a>\n",
    "  </td>\n",
    "</table>"
   ]
  },
  {
   "cell_type": "markdown",
   "metadata": {
    "colab_type": "text",
    "id": "f1UTiaLrwD-8"
   },
   "source": [
    "# Python Tutorial For The BCS Workshop Apr '20\n",
    "***Author:*** [*Shashi Kant*](http://shashikg.github.io/)\n",
    "\n",
    "This tutorial is targeted to those, who are not familiar with Python and use of Pyhton for scientific computing. "
   ]
  },
  {
   "cell_type": "markdown",
   "metadata": {
    "colab_type": "text",
    "id": "8DzEUxlv45GI"
   },
   "source": [
    "## Hello World Example"
   ]
  },
  {
   "cell_type": "code",
   "execution_count": 1,
   "metadata": {
    "colab": {},
    "colab_type": "code",
    "id": "t00OMGst4-e0"
   },
   "outputs": [
    {
     "name": "stdout",
     "output_type": "stream",
     "text": [
      "Helllo World\n"
     ]
    }
   ],
   "source": [
    "# This is a comment\n",
    "print(\"Helllo World\")"
   ]
  },
  {
   "cell_type": "markdown",
   "metadata": {
    "colab_type": "text",
    "id": "Ki5oKWco3F67"
   },
   "source": [
    "## Variables and basic data types\n",
    "\n",
    "Like other programming languages, Python also have similar basic data types such as integers, float, strings, etc. Unlike in C/ C++, you don't need any additional declaration of variables or their variable type, you can straight away start using. Examples given below will clear it for you. "
   ]
  },
  {
   "cell_type": "markdown",
   "metadata": {
    "colab_type": "text",
    "id": "h9EPF0Va4sAV"
   },
   "source": [
    "### Numbers"
   ]
  },
  {
   "cell_type": "code",
   "execution_count": 2,
   "metadata": {
    "colab": {},
    "colab_type": "code",
    "id": "pFhGQUtvvdeV"
   },
   "outputs": [
    {
     "name": "stdout",
     "output_type": "stream",
     "text": [
      "<class 'int'>\n",
      "x is: 2 and x + 1 is: 3\n",
      "x multiply by 3 is: 6 and x^3 is: 8\n",
      "3\n"
     ]
    }
   ],
   "source": [
    "# Integers\n",
    "\n",
    "x = 2 # This will create new integer variable 'x' with value as 2\n",
    "print(type(x))\n",
    "print(\"x is:\",x,\"and x + 1 is:\", x+1) # multiple print statements and addition of two integers\n",
    "print(\"x multiply by 3 is:\",x*3, \"and x^3 is:\", x**3) # multiplication and power of\n",
    "x += 1 # Increment statement\n",
    "print(x) "
   ]
  },
  {
   "cell_type": "code",
   "execution_count": 3,
   "metadata": {
    "colab": {},
    "colab_type": "code",
    "id": "KbfM2EBT5vbJ"
   },
   "outputs": [
    {
     "name": "stdout",
     "output_type": "stream",
     "text": [
      "<class 'float'>\n",
      "x is: 2.0 and x + 1 is: 3.0\n",
      "x multiply by 3 is: 6.0 and x^3 is: 8.0\n",
      "3.0\n"
     ]
    }
   ],
   "source": [
    "# Floats\n",
    "\n",
    "x = 2.0 # This how you create a new float variable\n",
    "print(type(x))\n",
    "print(\"x is:\",x,\"and x + 1 is:\", x+1)\n",
    "print(\"x multiply by 3 is:\",x*3, \"and x^3 is:\", x**3)\n",
    "x += 1\n",
    "print(x)"
   ]
  },
  {
   "cell_type": "code",
   "execution_count": 4,
   "metadata": {
    "colab": {},
    "colab_type": "code",
    "id": "lGUo6SN76SF1"
   },
   "outputs": [
    {
     "name": "stdout",
     "output_type": "stream",
     "text": [
      "2 <class 'int'>\n",
      "3.0 <class 'float'>\n"
     ]
    }
   ],
   "source": [
    "# Type Conversion\n",
    "\n",
    "x = 2\n",
    "print(x, type(x))\n",
    "x += 1.0 # This will convert the integer data type to float data type\n",
    "print(x, type(x))"
   ]
  },
  {
   "cell_type": "markdown",
   "metadata": {
    "colab_type": "text",
    "id": "HBfUfNEQ62MW"
   },
   "source": [
    "### Strings"
   ]
  },
  {
   "cell_type": "code",
   "execution_count": 5,
   "metadata": {
    "colab": {},
    "colab_type": "code",
    "id": "kIwH3fn96n9s"
   },
   "outputs": [
    {
     "name": "stdout",
     "output_type": "stream",
     "text": [
      "<class 'str'>\n",
      "bcs_iitk\n",
      "8\n",
      "bcs_iitk workshop april 2020\n"
     ]
    }
   ],
   "source": [
    "x = \"bcs_iitk\"\n",
    "print(type(x))\n",
    "print(x)\n",
    "print(len(x))\n",
    "\n",
    "y = \"workshop april 2020\"\n",
    "z = x + \" \" + y # This is how you concatenate strings\n",
    "print(z)"
   ]
  },
  {
   "cell_type": "markdown",
   "metadata": {
    "colab_type": "text",
    "id": "Lpe66hWU73Oe"
   },
   "source": [
    "### Booleans"
   ]
  },
  {
   "cell_type": "code",
   "execution_count": 6,
   "metadata": {
    "colab": {},
    "colab_type": "code",
    "id": "RnIwkwJP7PE5"
   },
   "outputs": [
    {
     "name": "stdout",
     "output_type": "stream",
     "text": [
      "<class 'bool'>\n",
      "False\n",
      "True\n",
      "False\n"
     ]
    }
   ],
   "source": [
    "x = True\n",
    "y = False\n",
    "print(type(x))\n",
    "print(x and y)\n",
    "print(x or y)\n",
    "print(not x)"
   ]
  },
  {
   "cell_type": "markdown",
   "metadata": {
    "colab_type": "text",
    "id": "gvxsZehB8O1O"
   },
   "source": [
    "## Lists and Dictionaries"
   ]
  },
  {
   "cell_type": "markdown",
   "metadata": {
    "colab_type": "text",
    "id": "IDh8YHia8hoR"
   },
   "source": [
    "### Lists \n",
    "Lists are container which can contain several elements or values in one variable name. Quite similar to arrays in C/ C++ but with additional features.\n"
   ]
  },
  {
   "cell_type": "markdown",
   "metadata": {
    "colab_type": "text",
    "id": "6G1U7-ki_JyO"
   },
   "source": [
    "#### Creating lists"
   ]
  },
  {
   "cell_type": "code",
   "execution_count": 7,
   "metadata": {
    "colab": {},
    "colab_type": "code",
    "id": "yIjiBvSN8Z-X"
   },
   "outputs": [
    {
     "name": "stdout",
     "output_type": "stream",
     "text": [
      "[5, 1, 8]\n",
      "1st element: 5 and 1st last element: 8\n",
      "Change Value: [5, 2, 8]\n",
      "new element: [5, 2, 8, 4]\n",
      "Removed element: 4 | Left out list: [5, 2, 8]\n",
      "[]\n",
      "y: [5] | x: [2, 8]\n"
     ]
    }
   ],
   "source": [
    "x = [5, 1, 8] # Creating a list of 3 elements\n",
    "print(x)\n",
    "\n",
    "# Calling individual element\n",
    "print(\"1st element:\",x[0],\"and 1st last element:\", x[-1])\n",
    "\n",
    "# change value\n",
    "x[1] = 2\n",
    "print(\"Change Value:\",x)\n",
    "\n",
    "# Add a new element\n",
    "x.append(4)\n",
    "print(\"new element:\",x)\n",
    "\n",
    "# Removing any element at specified index\n",
    "print(\"Removed element:\",x.pop(3), \"| Left out list:\",x)\n",
    "\n",
    "y = [] # Initialising an empty list\n",
    "print(y)\n",
    "y.append(x.pop(0))\n",
    "print(\"y:\",y, \"| x:\",x)"
   ]
  },
  {
   "cell_type": "markdown",
   "metadata": {
    "colab_type": "text",
    "id": "UVoHZB6a_VnH"
   },
   "source": [
    "#### Slicing\n",
    "In python you can easily get the sublists using slicing."
   ]
  },
  {
   "cell_type": "code",
   "execution_count": 8,
   "metadata": {
    "colab": {},
    "colab_type": "code",
    "id": "txf50iau_fIi"
   },
   "outputs": [
    {
     "name": "stdout",
     "output_type": "stream",
     "text": [
      "[0, 1, 2, 3, 4, 5, 6, 7, 8, 9]\n",
      "[2, 4, 6, 8]\n",
      "[0, 1, 2, 3, 4]\n",
      "[5, 6, 7, 8, 9]\n",
      "[3, 4, 5, 6, 7]\n",
      "[3, 4, 5, 3, 4, 5, 6, 7, 8, 9]\n"
     ]
    }
   ],
   "source": [
    "x = [*range(10)] # short trick to create a list containing integers from 0 to 10\n",
    "y = [*range(2,10,2)]\n",
    "print(x)\n",
    "print(y)\n",
    "print(x[:5]) # from starting index to 4\n",
    "print(x[5:]) # from 5 to last index\n",
    "print(x[3:8]) # from 3 to 7\n",
    "x[:3] = [*range(3,6)] # changing value of a slice\n",
    "print(x)"
   ]
  },
  {
   "cell_type": "markdown",
   "metadata": {
    "colab_type": "text",
    "id": "-BjnLk9eMcvo"
   },
   "source": [
    "### Dictionaries\n",
    "Dictionary are variables which stores key-value pairs."
   ]
  },
  {
   "cell_type": "code",
   "execution_count": 9,
   "metadata": {
    "colab": {},
    "colab_type": "code",
    "id": "3os3F0bpAQmt"
   },
   "outputs": [
    {
     "name": "stdout",
     "output_type": "stream",
     "text": [
      "{'Name': 'Shashi', 'Branch': 'Electrical', 'Roll': 160645}\n",
      "Shashi\n",
      "160645\n",
      "{'Name': 'Shashi', 'Branch': 'Electrical', 'Roll': 160645, 'CPI': 'NA'}\n"
     ]
    }
   ],
   "source": [
    "# 'Name', 'Branch' and 'Roll' are keys || 'Shashi', 'Electrical' and 160645 are there respective values\n",
    "student_1 = {'Name': 'Shashi', 'Branch': 'Electrical', 'Roll': 160645}\n",
    "print(student_1)\n",
    "print(student_1['Name'])\n",
    "print(student_1['Roll'])\n",
    "\n",
    "# Adding new key-value pair\n",
    "student_1['CPI'] = 'NA' # :-P\n",
    "print(student_1)"
   ]
  },
  {
   "cell_type": "code",
   "execution_count": null,
   "metadata": {
    "colab": {},
    "colab_type": "code",
    "id": "9kBLLgLWNNdj"
   },
   "outputs": [],
   "source": []
  },
  {
   "cell_type": "markdown",
   "metadata": {
    "colab_type": "text",
    "id": "x_nDVvi1ODC_"
   },
   "source": [
    "## Conditional Statements (if-else)\n",
    "Conditional statements are used for decision making. Unlike C/C++, there is no switch-case thing in Python."
   ]
  },
  {
   "cell_type": "code",
   "execution_count": 10,
   "metadata": {
    "colab": {},
    "colab_type": "code",
    "id": "NWefhWGiOe9y"
   },
   "outputs": [
    {
     "name": "stdout",
     "output_type": "stream",
     "text": [
      "x is 1\n",
      "x is not 1\n",
      "x is 2\n",
      "x is neither 1 nor 2\n"
     ]
    }
   ],
   "source": [
    "x = 1\n",
    "\n",
    "if x == 1:\n",
    "    print(\"x is 1\")\n",
    "else:\n",
    "    print(\"x is not 1\")\n",
    "\n",
    "x = 2\n",
    "if x == 1:\n",
    "    print(\"x is 1\")\n",
    "else:\n",
    "    print(\"x is not 1\")\n",
    "    \n",
    "x = 2\n",
    "if x == 1:\n",
    "    print(\"x is 1\")\n",
    "elif x == 2:\n",
    "    print(\"x is 2\")\n",
    "else:\n",
    "    print(\"x is neither 1 nor 2\")\n",
    "    \n",
    "x = 3\n",
    "if x == 1:\n",
    "    print(\"x is 1\")\n",
    "elif x == 2:\n",
    "    print(\"x is 2\")\n",
    "else:\n",
    "    print(\"x is neither 1 nor 2\")"
   ]
  },
  {
   "cell_type": "markdown",
   "metadata": {
    "colab_type": "text",
    "id": "t6vT8PCDOvbp"
   },
   "source": [
    "## Loops\n",
    "Loops are used to run same kind of lines multiple times."
   ]
  },
  {
   "cell_type": "code",
   "execution_count": 11,
   "metadata": {
    "colab": {},
    "colab_type": "code",
    "id": "bERz0JgSOpjm"
   },
   "outputs": [
    {
     "name": "stdout",
     "output_type": "stream",
     "text": [
      "0\n",
      "1\n",
      "2\n",
      "3\n",
      "4\n",
      "------\n",
      "1\n",
      "3\n",
      "5\n",
      "7\n"
     ]
    }
   ],
   "source": [
    "# general loop\n",
    "for i in range(5):\n",
    "    print(i)\n",
    "\n",
    "print('------')\n",
    "for i in range(1, 8, 2):\n",
    "    print(i)"
   ]
  },
  {
   "cell_type": "code",
   "execution_count": 12,
   "metadata": {
    "colab": {},
    "colab_type": "code",
    "id": "LZ9gypggPDQ2"
   },
   "outputs": [
    {
     "name": "stdout",
     "output_type": "stream",
     "text": [
      "2\n",
      "5\n",
      "6\n"
     ]
    }
   ],
   "source": [
    "# Looping over a list\n",
    "x = [2, 5, 6]\n",
    "for i in x:\n",
    "    print(i)"
   ]
  },
  {
   "cell_type": "code",
   "execution_count": 13,
   "metadata": {
    "colab": {},
    "colab_type": "code",
    "id": "iJw_ju-RPTwv"
   },
   "outputs": [
    {
     "name": "stdout",
     "output_type": "stream",
     "text": [
      "[0, 1, 2, 3, 4]\n",
      "[0, 1, 4, 9, 16]\n"
     ]
    }
   ],
   "source": [
    "# list comprehension\n",
    "x = [*range(5)]\n",
    "x_sq = [i ** 2 for i in x]\n",
    "print(x)\n",
    "print(x_sq)"
   ]
  },
  {
   "cell_type": "code",
   "execution_count": 14,
   "metadata": {
    "colab": {},
    "colab_type": "code",
    "id": "_gxO4oaJPbet"
   },
   "outputs": [
    {
     "name": "stdout",
     "output_type": "stream",
     "text": [
      "1\n",
      "2\n",
      "3\n",
      "4\n"
     ]
    }
   ],
   "source": [
    "# while loop\n",
    "x = 1\n",
    "while x<5:\n",
    "    print(x)\n",
    "    x+=1"
   ]
  },
  {
   "cell_type": "markdown",
   "metadata": {
    "colab_type": "text",
    "id": "FwSPz2zjPipe"
   },
   "source": [
    "## Functions\n",
    "Defined simply using ```def``` keyword. Can return as many variable as much you want. Can take optional keyword arguments as well."
   ]
  },
  {
   "cell_type": "code",
   "execution_count": 15,
   "metadata": {
    "colab": {},
    "colab_type": "code",
    "id": "755MZpcjPg0a"
   },
   "outputs": [
    {
     "name": "stdout",
     "output_type": "stream",
     "text": [
      "x^2 + x + 1 at x = 0 is: 1\n",
      "x^2 + x + 1 at x = 1 is: 3\n",
      "x^2 + x + 1 at x = 2 is: 7\n",
      "2x^2 + x + 1 at x = 2 is: 4\n"
     ]
    }
   ],
   "source": [
    "# simple python function\n",
    "def poly(poly_idx, x):\n",
    "    value = 0\n",
    "    l = len(poly_idx) - 1\n",
    "    \n",
    "    for i in range(l+1):\n",
    "        value += poly_idx[i]*(x**(l-i))\n",
    "        \n",
    "    return value\n",
    "\n",
    "print(\"x^2 + x + 1 at x = 0 is:\", poly([1, 1, 1], 0))\n",
    "print(\"x^2 + x + 1 at x = 1 is:\", poly([1, 1, 1], 1))\n",
    "print(\"x^2 + x + 1 at x = 2 is:\", poly([1, 1, 1], 2))\n",
    "print(\"2x^2 + x + 1 at x = 2 is:\", poly([2, 1, 1], 1))"
   ]
  },
  {
   "cell_type": "code",
   "execution_count": 16,
   "metadata": {
    "colab": {},
    "colab_type": "code",
    "id": "kSf6RCaJQAY_"
   },
   "outputs": [
    {
     "name": "stdout",
     "output_type": "stream",
     "text": [
      "1 2 3\n"
     ]
    }
   ],
   "source": [
    "# function which can return multiple var\n",
    "def get_data():\n",
    "  return 1, 2, 3\n",
    "\n",
    "x, y, z = get_data()\n",
    "\n",
    "print(x, y, z)"
   ]
  },
  {
   "cell_type": "code",
   "execution_count": 17,
   "metadata": {
    "colab": {},
    "colab_type": "code",
    "id": "z2EGiHHBSMdr"
   },
   "outputs": [
    {
     "name": "stdout",
     "output_type": "stream",
     "text": [
      "Hi Shashi!\n",
      "Bye Shashi!\n"
     ]
    }
   ],
   "source": [
    "# function with optional keyword argument\n",
    "def greet(to_whom, greet_type=\"Hi\"):\n",
    "  print(greet_type, \"Shashi!\")\n",
    "\n",
    "greet(\"Shashi\")\n",
    "greet(\"Shashi\", greet_type=\"Bye\")"
   ]
  },
  {
   "cell_type": "markdown",
   "metadata": {
    "colab_type": "text",
    "id": "YaKU_FfMTfDz"
   },
   "source": [
    "## Classes"
   ]
  },
  {
   "cell_type": "code",
   "execution_count": 18,
   "metadata": {
    "colab": {},
    "colab_type": "code",
    "id": "gQ7xYRiLTX4a"
   },
   "outputs": [
    {
     "name": "stdout",
     "output_type": "stream",
     "text": [
      "160645\n",
      "Hi Shashi\n",
      "Bye Shashi\n"
     ]
    }
   ],
   "source": [
    "class Person():\n",
    "    def __init__(self, name, roll):\n",
    "        self.name = name\n",
    "        self.roll = roll\n",
    "        \n",
    "    def get_roll(self):\n",
    "        return self.roll\n",
    "    \n",
    "    def greet(self, say_hi_bye=\"Hi\"):\n",
    "        print(say_hi_bye, self.name) \n",
    "        \n",
    "p1 = Person(name=\"Shashi\", roll=160645)\n",
    "\n",
    "print(p1.get_roll())\n",
    "p1.greet()\n",
    "p1.greet(say_hi_bye=\"Bye\")"
   ]
  },
  {
   "cell_type": "markdown",
   "metadata": {
    "colab_type": "text",
    "id": "UHYk-BexVCFT"
   },
   "source": [
    "## Practice Assignment - 1 [Not graded]"
   ]
  },
  {
   "cell_type": "markdown",
   "metadata": {
    "colab_type": "text",
    "id": "11IM79czVT1A"
   },
   "source": [
    "### Try creating merge sort algorithm\n",
    "\n"
   ]
  },
  {
   "cell_type": "markdown",
   "metadata": {
    "colab_type": "text",
    "id": "8BL2Z32vWoVU"
   },
   "source": [
    "Pseudo code is given below:\n",
    "\n",
    "```\n",
    "// SRC: https://www.geeksforgeeks.org/merge-sort/\n",
    "\n",
    "MergeSort(arr[], l,  r)\n",
    "If r > l\n",
    "     1. Find the middle point to divide the array into two halves:  \n",
    "             middle m = (l+r)/2\n",
    "     2. Call mergeSort for first half:   \n",
    "             Call mergeSort(arr, l, m)\n",
    "     3. Call mergeSort for second half:\n",
    "             Call mergeSort(arr, m+1, r)\n",
    "     4. Merge the two halves sorted in step 2 and 3:\n",
    "             Call merge(arr, l, m, r)\n",
    "```"
   ]
  },
  {
   "cell_type": "code",
   "execution_count": 75,
   "metadata": {
    "colab": {},
    "colab_type": "code",
    "id": "3Z0PD7VVWSIo"
   },
   "outputs": [
    {
     "data": {
      "text/plain": [
       "[3, 9, 10, 27, 38, 43, 82]"
      ]
     },
     "execution_count": 75,
     "metadata": {},
     "output_type": "execute_result"
    }
   ],
   "source": [
    "def merge(a, b):\n",
    "    i = 0\n",
    "    j = 0\n",
    "    c = []\n",
    "    while i<len(a) and j < len(b):\n",
    "        if a[i] <= b[j]:\n",
    "            c.append(a[i])\n",
    "            i += 1\n",
    "        else:\n",
    "            c.append(b[j])\n",
    "            j += 1\n",
    "    while i < len(a):\n",
    "        c.append(a[i])\n",
    "        i += 1\n",
    "    while j < len(b):\n",
    "        c.append(b[j])\n",
    "        j += 1\n",
    "        \n",
    "    return c\n",
    "    \n",
    "def MergeSort(arr):\n",
    "    if len(arr) > 1:\n",
    "        mid = len(arr)//2\n",
    "        a = arr[:mid]\n",
    "        b = arr[mid:]\n",
    "        MergeSort(a)\n",
    "        MergeSort(b)\n",
    "        i = 0\n",
    "        j = 0\n",
    "        k = 0\n",
    "        while i<len(a) and j < len(b):\n",
    "            if a[i] <= b[j]:\n",
    "                arr[k] = (a[i])\n",
    "                i += 1\n",
    "                k += 1\n",
    "            else:\n",
    "                arr[k] = (b[j])\n",
    "                j += 1\n",
    "                k += 1\n",
    "        while i < len(a):\n",
    "            arr[k] = (a[i])\n",
    "            i += 1\n",
    "            k += 1\n",
    "        while j < len(b):\n",
    "            arr[k] = (b[j])\n",
    "            j += 1\n",
    "            k += 1\n",
    "        \n",
    "\n",
    "arr = [38, 27, 43, 3, 9, 82, 10]\n",
    "MergeSort(arr)\n",
    "arr"
   ]
  },
  {
   "cell_type": "code",
   "execution_count": 63,
   "metadata": {},
   "outputs": [
    {
     "name": "stdout",
     "output_type": "stream",
     "text": [
      "[10, 2]\n"
     ]
    },
    {
     "data": {
      "text/plain": [
       "[10, 2]"
      ]
     },
     "execution_count": 63,
     "metadata": {},
     "output_type": "execute_result"
    }
   ],
   "source": [
    "a = [1, 2]\n",
    "def func(a):\n",
    "    a[0] = 10\n",
    "func(a)\n",
    "print((a))\n",
    "a"
   ]
  },
  {
   "cell_type": "markdown",
   "metadata": {
    "colab_type": "text",
    "id": "5r0oyV2VUiQE"
   },
   "source": [
    "## SciPy\n",
    "It contains a collection of python packages for mathematics, science and egineering. We will be covering some of the basics of some of the important packages: **NumPy** and **Matplotlib**"
   ]
  },
  {
   "cell_type": "markdown",
   "metadata": {
    "colab_type": "text",
    "id": "J-c7oLkUYqT2"
   },
   "source": [
    "### NumPy"
   ]
  },
  {
   "cell_type": "markdown",
   "metadata": {
    "colab_type": "text",
    "id": "FROjbDpsYFLp"
   },
   "source": [
    "#### General"
   ]
  },
  {
   "cell_type": "code",
   "execution_count": 20,
   "metadata": {
    "colab": {},
    "colab_type": "code",
    "id": "vterOnKZTpq7"
   },
   "outputs": [],
   "source": [
    "import numpy as np # this is how you import libraries in Python"
   ]
  },
  {
   "cell_type": "code",
   "execution_count": 21,
   "metadata": {
    "colab": {},
    "colab_type": "code",
    "id": "P6KQpbT-XF02"
   },
   "outputs": [
    {
     "name": "stdout",
     "output_type": "stream",
     "text": [
      "[3 1 5]\n",
      "(3,)\n",
      "1\n",
      "[3 1]\n",
      "[[1 2]\n",
      " [3 4]]\n"
     ]
    }
   ],
   "source": [
    "# creating numpy arrays\n",
    "x = np.asarray([3, 1, 5])\n",
    "print(x)\n",
    "print(x.shape)\n",
    "print(x[1])\n",
    "print(x[:2])\n",
    "\n",
    "print(np.asarray([[1, 2],[3, 4]]))"
   ]
  },
  {
   "cell_type": "code",
   "execution_count": 22,
   "metadata": {
    "colab": {},
    "colab_type": "code",
    "id": "rooU0xOlXJ5T"
   },
   "outputs": [
    {
     "name": "stdout",
     "output_type": "stream",
     "text": [
      "(2, 2)\n",
      "[[0.03869482 0.39045962]\n",
      " [0.14858588 0.30223195]]\n",
      "0.3022319465788832\n"
     ]
    }
   ],
   "source": [
    "x = np.random.random((2,2)) #random 2x2 array\n",
    "print(x.shape)\n",
    "print(x)\n",
    "print(x[1, 1])"
   ]
  },
  {
   "cell_type": "code",
   "execution_count": 23,
   "metadata": {
    "colab": {},
    "colab_type": "code",
    "id": "yMVvh4vvXXhK"
   },
   "outputs": [
    {
     "name": "stdout",
     "output_type": "stream",
     "text": [
      "[ 0  1  2  3  4  5  6  7  8  9 10 11 12 13 14 15]\n",
      "[[ 0  1  2  3]\n",
      " [ 4  5  6  7]\n",
      " [ 8  9 10 11]\n",
      " [12 13 14 15]]\n"
     ]
    }
   ],
   "source": [
    "x = np.arange(16) #linear array with values ranging from 0 to 15\n",
    "print(x)\n",
    "x = x.reshape((4,4)) #reshaping\n",
    "print(x)"
   ]
  },
  {
   "cell_type": "code",
   "execution_count": 24,
   "metadata": {
    "colab": {},
    "colab_type": "code",
    "id": "lM7N2bADXllq"
   },
   "outputs": [
    {
     "name": "stdout",
     "output_type": "stream",
     "text": [
      "(2, 3)\n",
      "[[1 2 3]\n",
      " [5 6 7]]\n",
      "2 3\n"
     ]
    }
   ],
   "source": [
    "# indexing\n",
    "y = x[:2, 1:]\n",
    "print(y.shape)\n",
    "print(y)\n",
    "print(y.shape[0], y.shape[1])"
   ]
  },
  {
   "cell_type": "code",
   "execution_count": 25,
   "metadata": {
    "colab": {},
    "colab_type": "code",
    "id": "qU7nRXD_XojO"
   },
   "outputs": [
    {
     "name": "stdout",
     "output_type": "stream",
     "text": [
      "[0 1 2 3 4 5 6 7]\n",
      "[False False False False False False  True  True]\n",
      "[6 7]\n"
     ]
    }
   ],
   "source": [
    "# boolean indexing\n",
    "x = np.arange(8)\n",
    "print(x)\n",
    "print(x>5)\n",
    "print(x[x>5])"
   ]
  },
  {
   "cell_type": "markdown",
   "metadata": {
    "colab_type": "text",
    "id": "8eIgkAT5YJWM"
   },
   "source": [
    "#### Broadcasting"
   ]
  },
  {
   "cell_type": "code",
   "execution_count": 26,
   "metadata": {
    "colab": {},
    "colab_type": "code",
    "id": "uxGbQ1q8XyQM"
   },
   "outputs": [
    {
     "name": "stdout",
     "output_type": "stream",
     "text": [
      "[ 2.  5. 10. 17.]\n",
      "[ 2  5 10 17]\n"
     ]
    }
   ],
   "source": [
    "# Broadcasting \n",
    "\n",
    "x = np.asarray([1, 4, 9, 16])\n",
    "y = np.ones(4,)\n",
    "\n",
    "## Adding 1\n",
    "\n",
    "# Usual way\n",
    "print(x+y)\n",
    "# broadcasting\n",
    "print(x+1)"
   ]
  },
  {
   "cell_type": "code",
   "execution_count": 27,
   "metadata": {
    "colab": {},
    "colab_type": "code",
    "id": "trYTS4jFX9gA"
   },
   "outputs": [
    {
     "name": "stdout",
     "output_type": "stream",
     "text": [
      "[[1 2]\n",
      " [3 4]]\n",
      "[[2]\n",
      " [1]]\n",
      "[[3 4]\n",
      " [4 5]]\n"
     ]
    }
   ],
   "source": [
    "x = np.asarray([[1, 2], [3, 4]])\n",
    "y = np.asarray([[2], [1]])\n",
    "\n",
    "print(x)\n",
    "print(y)\n",
    "print(x+y)"
   ]
  },
  {
   "cell_type": "code",
   "execution_count": 28,
   "metadata": {
    "colab": {},
    "colab_type": "code",
    "id": "dA87Gwd_YOV1"
   },
   "outputs": [
    {
     "name": "stdout",
     "output_type": "stream",
     "text": [
      "[[2 4]\n",
      " [6 8]]\n"
     ]
    }
   ],
   "source": [
    "print(x*2) #multiplied to all the indexes"
   ]
  },
  {
   "cell_type": "code",
   "execution_count": 29,
   "metadata": {
    "colab": {},
    "colab_type": "code",
    "id": "cXDktx_MYRrK"
   },
   "outputs": [
    {
     "name": "stdout",
     "output_type": "stream",
     "text": [
      "[[2 4]\n",
      " [3 4]]\n"
     ]
    }
   ],
   "source": [
    "print(x*y) #again mulptiplication"
   ]
  },
  {
   "cell_type": "code",
   "execution_count": 30,
   "metadata": {
    "colab": {},
    "colab_type": "code",
    "id": "gwURP8PiYXqg"
   },
   "outputs": [
    {
     "name": "stdout",
     "output_type": "stream",
     "text": [
      "[[ 4]\n",
      " [10]]\n"
     ]
    }
   ],
   "source": [
    "print(np.dot(x, y)) #dot product"
   ]
  },
  {
   "cell_type": "code",
   "execution_count": 31,
   "metadata": {
    "colab": {},
    "colab_type": "code",
    "id": "FLx9UDryYdn9"
   },
   "outputs": [
    {
     "name": "stdout",
     "output_type": "stream",
     "text": [
      "(2, 1)\n",
      "(1, 2)\n"
     ]
    }
   ],
   "source": [
    "print(y.shape)\n",
    "print(y.T.shape) # transpose"
   ]
  },
  {
   "cell_type": "markdown",
   "metadata": {
    "colab_type": "text",
    "id": "13i6ciPkYuvT"
   },
   "source": [
    "### MatplotLib"
   ]
  },
  {
   "cell_type": "code",
   "execution_count": 40,
   "metadata": {
    "colab": {},
    "colab_type": "code",
    "id": "gAAqg7qtYhKc"
   },
   "outputs": [],
   "source": [
    "import matplotlib.pyplot as plt # creating a shorthand name for the imported library"
   ]
  },
  {
   "cell_type": "code",
   "execution_count": 45,
   "metadata": {
    "colab": {},
    "colab_type": "code",
    "id": "1APdjTtUY7ef"
   },
   "outputs": [
    {
     "name": "stdout",
     "output_type": "stream",
     "text": [
      "[ 0.   0.2  0.4  0.6  0.8  1.   1.2  1.4  1.6  1.8  2.   2.2  2.4  2.6\n",
      "  2.8  3.   3.2  3.4  3.6  3.8  4.   4.2  4.4  4.6  4.8  5.   5.2  5.4\n",
      "  5.6  5.8  6.   6.2  6.4  6.6  6.8  7.   7.2  7.4  7.6  7.8  8.   8.2\n",
      "  8.4  8.6  8.8  9.   9.2  9.4  9.6  9.8 10.  10.2 10.4 10.6 10.8 11.\n",
      " 11.2 11.4 11.6 11.8 12.  12.2 12.4 12.6 12.8 13.  13.2 13.4 13.6 13.8\n",
      " 14.  14.2 14.4 14.6 14.8 15.  15.2 15.4 15.6 15.8 16.  16.2 16.4 16.6\n",
      " 16.8 17.  17.2 17.4 17.6 17.8 18.  18.2 18.4 18.6 18.8]\n"
     ]
    },
    {
     "data": {
      "image/png": "[encoded data removed]",
      "text/plain": [
       "<Figure size 432x288 with 1 Axes>"
      ]
     },
     "metadata": {
      "needs_background": "light"
     },
     "output_type": "display_data"
    }
   ],
   "source": [
    "x = np.arange(0, 6 * np.pi, 0.2)\n",
    "print(x)\n",
    "ys = np.sin(x)\n",
    "yc = np.cos(x)\n",
    "\n",
    "plt.plot(x, ys)\n",
    "plt.plot(x, yc)\n",
    "plt.xlabel('x axis')\n",
    "plt.ylabel('y axis')\n",
    "plt.title('Sin and Cos Curve')\n",
    "plt.legend(['Sin', 'Cos'])\n",
    "plt.grid()"
   ]
  },
  {
   "cell_type": "markdown",
   "metadata": {
    "colab_type": "text",
    "id": "O3VDV0UdZEDn"
   },
   "source": [
    "### SciPy Stats\n",
    "Those who don't have any backgrounds in statistics can get back here after completing the stats lecture."
   ]
  },
  {
   "cell_type": "code",
   "execution_count": 34,
   "metadata": {
    "colab": {},
    "colab_type": "code",
    "id": "HMnP6TpzY_nR"
   },
   "outputs": [],
   "source": [
    "import scipy.stats\n",
    "\n",
    "rv = scipy.stats.norm(0, 1) # getting a normal random var of mean=0 and var=1"
   ]
  },
  {
   "cell_type": "code",
   "execution_count": 35,
   "metadata": {
    "colab": {},
    "colab_type": "code",
    "id": "iKkVD5AqaZYF"
   },
   "outputs": [
    {
     "name": "stdout",
     "output_type": "stream",
     "text": [
      "[-2.51263491 -1.41876539 -1.46593504 ... -0.5051484   0.2453412\n",
      " -0.34140396]\n",
      "(10000,)\n"
     ]
    }
   ],
   "source": [
    "samples = rv.rvs(10000) # taking a random sample\n",
    "print(samples)\n",
    "print(samples.shape)"
   ]
  },
  {
   "cell_type": "code",
   "execution_count": 36,
   "metadata": {
    "colab": {},
    "colab_type": "code",
    "id": "8EwEhd6eZX2-"
   },
   "outputs": [
    {
     "name": "stdout",
     "output_type": "stream",
     "text": [
      "(160,)\n",
      "(160,)\n"
     ]
    }
   ],
   "source": [
    "x = np.arange(-4, 4, 0.05)\n",
    "print(x.shape)\n",
    "y = rv.pdf(x) #will give the probability distribution function of the random var 'rv'\n",
    "print(y.shape)"
   ]
  },
  {
   "cell_type": "code",
   "execution_count": 37,
   "metadata": {
    "colab": {},
    "colab_type": "code",
    "id": "3a6cKS86aLPn"
   },
   "outputs": [
    {
     "data": {
      "text/plain": [
       "[<matplotlib.lines.Line2D at 0x7efc1414d9d0>]"
      ]
     },
     "execution_count": 37,
     "metadata": {},
     "output_type": "execute_result"
    },
    {
     "data": {
      "image/png": "[encoded data removed]",
      "text/plain": [
       "<Figure size 432x288 with 1 Axes>"
      ]
     },
     "metadata": {
      "needs_background": "light"
     },
     "output_type": "display_data"
    }
   ],
   "source": [
    "temp = plt.hist(samples, density=True, bins=100) # plot histogram i.e. frequency dist\n",
    "plt.plot(x, y, 'r-', lw=3)"
   ]
  },
  {
   "cell_type": "code",
   "execution_count": 38,
   "metadata": {
    "colab": {},
    "colab_type": "code",
    "id": "HgHfaAp5aTK-"
   },
   "outputs": [
    {
     "data": {
      "text/plain": [
       "[<matplotlib.lines.Line2D at 0x7efc140f7cd0>]"
      ]
     },
     "execution_count": 38,
     "metadata": {},
     "output_type": "execute_result"
    },
    {
     "data": {
      "image/png": "[encoded data removed]",
      "text/plain": [
       "<Figure size 432x288 with 1 Axes>"
      ]
     },
     "metadata": {
      "needs_background": "light"
     },
     "output_type": "display_data"
    }
   ],
   "source": [
    "# An another example with mean=5 and var=1\n",
    "rv = scipy.stats.norm(5, 1)\n",
    "samples = rv.rvs(10000)\n",
    "x = np.arange(0, 10, 0.05)\n",
    "y = rv.pdf(x)\n",
    "temp = plt.hist(samples, density=True, bins=100)\n",
    "plt.plot(x, y, 'r-', lw=3)"
   ]
  },
  {
   "cell_type": "code",
   "execution_count": 39,
   "metadata": {
    "colab": {},
    "colab_type": "code",
    "id": "hAe_p8hwamqG"
   },
   "outputs": [
    {
     "data": {
      "text/plain": [
       "[<matplotlib.lines.Line2D at 0x7efc13e859d0>]"
      ]
     },
     "execution_count": 39,
     "metadata": {},
     "output_type": "execute_result"
    },
    {
     "data": {
      "image/png": "[encoded data removed]",
      "text/plain": [
       "<Figure size 432x288 with 1 Axes>"
      ]
     },
     "metadata": {
      "needs_background": "light"
     },
     "output_type": "display_data"
    }
   ],
   "source": [
    "# An another example with mean=0 and var=3\n",
    "rv = scipy.stats.norm(0, 3)\n",
    "samples = rv.rvs(10000)\n",
    "x = np.arange(-5, 5, 0.05)\n",
    "y = rv.pdf(x)\n",
    "temp = plt.hist(samples, density=True, bins=100)\n",
    "plt.plot(x, y, 'r-', lw=3)"
   ]
  },
  {
   "cell_type": "markdown",
   "metadata": {
    "colab_type": "text",
    "id": "sD5uON7QoiNc"
   },
   "source": [
    "# For further reference\n",
    "\n",
    "\n",
    "*   [A Byte of Python](https://python.swaroopch.com/)\n",
    "*   [NumPy Quickstart Tutorial](https://numpy.org/devdocs/user/quickstart.html#further-reading)\n",
    "*   [Scipy Lecture Notes](https://numpy.org/devdocs/user/quickstart.html#further-reading)\n",
    "\n"
   ]
  }
 ],
 "metadata": {
  "colab": {
   "collapsed_sections": [
    "f1UTiaLrwD-8",
    "Ki5oKWco3F67",
    "h9EPF0Va4sAV",
    "HBfUfNEQ62MW",
    "Lpe66hWU73Oe",
    "gvxsZehB8O1O",
    "IDh8YHia8hoR",
    "6G1U7-ki_JyO",
    "UVoHZB6a_VnH",
    "-BjnLk9eMcvo",
    "x_nDVvi1ODC_",
    "t6vT8PCDOvbp",
    "FwSPz2zjPipe",
    "YaKU_FfMTfDz",
    "UHYk-BexVCFT",
    "11IM79czVT1A",
    "5r0oyV2VUiQE",
    "J-c7oLkUYqT2",
    "FROjbDpsYFLp",
    "8eIgkAT5YJWM",
    "13i6ciPkYuvT",
    "O3VDV0UdZEDn"
   ],
   "name": "Python_Tutorial.ipynb",
   "provenance": [],
   "toc_visible": true
  },
  "kernelspec": {
   "display_name": "Python 3",
   "language": "python",
   "name": "python3"
  },
  "language_info": {
   "codemirror_mode": {
    "name": "ipython",
    "version": 3
   },
   "file_extension": ".py",
   "mimetype": "text/x-python",
   "name": "python",
   "nbconvert_exporter": "python",
   "pygments_lexer": "ipython3",
   "version": "3.7.7"
  }
 },
 "nbformat": 4,
 "nbformat_minor": 1
}
