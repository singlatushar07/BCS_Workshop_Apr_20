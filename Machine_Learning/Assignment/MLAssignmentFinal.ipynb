{
  "nbformat": 4,
  "nbformat_minor": 0,
  "metadata": {
    "colab": {
      "name": "MLAssignment.ipynb",
      "provenance": [],
      "collapsed_sections": [
        "qH7ubidoNaEv",
        "pbkIHLK7NFEw",
        "oizARLSBNMxB",
        "Ios3sB8ZYDTN",
        "yI5oHjVbZkIW"
      ],
      "machine_shape": "hm",
      "include_colab_link": true
    },
    "kernelspec": {
      "name": "python3",
      "display_name": "Python 3"
    },
    "accelerator": "GPU"
  },
  "cells": [
    {
      "cell_type": "markdown",
      "metadata": {
        "id": "view-in-github",
        "colab_type": "text"
      },
      "source": [
        "<a href=\"https://colab.research.google.com/github/singlatushar07/BCS_Workshop_Apr_20/blob/master/Machine_Learning/Assignment/MLAssignmentFinal.ipynb\" target=\"_parent\"><img src=\"https://colab.research.google.com/assets/colab-badge.svg\" alt=\"Open In Colab\"/></a>"
      ]
    },
    {
      "cell_type": "markdown",
      "metadata": {
        "id": "xgTHW1jTc94u",
        "colab_type": "text"
      },
      "source": [
        "<table class=\"tfo-notebook-buttons\" align=\"left\">\n",
        "  <td>\n",
        "    <a target=\"_blank\" href=\"https://colab.research.google.com/github/bcs-iitk/BCS_Workshop_Apr_20/blob/master/Machine_Learning/Assignment/ML.ipynb\"><img src=\"https://www.tensorflow.org/images/colab_logo_32px.png\" />Run in Google Colab</a>\n",
        "  </td>\n",
        "  <td>\n",
        "    <a target=\"_blank\" href=\"https://github.com/bcs-iitk/BCS_Workshop_Apr_20/blob/master/Machine_Learning/Assignment/ML.ipynb\"><img src=\"https://www.tensorflow.org/images/GitHub-Mark-32px.png\" />View source on GitHub</a>\n",
        "  </td>\n",
        "  <td>\n",
        "    <a href=\"https://github.com/bcs-iitk/BCS_Workshop_Apr_20/raw/master/Machine_Learning/Assignment/ML.ipynb\"><img src=\"https://www.tensorflow.org/images/download_logo_32px.png\" />Download notebook</a>\n",
        "  </td>\n",
        "</table>"
      ]
    },
    {
      "cell_type": "code",
      "metadata": {
        "id": "BiU-x0ujcRkE",
        "colab_type": "code",
        "colab": {}
      },
      "source": [
        "# Copyright (c) 2020 Brain and Cognitive Society, IIT Kanpur [ BCS @IITK ]\n",
        "# Copyright under MIT License, must reference https://github.com/bcs-iitk/BCS_Workshop_Apr_20 if used anywhere else.\n",
        "# Author: Shashi Kant (http://shashikg.github.io/)"
      ],
      "execution_count": 0,
      "outputs": []
    },
    {
      "cell_type": "markdown",
      "metadata": {
        "id": "-6GMP27JdNG2",
        "colab_type": "text"
      },
      "source": [
        "\n",
        "\n",
        "> Note: Do not forget to click on **Copy to Drive** in Google Colab to save a copy of this assignment.\n",
        "\n",
        "![copy2drive](https://github.com/bcs-iitk/BCS_Workshop_Apr_20/raw/master/Machine_Learning/Assignment/copy2drive.png)\n",
        "\n"
      ]
    },
    {
      "cell_type": "markdown",
      "metadata": {
        "id": "UWRTh7z2ZmM2",
        "colab_type": "text"
      },
      "source": [
        "# Assignment 1: Machine Learning\n"
      ]
    },
    {
      "cell_type": "markdown",
      "metadata": {
        "id": "UkJr6Lh9aIem",
        "colab_type": "text"
      },
      "source": [
        "## Question 1: Linear Regression\n",
        "To check whether you are able to build simple linear regression model from scratch or not."
      ]
    },
    {
      "cell_type": "code",
      "metadata": {
        "id": "wq1ZliSEuhTw",
        "colab_type": "code",
        "outputId": "69367753-c2d7-49c6-dfe4-1f2f9dd24097",
        "colab": {
          "base_uri": "https://localhost:8080/",
          "height": 573
        }
      },
      "source": [
        "import numpy as np\n",
        "import matplotlib.pyplot as plt\n",
        "\n",
        "!wget --no-check-certificate https://github.com/bcs-iitk/BCS_Workshop_Apr_20/raw/master/Machine_Learning/Assignment/X.npy -O X.npy\n",
        "!wget --no-check-certificate https://github.com/bcs-iitk/BCS_Workshop_Apr_20/raw/master/Machine_Learning/Assignment/y.npy -O y.npy"
      ],
      "execution_count": 16,
      "outputs": [
        {
          "output_type": "stream",
          "text": [
            "--2020-04-04 18:30:52--  https://github.com/bcs-iitk/BCS_Workshop_Apr_20/raw/master/Machine_Learning/Assignment/X.npy\n",
            "Resolving github.com (github.com)... 192.30.255.113\n",
            "Connecting to github.com (github.com)|192.30.255.113|:443... connected.\n",
            "HTTP request sent, awaiting response... 302 Found\n",
            "Location: https://raw.githubusercontent.com/bcs-iitk/BCS_Workshop_Apr_20/master/Machine_Learning/Assignment/X.npy [following]\n",
            "--2020-04-04 18:30:52--  https://raw.githubusercontent.com/bcs-iitk/BCS_Workshop_Apr_20/master/Machine_Learning/Assignment/X.npy\n",
            "Resolving raw.githubusercontent.com (raw.githubusercontent.com)... 151.101.0.133, 151.101.64.133, 151.101.128.133, ...\n",
            "Connecting to raw.githubusercontent.com (raw.githubusercontent.com)|151.101.0.133|:443... connected.\n",
            "HTTP request sent, awaiting response... 200 OK\n",
            "Length: 528 [application/octet-stream]\n",
            "Saving to: ‘X.npy’\n",
            "\n",
            "\rX.npy                 0%[                    ]       0  --.-KB/s               \rX.npy               100%[===================>]     528  --.-KB/s    in 0s      \n",
            "\n",
            "2020-04-04 18:30:52 (37.6 MB/s) - ‘X.npy’ saved [528/528]\n",
            "\n",
            "--2020-04-04 18:30:55--  https://github.com/bcs-iitk/BCS_Workshop_Apr_20/raw/master/Machine_Learning/Assignment/y.npy\n",
            "Resolving github.com (github.com)... 192.30.255.113\n",
            "Connecting to github.com (github.com)|192.30.255.113|:443... connected.\n",
            "HTTP request sent, awaiting response... 302 Found\n",
            "Location: https://raw.githubusercontent.com/bcs-iitk/BCS_Workshop_Apr_20/master/Machine_Learning/Assignment/y.npy [following]\n",
            "--2020-04-04 18:30:55--  https://raw.githubusercontent.com/bcs-iitk/BCS_Workshop_Apr_20/master/Machine_Learning/Assignment/y.npy\n",
            "Resolving raw.githubusercontent.com (raw.githubusercontent.com)... 151.101.0.133, 151.101.64.133, 151.101.128.133, ...\n",
            "Connecting to raw.githubusercontent.com (raw.githubusercontent.com)|151.101.0.133|:443... connected.\n",
            "HTTP request sent, awaiting response... 200 OK\n",
            "Length: 528 [application/octet-stream]\n",
            "Saving to: ‘y.npy’\n",
            "\n",
            "y.npy               100%[===================>]     528  --.-KB/s    in 0s      \n",
            "\n",
            "2020-04-04 18:30:55 (103 MB/s) - ‘y.npy’ saved [528/528]\n",
            "\n"
          ],
          "name": "stdout"
        }
      ]
    },
    {
      "cell_type": "code",
      "metadata": {
        "id": "021fTYdwTkZm",
        "colab_type": "code",
        "colab": {}
      },
      "source": [
        "def load_data_LR():\n",
        "  # Implement this function to read the dataset using the path declared in path_X and path_y\n",
        "  # should return the X and y data\n",
        "  # use np.load() to load the data google it you will get to know how to do it\n",
        "\n",
        "  path_X = \"X.npy\"\n",
        "  path_y = \"y.npy\"\n",
        "\n",
        "  # Write your code here ----------\n",
        "  X = np.load(path_X)\n",
        "  y = np.load(path_y)\n",
        "  X = np.column_stack((np.ones((y.shape[0], 1)), X))\n",
        "  # -------------------------------\n",
        "\n",
        "  return X, y"
      ],
      "execution_count": 0,
      "outputs": []
    },
    {
      "cell_type": "code",
      "metadata": {
        "id": "Ngg3QUyTfBxC",
        "colab_type": "code",
        "colab": {}
      },
      "source": [
        "def get_linear_model(X, y):\n",
        "  # This shoudl return a proper linear model without bias of type y = XW\n",
        "\n",
        "  # Write your code here ----------\n",
        "  D = X.shape[1]\n",
        "  out_shape = y.shape[1]\n",
        "  # -------------------------------\n",
        "  \n",
        "  W = np.random.randn(D, out_shape)\n",
        "\n",
        "  return W"
      ],
      "execution_count": 0,
      "outputs": []
    },
    {
      "cell_type": "code",
      "metadata": {
        "id": "c52FIGu-hlzM",
        "colab_type": "code",
        "colab": {}
      },
      "source": [
        "def MSE(y, y_pred):\n",
        "  # should return the mean square error between the actual y and predicted y\n",
        "\n",
        "  # Write your code here ----------\n",
        "  error = np.subtract(y,y_pred)\n",
        "  error = np.square(error).sum()\n",
        "  # -------------------------------\n",
        "\n",
        "  return error"
      ],
      "execution_count": 0,
      "outputs": []
    },
    {
      "cell_type": "code",
      "metadata": {
        "id": "zrBrqA15hCdT",
        "colab_type": "code",
        "colab": {}
      },
      "source": [
        "def train_by_algebra(X, y):\n",
        "  # should return the trained weight 'W' using the linear algebra method i.e. setting dE/dW = 0\n",
        "\n",
        "  # Write your code here ----------\n",
        "  W = np.linalg.pinv(X.T@X)@X.T@y\n",
        "  # -------------------------------\n",
        "\n",
        "  return W"
      ],
      "execution_count": 0,
      "outputs": []
    },
    {
      "cell_type": "code",
      "metadata": {
        "id": "kJ_r_R1PixX2",
        "colab_type": "code",
        "colab": {}
      },
      "source": [
        "def train_by_GD(X, y, epochs=5, lr=0.01):\n",
        "  # should return the trained weight 'W' using the gradient descent for number of iterations equals to epochs\n",
        "  # should also return error history int the cariable error_hist.shape = (epochs,); error_hist[i] = mean square error after epoch i-1\n",
        "  # should also print mean square error after each epoch/ iteration\n",
        "  # lr = \"learning rate\" i.e. eta\n",
        "  \n",
        "  # Write your code here ----------\n",
        "  W = get_linear_model(X, y)\n",
        "  error_hist = []\n",
        "  for i in range(epochs):\n",
        "    grad = (lr) * (X.T @ (X@W - y))\n",
        "    W = np.subtract(W, grad)\n",
        "    error_hist.append(MSE(y, X@W))\n",
        "    \n",
        "  # -------------------------------\n",
        "\n",
        "  return W, error_hist"
      ],
      "execution_count": 0,
      "outputs": []
    },
    {
      "cell_type": "markdown",
      "metadata": {
        "id": "uLTxFIOgkdjJ",
        "colab_type": "text"
      },
      "source": [
        "### Now write a complete code using the function defined above to learn the model for following cases:"
      ]
    },
    {
      "cell_type": "markdown",
      "metadata": {
        "id": "eYW1AukM378a",
        "colab_type": "text"
      },
      "source": [
        "##### Learn **W** using linear algebra method and prints mean square error between actual y and predicted y. Use `y_pred = XW`. Also plot y_pred and y on different plots."
      ]
    },
    {
      "cell_type": "code",
      "metadata": {
        "id": "AIRs0jB-kOZU",
        "colab_type": "code",
        "outputId": "c904340d-7402-4d86-e8e3-a09dfa67bf1a",
        "colab": {
          "base_uri": "https://localhost:8080/",
          "height": 580
        }
      },
      "source": [
        "# Write your code here ----------\n",
        "  X, y = load_data_LR()\n",
        "  W = train_by_algebra(X, y)\n",
        "  error = MSE(y, X@W)\n",
        "  print(error)\n",
        "  plt.figure(0)\n",
        "  plt.plot(X@W)\n",
        "  plt.title('Plot of y_pred')\n",
        "  plt.figure(1)\n",
        "  plt.plot(y)\n",
        "  plt.title('Plot of y')\n",
        "\n",
        "# -------------------------------"
      ],
      "execution_count": 49,
      "outputs": [
        {
          "output_type": "stream",
          "text": [
            "274.1004840917282\n"
          ],
          "name": "stdout"
        },
        {
          "output_type": "execute_result",
          "data": {
            "text/plain": [
              "Text(0.5, 1.0, 'Plot of y')"
            ]
          },
          "metadata": {
            "tags": []
          },
          "execution_count": 49
        },
        {
          "output_type": "display_data",
          "data": {
            "image/png": "[encoded data removed]",
            "text/plain": [
              "<Figure size 432x288 with 1 Axes>"
            ]
          },
          "metadata": {
            "tags": []
          }
        },
        {
          "output_type": "display_data",
          "data": {
            "image/png": "[encoded data removed]",
            "text/plain": [
              "<Figure size 432x288 with 1 Axes>"
            ]
          },
          "metadata": {
            "tags": []
          }
        }
      ]
    },
    {
      "cell_type": "markdown",
      "metadata": {
        "id": "6kP77_sK4CpT",
        "colab_type": "text"
      },
      "source": [
        "##### Learn **W** using gradient descent method for following learning rates, `lr = [0.01, 0.001, 0.0001]` for **10 epochs**. Plot **MSE vs epochs** for each of them.  Also plot y_pred and y on different plots."
      ]
    },
    {
      "cell_type": "code",
      "metadata": {
        "id": "1bac27RT4G2H",
        "colab_type": "code",
        "outputId": "093135d0-0a34-4a62-82a1-ce0f2ce32b98",
        "colab": {
          "base_uri": "https://localhost:8080/",
          "height": 1000
        }
      },
      "source": [
        "# Write your code here ----------\n",
        "  X, y = load_data_LR()\n",
        "  epochs = 10\n",
        "  lr = [0.01, 0.001, 0.0001]\n",
        "  label = ['lr=0.01', 'lr=0.001', 'lr=0.0001']\n",
        "  # for i in range(3):\n",
        "  #   (W, hist) = train_by_GD(X, y, epochs, lr[i])\n",
        "  #   plt.figure(3*i + 0)\n",
        "  #   plt.plot(list(range(epochs)), hist, label=label[i])\n",
        "  #   plt.xlabel('epochs')\n",
        "  #   plt.ylabel('error')\n",
        "  #   plt.legend(loc=\"upper right\")\n",
        "  #   plt.figure(3*1 + 1)\n",
        "  #   plt.plot(X@W, label=label[i])\n",
        "  #   plt.title('Plot of y_pred')\n",
        "  #   plt.legend(loc=\"upper right\")\n",
        "  #   plt.figure(3 * i + 2)\n",
        "  #   plt.plot(y)\n",
        "  #   plt.title('Plot of y')\n",
        "  plt.figure(0)\n",
        "  plt.plot(y)\n",
        "  plt.title('Plot of y')\n",
        "\n",
        "  \n",
        "  \n",
        "  (W, hist) = train_by_GD(X, y, epochs, 0.01)\n",
        "  plt.figure(1)\n",
        "  plt.plot(list(range(epochs)), hist, label='lr=0.01')\n",
        "  plt.xlabel('epochs')\n",
        "  plt.ylabel('error')\n",
        "  plt.legend(loc=\"upper right\")\n",
        "  plt.figure(2)\n",
        "  plt.plot(X@W, label='lr=0.01')\n",
        "  plt.title('Plot of y_pred')\n",
        "  plt.legend(loc=\"upper right\")\n",
        "\n",
        "  (W, hist) = train_by_GD(X, y, epochs, 0.001)\n",
        "  plt.figure(3)\n",
        "  plt.plot(list(range(epochs)), hist, label='lr=0.001')\n",
        "  plt.xlabel('epochs')\n",
        "  plt.ylabel('error')\n",
        "  plt.legend(loc=\"upper right\")\n",
        "  plt.figure(4)\n",
        "  plt.plot(X@W, label='lr=0.001')\n",
        "  plt.title('Plot of y_pred')\n",
        "  plt.legend(loc=\"upper right\")\n",
        "\n",
        "  (W, hist) = train_by_GD(X, y, epochs, 0.0001)\n",
        "  plt.figure(5)\n",
        "  plt.plot(list(range(epochs)), hist, label='lr=0.0001')\n",
        "  plt.xlabel('epochs')\n",
        "  plt.ylabel('error')\n",
        "  plt.legend(loc=\"upper right\")\n",
        "  plt.figure(6)\n",
        "  plt.plot(X@W, label='lr=0.0001')\n",
        "  plt.axis('auto')\n",
        "  plt.title('Plot of y_pred')\n",
        "  plt.legend(loc=\"upper right\")\n",
        "\n",
        "\n",
        "# -------------------------------"
      ],
      "execution_count": 67,
      "outputs": [
        {
          "output_type": "execute_result",
          "data": {
            "text/plain": [
              "<matplotlib.legend.Legend at 0x7f83d55c6f28>"
            ]
          },
          "metadata": {
            "tags": []
          },
          "execution_count": 67
        },
        {
          "output_type": "display_data",
          "data": {
            "image/png": "[encoded data removed]",
            "text/plain": [
              "<Figure size 432x288 with 1 Axes>"
            ]
          },
          "metadata": {
            "tags": []
          }
        },
        {
          "output_type": "display_data",
          "data": {
            "image/png": "[encoded data removed]",
            "text/plain": [
              "<Figure size 432x288 with 1 Axes>"
            ]
          },
          "metadata": {
            "tags": []
          }
        },
        {
          "output_type": "display_data",
          "data": {
            "image/png": "[encoded data removed]",
            "text/plain": [
              "<Figure size 432x288 with 1 Axes>"
            ]
          },
          "metadata": {
            "tags": []
          }
        },
        {
          "output_type": "display_data",
          "data": {
            "image/png": "[encoded data removed]",
            "text/plain": [
              "<Figure size 432x288 with 1 Axes>"
            ]
          },
          "metadata": {
            "tags": []
          }
        },
        {
          "output_type": "display_data",
          "data": {
            "image/png": "[encoded data removed]",
            "text/plain": [
              "<Figure size 432x288 with 1 Axes>"
            ]
          },
          "metadata": {
            "tags": []
          }
        },
        {
          "output_type": "display_data",
          "data": {
            "image/png": "[encoded data removed]",
            "text/plain": [
              "<Figure size 432x288 with 1 Axes>"
            ]
          },
          "metadata": {
            "tags": []
          }
        },
        {
          "output_type": "display_data",
          "data": {
            "image/png": "[encoded data removed]",
            "text/plain": [
              "<Figure size 432x288 with 1 Axes>"
            ]
          },
          "metadata": {
            "tags": []
          }
        }
      ]
    },
    {
      "cell_type": "markdown",
      "metadata": {
        "id": "4zJO-LIvn6sD",
        "colab_type": "text"
      },
      "source": [
        "## Question 2: Image Classification in Tensorflow using Deep Learning\n",
        "To check whether you are able to build a given neural network model in tensorflow or not. First we will build a fully connected NN model second we will build a CNN model."
      ]
    },
    {
      "cell_type": "code",
      "metadata": {
        "id": "7mynGfqRn24b",
        "colab_type": "code",
        "colab": {}
      },
      "source": [
        "import numpy as np\n",
        "import tensorflow as tf\n",
        "import matplotlib.pyplot as plt"
      ],
      "execution_count": 0,
      "outputs": []
    },
    {
      "cell_type": "code",
      "metadata": {
        "id": "s8WKt-qY4agV",
        "colab_type": "code",
        "colab": {}
      },
      "source": [
        "def plot_history(history):\n",
        "  # function to plot accuracy vs epoch\n",
        "\n",
        "  plt.plot(history.history['accuracy'], label='accuracy')\n",
        "  plt.plot(history.history['val_accuracy'], label = 'val_accuracy')\n",
        "  plt.xlabel('Epoch')\n",
        "  plt.ylabel('Accuracy')\n",
        "  plt.legend(loc='lower right')"
      ],
      "execution_count": 0,
      "outputs": []
    },
    {
      "cell_type": "code",
      "metadata": {
        "id": "tCT9Kmhhn5I_",
        "colab_type": "code",
        "colab": {}
      },
      "source": [
        "def load_data_cifar10_norm():\n",
        "  # should return the normalised cifar10 dataset by loading it from tensorflow\n",
        "  # link: https://www.tensorflow.org/api_docs/python/tf/keras/datasets/cifar10/\n",
        "\n",
        "  # Write your code here ----------\n",
        "  cifar10 = tf.keras.datasets.cifar10\n",
        "  (x_train, y_train), (x_test, y_test) = cifar10.load_data()\n",
        "  y_train = tf.keras.utils.to_categorical(y_train, 10)\n",
        "  y_test = tf.keras.utils.to_categorical(y_test, 10)\n",
        "  x_train = x_train / 255.0\n",
        "  x_test = x_test / 255.0\n",
        "  # -------------------------------\n",
        "\n",
        "  return x_train, y_train, x_test, y_test"
      ],
      "execution_count": 0,
      "outputs": []
    },
    {
      "cell_type": "markdown",
      "metadata": {
        "id": "LDpHSTRPvS9t",
        "colab_type": "text"
      },
      "source": [
        "### Define a fully connected neural network model with following attributes:\n",
        "\n",
        "*   Total number of **hidden layers = 4**, all with **relu** activation\n",
        "*   Number of neurons in **first hidden layer = 7200**\n",
        "*   Number of neurons in **second hidden layer = 2304**\n",
        "*   Number of neurons in **third hidden layer = 1024**\n",
        "*   Number of neurons in **fourth hidden layer = 64**\n"
      ]
    },
    {
      "cell_type": "code",
      "metadata": {
        "id": "VYYQzIWnqU3t",
        "colab_type": "code",
        "colab": {}
      },
      "source": [
        "def build_fc_model(input_shape=(32, 32, 3), num_class=10):\n",
        "  # should return a sequential model defined based on the above attributes\n",
        "  # do not compile the model\n",
        "\n",
        "  # Write your code here ----------\n",
        "  model = tf.keras.models.Sequential([\n",
        "                                      tf.keras.layers.Flatten(),\n",
        "                                      tf.keras.layers.Dense(7200, activation='relu'),\n",
        "                                      tf.keras.layers.Dense(2304, activation='relu'),\n",
        "                                      tf.keras.layers.Dense(1024, activation='relu'),\n",
        "                                      tf.keras.layers.Dense(64, activation='relu'),\n",
        "                                      tf.keras.layers.Dense(num_class, activation='softmax')\n",
        "\n",
        "                               \n",
        "  ])\n",
        "  # -------------------------------\n",
        "\n",
        "  return model"
      ],
      "execution_count": 0,
      "outputs": []
    },
    {
      "cell_type": "markdown",
      "metadata": {
        "id": "pdcQ2yqz1RYH",
        "colab_type": "text"
      },
      "source": [
        "### Define a CNN model with following attribute:\n",
        "\n",
        "*   Total number of **hidden layer = 4**\n",
        "*   After every convolutional layer there must be a MaxPoolingLayer of size (2, 2)\n",
        "*   Total number of convolutional layer = 3, all with **relu** activation.\n",
        "    *    Number of filters in **first convolutional layer = 32**\n",
        "    *    Number of filters in **second convolutional layer = 64**\n",
        "    *    Number of filters in **third convolutional layer = 64**\n",
        "*   After all convolutional layer flatten the output and use **dense layer of 64 neurons**\n",
        "\n"
      ]
    },
    {
      "cell_type": "code",
      "metadata": {
        "id": "T00AYU3D3L1j",
        "colab_type": "code",
        "colab": {}
      },
      "source": [
        "def build_cnn_model(input_shape=(32, 32, 3), num_class=10):\n",
        "  # should return a sequential model defined based on the above attributes\n",
        "  # do not compile the model\n",
        "\n",
        "  # Write your code here ----------\n",
        "  model = tf.keras.models.Sequential([\n",
        "                                      tf.keras.layers.Conv2D(32, (3, 3), activation='relu', input_shape=input_shape),\n",
        "                                      tf.keras.layers.MaxPooling2D(2, 2),\n",
        "                                      tf.keras.layers.Conv2D(64, (3, 3), activation='relu'),\n",
        "                                      tf.keras.layers.MaxPooling2D(2, 2),\n",
        "                                      tf.keras.layers.Conv2D(64, (3, 3), activation='relu'),\n",
        "                                      tf.keras.layers.MaxPooling2D(2, 2),\n",
        "                                      tf.keras.layers.Flatten(),\n",
        "                                      tf.keras.layers.Dense(64, activation='relu'),\n",
        "                                      tf.keras.layers.Dense(num_class, activation='softmax')\n",
        "\n",
        "\n",
        "  ])\n",
        "  # -------------------------------\n",
        "\n",
        "  return model"
      ],
      "execution_count": 0,
      "outputs": []
    },
    {
      "cell_type": "markdown",
      "metadata": {
        "id": "7SXXUeRp4Urq",
        "colab_type": "text"
      },
      "source": [
        "### Compile and train the fully connected neural network model using the above functions."
      ]
    },
    {
      "cell_type": "code",
      "metadata": {
        "id": "61_XiEUR3eV0",
        "colab_type": "code",
        "outputId": "862c94e3-f5a7-4150-aa62-a9cf6b674665",
        "colab": {
          "base_uri": "https://localhost:8080/",
          "height": 974
        }
      },
      "source": [
        "# Write your code here ----------\n",
        "x_train, y_train, x_test, y_test = load_data_cifar10_norm()\n",
        "model = build_fc_model()\n",
        "model.compile(loss = tf.keras.losses.CategoricalCrossentropy(), optimizer='sgd', metrics=['accuracy'])\n",
        "# -------------------------------\n",
        "\n",
        "history = model.fit(x_train, y_train, epochs=10, batch_size=512,\n",
        "                    validation_data=(x_test, y_test))\n",
        "\n",
        "plot_history(history)\n",
        "model.summary()"
      ],
      "execution_count": 73,
      "outputs": [
        {
          "output_type": "stream",
          "text": [
            "Epoch 1/10\n",
            "98/98 [==============================] - 2s 24ms/step - loss: 2.0644 - accuracy: 0.2779 - val_loss: 1.9852 - val_accuracy: 0.2847\n",
            "Epoch 2/10\n",
            "98/98 [==============================] - 2s 22ms/step - loss: 1.8856 - accuracy: 0.3363 - val_loss: 1.8314 - val_accuracy: 0.3645\n",
            "Epoch 3/10\n",
            "98/98 [==============================] - 2s 23ms/step - loss: 1.8201 - accuracy: 0.3614 - val_loss: 1.8068 - val_accuracy: 0.3599\n",
            "Epoch 4/10\n",
            "98/98 [==============================] - 2s 23ms/step - loss: 1.7781 - accuracy: 0.3756 - val_loss: 1.8265 - val_accuracy: 0.3534\n",
            "Epoch 5/10\n",
            "98/98 [==============================] - 2s 23ms/step - loss: 1.7388 - accuracy: 0.3904 - val_loss: 1.7137 - val_accuracy: 0.3970\n",
            "Epoch 6/10\n",
            "98/98 [==============================] - 2s 23ms/step - loss: 1.7139 - accuracy: 0.3992 - val_loss: 1.7314 - val_accuracy: 0.3802\n",
            "Epoch 7/10\n",
            "98/98 [==============================] - 2s 23ms/step - loss: 1.6797 - accuracy: 0.4132 - val_loss: 1.6733 - val_accuracy: 0.4191\n",
            "Epoch 8/10\n",
            "98/98 [==============================] - 2s 23ms/step - loss: 1.6652 - accuracy: 0.4153 - val_loss: 1.6393 - val_accuracy: 0.4273\n",
            "Epoch 9/10\n",
            "98/98 [==============================] - 2s 23ms/step - loss: 1.6374 - accuracy: 0.4253 - val_loss: 1.6360 - val_accuracy: 0.4307\n",
            "Epoch 10/10\n",
            "98/98 [==============================] - 2s 22ms/step - loss: 1.6308 - accuracy: 0.4299 - val_loss: 1.6620 - val_accuracy: 0.4104\n",
            "Model: \"sequential_1\"\n",
            "_________________________________________________________________\n",
            "Layer (type)                 Output Shape              Param #   \n",
            "=================================================================\n",
            "flatten_1 (Flatten)          multiple                  0         \n",
            "_________________________________________________________________\n",
            "dense_2 (Dense)              multiple                  22125600  \n",
            "_________________________________________________________________\n",
            "dense_3 (Dense)              multiple                  16591104  \n",
            "_________________________________________________________________\n",
            "dense_4 (Dense)              multiple                  2360320   \n",
            "_________________________________________________________________\n",
            "dense_5 (Dense)              multiple                  65600     \n",
            "_________________________________________________________________\n",
            "dense_6 (Dense)              multiple                  650       \n",
            "=================================================================\n",
            "Total params: 41,143,274\n",
            "Trainable params: 41,143,274\n",
            "Non-trainable params: 0\n",
            "_________________________________________________________________\n"
          ],
          "name": "stdout"
        },
        {
          "output_type": "display_data",
          "data": {
            "image/png": "[encoded data removed]",
            "text/plain": [
              "<Figure size 432x288 with 1 Axes>"
            ]
          },
          "metadata": {
            "tags": []
          }
        }
      ]
    },
    {
      "cell_type": "markdown",
      "metadata": {
        "id": "Z_yHXGc47ENb",
        "colab_type": "text"
      },
      "source": [
        "### Compile and train the CNN model using the above functions."
      ]
    },
    {
      "cell_type": "code",
      "metadata": {
        "id": "aM9rueu97Gnq",
        "colab_type": "code",
        "outputId": "337f4b22-d735-4922-97b0-82b6a3aae983",
        "colab": {
          "base_uri": "https://localhost:8080/",
          "height": 1000
        }
      },
      "source": [
        "# Write your code here ----------\n",
        "x_train, y_train, x_test, y_test = load_data_cifar10_norm()\n",
        "model = build_cnn_model()\n",
        "model.compile(loss = 'categorical_crossentropy', optimizer='adam', metrics=['accuracy'])\n",
        "# -------------------------------\n",
        "\n",
        "history = model.fit(x_train, y_train, epochs=10, batch_size=512,\n",
        "                    validation_data=(x_test, y_test))\n",
        "\n",
        "plot_history(history)\n",
        "model.summary()"
      ],
      "execution_count": 74,
      "outputs": [
        {
          "output_type": "stream",
          "text": [
            "Epoch 1/10\n",
            "98/98 [==============================] - 1s 14ms/step - loss: 1.9734 - accuracy: 0.2746 - val_loss: 1.7311 - val_accuracy: 0.3736\n",
            "Epoch 2/10\n",
            "98/98 [==============================] - 1s 12ms/step - loss: 1.6118 - accuracy: 0.4181 - val_loss: 1.5176 - val_accuracy: 0.4568\n",
            "Epoch 3/10\n",
            "98/98 [==============================] - 1s 12ms/step - loss: 1.4556 - accuracy: 0.4745 - val_loss: 1.4119 - val_accuracy: 0.4921\n",
            "Epoch 4/10\n",
            "98/98 [==============================] - 1s 12ms/step - loss: 1.3797 - accuracy: 0.5075 - val_loss: 1.3277 - val_accuracy: 0.5276\n",
            "Epoch 5/10\n",
            "98/98 [==============================] - 1s 12ms/step - loss: 1.3037 - accuracy: 0.5370 - val_loss: 1.2842 - val_accuracy: 0.5428\n",
            "Epoch 6/10\n",
            "98/98 [==============================] - 1s 12ms/step - loss: 1.2607 - accuracy: 0.5519 - val_loss: 1.3044 - val_accuracy: 0.5391\n",
            "Epoch 7/10\n",
            "98/98 [==============================] - 1s 12ms/step - loss: 1.2131 - accuracy: 0.5721 - val_loss: 1.2279 - val_accuracy: 0.5612\n",
            "Epoch 8/10\n",
            "98/98 [==============================] - 1s 12ms/step - loss: 1.1791 - accuracy: 0.5846 - val_loss: 1.2088 - val_accuracy: 0.5742\n",
            "Epoch 9/10\n",
            "98/98 [==============================] - 1s 12ms/step - loss: 1.1454 - accuracy: 0.5965 - val_loss: 1.1438 - val_accuracy: 0.6022\n",
            "Epoch 10/10\n",
            "98/98 [==============================] - 1s 12ms/step - loss: 1.1156 - accuracy: 0.6093 - val_loss: 1.1345 - val_accuracy: 0.6078\n",
            "Model: \"sequential_2\"\n",
            "_________________________________________________________________\n",
            "Layer (type)                 Output Shape              Param #   \n",
            "=================================================================\n",
            "conv2d (Conv2D)              (None, 30, 30, 32)        896       \n",
            "_________________________________________________________________\n",
            "max_pooling2d (MaxPooling2D) (None, 15, 15, 32)        0         \n",
            "_________________________________________________________________\n",
            "conv2d_1 (Conv2D)            (None, 13, 13, 64)        18496     \n",
            "_________________________________________________________________\n",
            "max_pooling2d_1 (MaxPooling2 (None, 6, 6, 64)          0         \n",
            "_________________________________________________________________\n",
            "conv2d_2 (Conv2D)            (None, 4, 4, 64)          36928     \n",
            "_________________________________________________________________\n",
            "max_pooling2d_2 (MaxPooling2 (None, 2, 2, 64)          0         \n",
            "_________________________________________________________________\n",
            "flatten_2 (Flatten)          (None, 256)               0         \n",
            "_________________________________________________________________\n",
            "dense_7 (Dense)              (None, 64)                16448     \n",
            "_________________________________________________________________\n",
            "dense_8 (Dense)              (None, 10)                650       \n",
            "=================================================================\n",
            "Total params: 73,418\n",
            "Trainable params: 73,418\n",
            "Non-trainable params: 0\n",
            "_________________________________________________________________\n"
          ],
          "name": "stdout"
        },
        {
          "output_type": "display_data",
          "data": {
            "image/png": "[encoded data removed]",
            "text/plain": [
              "<Figure size 432x288 with 1 Axes>"
            ]
          },
          "metadata": {
            "tags": []
          }
        }
      ]
    },
    {
      "cell_type": "markdown",
      "metadata": {
        "id": "nKwrtPcy750Q",
        "colab_type": "text"
      },
      "source": [
        "### What do you observe? Compare both the model by looking at their Accuracy vs Epoch plot and total numbers of trainable parameters."
      ]
    },
    {
      "cell_type": "code",
      "metadata": {
        "id": "Q2lFRCoL8N_b",
        "colab_type": "code",
        "outputId": "cc446bbc-b5b4-4695-bc03-aed342d51b9e",
        "colab": {
          "base_uri": "https://localhost:8080/",
          "height": 34
        }
      },
      "source": [
        "print(\"The accuracy for CNN model is more than that for FC model. Also number of trainnable parameters for CNN model is less than that for FC model, so computation cost for CNN model is also less.\")"
      ],
      "execution_count": 75,
      "outputs": [
        {
          "output_type": "stream",
          "text": [
            "The accuracy for CNN model is more than that for FC model. Also number of trainnable parameters for CNN model is less than that for FC model, so computation cost for CNN model is also less.\n"
          ],
          "name": "stdout"
        }
      ]
    },
    {
      "cell_type": "markdown",
      "metadata": {
        "id": "NlX1GE9f84dN",
        "colab_type": "text"
      },
      "source": [
        "## Question 3: Image Classification in Tensorflow using Transfer Learning\n",
        "In this we will again try to learn a classification model for **cifar10** but by using the concept of transfer learning. "
      ]
    },
    {
      "cell_type": "markdown",
      "metadata": {
        "id": "TMQs8VAJaiZc",
        "colab_type": "text"
      },
      "source": [
        "### Brief description on Transfer Learning:"
      ]
    },
    {
      "cell_type": "markdown",
      "metadata": {
        "id": "velsoC8-KP6B",
        "colab_type": "text"
      },
      "source": [
        "The idea behind transfer learning for image classification is that when you train a model on a very large image dataset like ImageNet, then this model can effectivly serve as generic model of visual world. If you remember, a closer look at every CNN model gives you an idea that every CNN model used to have some sets of convolutional layers followed by a dense layer and finally at last a classification (output) layer. So, here the convolutional layer somewhat act as feature mapping function which maps the input image to an different dimensional space. And finally at the end you apply dense layer to classify the images based on those extracted features. <br>\n",
        "\n",
        "**Inshort this what you do in a CNN model:**\n",
        "![](https://github.com/bcs-iitk/BCS_Workshop_Apr_20/raw/master/Machine_Learning/Assignment/cnn_model.png)\n",
        "\n",
        "So what we will do in transfer learning is that we will use some already pre-trained model which are trained on ImageNet dataset. Will only use its learned convolutional layers as a feature mapping function. And finally will learn a fully connected neural network on those features to classify the images.\n"
      ]
    },
    {
      "cell_type": "markdown",
      "metadata": {
        "id": "203W4I0oMs5v",
        "colab_type": "text"
      },
      "source": [
        "### Attributes of Transfer Learning model to be build\n",
        "\n",
        "*   Pre-trained weights of VGG16 will be used as feature extracter\n",
        "*   After this flatten the output and use dense layer of **64 neurons**\n",
        "\n"
      ]
    },
    {
      "cell_type": "code",
      "metadata": {
        "id": "COUcSjSz9DtQ",
        "colab_type": "code",
        "colab": {}
      },
      "source": [
        "import numpy as np\n",
        "import tensorflow as tf\n",
        "import matplotlib.pyplot as plt\n",
        "from tensorflow.keras.applications.vgg16 import preprocess_input, VGG16"
      ],
      "execution_count": 0,
      "outputs": []
    },
    {
      "cell_type": "markdown",
      "metadata": {
        "id": "ViNnD3G4qPIK",
        "colab_type": "text"
      },
      "source": [
        ""
      ]
    },
    {
      "cell_type": "code",
      "metadata": {
        "id": "ylCRV_niMhxA",
        "colab_type": "code",
        "colab": {}
      },
      "source": [
        "def plot_history(history):\n",
        "  # function to plot accuracy vs epoch\n",
        "\n",
        "  plt.plot(history.history['accuracy'], label='accuracy')\n",
        "  plt.plot(history.history['val_accuracy'], label = 'val_accuracy')\n",
        "  plt.xlabel('Epoch')\n",
        "  plt.ylabel('Accuracy')\n",
        "  plt.legend(loc='lower right')"
      ],
      "execution_count": 0,
      "outputs": []
    },
    {
      "cell_type": "code",
      "metadata": {
        "id": "ijdwptetMmSL",
        "colab_type": "code",
        "colab": {}
      },
      "source": [
        "def load_data_cifar10():\n",
        "  # should return the normalised cifar10 dataset by loading it from tensorflow\n",
        "  # link: https://www.tensorflow.org/api_docs/python/tf/keras/datasets/cifar10/\n",
        "\n",
        "  # Write your code here ----------\n",
        "  cifar10 = tf.keras.datasets.cifar10\n",
        "  (x_train, y_train), (x_test, y_test) = cifar10.load_data()\n",
        "  y_train = tf.keras.utils.to_categorical(y_train, 10)\n",
        "  y_test = tf.keras.utils.to_categorical(y_test, 10)\n",
        "  #x_train = x_train / 255.0\n",
        "  #x_test = x_test / 255.0\n",
        "  # -------------------------------\n",
        "\n",
        "  return preprocess_input(x_train), y_train, preprocess_input(x_test), y_test"
      ],
      "execution_count": 0,
      "outputs": []
    },
    {
      "cell_type": "code",
      "metadata": {
        "id": "8kgkpJfwKhlR",
        "colab_type": "code",
        "colab": {}
      },
      "source": [
        "def build_tl_model(num_class=10):\n",
        "  # should return the ccombined model using the VGG16 conv layers as conv layers\n",
        "  # and for fully connected layer part use the above attributes.\n",
        "\n",
        "  base_model = VGG16(input_shape=(32, 32, 3), include_top=False, weights='imagenet') # this is the conv layers from VGG16\n",
        "  base_model.trainable = False # this ensures that while training the dense layers these weights don't get changed\n",
        "\n",
        "  model = tf.keras.models.Sequential([\n",
        "    # Feature extractor \n",
        "    base_model,\n",
        "\n",
        "    # Flatten and use the attribute given the question to build the dense part\n",
        "    # Write your code here ----------\n",
        "    tf.keras.layers.Flatten(),\n",
        "    tf.keras.layers.Dense(64, activation='relu'),\n",
        "    tf.keras.layers.Dense(num_class, activation='softmax')\n",
        "    # -------------------------------\n",
        "  ])\n",
        "\n",
        "  return model"
      ],
      "execution_count": 0,
      "outputs": []
    },
    {
      "cell_type": "markdown",
      "metadata": {
        "id": "_-2kUilyPNJJ",
        "colab_type": "text"
      },
      "source": [
        "### Compile and train the model using above functions, use adam optimiser with learning rate = 0.0001"
      ]
    },
    {
      "cell_type": "code",
      "metadata": {
        "id": "6FzIIP7GPMOt",
        "colab_type": "code",
        "outputId": "a82b2ecc-2d5d-4554-cdf0-a005786c74e3",
        "colab": {
          "base_uri": "https://localhost:8080/",
          "height": 905
        }
      },
      "source": [
        "# Write your code here ----------\n",
        "x_train, y_train, x_test, y_test = load_data_cifar10()\n",
        "model = build_tl_model(10)\n",
        "model.compile(loss = tf.keras.losses.CategoricalCrossentropy(), optimizer=tf.keras.optimizers.Adam(learning_rate=0.0001), metrics=['accuracy'])\n",
        "# -------------------------------\n",
        "\n",
        "history = model.fit(x_train, y_train, epochs=10, batch_size=512,\n",
        "                    validation_data=(x_test, y_test))\n",
        "\n",
        "plot_history(history)\n",
        "model.summary()"
      ],
      "execution_count": 80,
      "outputs": [
        {
          "output_type": "stream",
          "text": [
            "Epoch 1/10\n",
            "98/98 [==============================] - 5s 47ms/step - loss: 14.2165 - accuracy: 0.1459 - val_loss: 8.8184 - val_accuracy: 0.2318\n",
            "Epoch 2/10\n",
            "98/98 [==============================] - 4s 42ms/step - loss: 6.9322 - accuracy: 0.2962 - val_loss: 5.8668 - val_accuracy: 0.3379\n",
            "Epoch 3/10\n",
            "98/98 [==============================] - 4s 42ms/step - loss: 5.0183 - accuracy: 0.3733 - val_loss: 4.6193 - val_accuracy: 0.3906\n",
            "Epoch 4/10\n",
            "98/98 [==============================] - 4s 42ms/step - loss: 4.0595 - accuracy: 0.4109 - val_loss: 3.8763 - val_accuracy: 0.4158\n",
            "Epoch 5/10\n",
            "98/98 [==============================] - 4s 42ms/step - loss: 3.4432 - accuracy: 0.4341 - val_loss: 3.3673 - val_accuracy: 0.4336\n",
            "Epoch 6/10\n",
            "98/98 [==============================] - 4s 42ms/step - loss: 2.9995 - accuracy: 0.4507 - val_loss: 2.9939 - val_accuracy: 0.4444\n",
            "Epoch 7/10\n",
            "98/98 [==============================] - 4s 42ms/step - loss: 2.6658 - accuracy: 0.4655 - val_loss: 2.6986 - val_accuracy: 0.4536\n",
            "Epoch 8/10\n",
            "98/98 [==============================] - 4s 42ms/step - loss: 2.4004 - accuracy: 0.4741 - val_loss: 2.4641 - val_accuracy: 0.4610\n",
            "Epoch 9/10\n",
            "98/98 [==============================] - 4s 42ms/step - loss: 2.1925 - accuracy: 0.4816 - val_loss: 2.2705 - val_accuracy: 0.4706\n",
            "Epoch 10/10\n",
            "98/98 [==============================] - 4s 42ms/step - loss: 2.0246 - accuracy: 0.4893 - val_loss: 2.1166 - val_accuracy: 0.4771\n",
            "Model: \"sequential_3\"\n",
            "_________________________________________________________________\n",
            "Layer (type)                 Output Shape              Param #   \n",
            "=================================================================\n",
            "vgg16 (Model)                (None, 1, 1, 512)         14714688  \n",
            "_________________________________________________________________\n",
            "flatten_3 (Flatten)          (None, 512)               0         \n",
            "_________________________________________________________________\n",
            "dense_9 (Dense)              (None, 64)                32832     \n",
            "_________________________________________________________________\n",
            "dense_10 (Dense)             (None, 10)                650       \n",
            "=================================================================\n",
            "Total params: 14,748,170\n",
            "Trainable params: 33,482\n",
            "Non-trainable params: 14,714,688\n",
            "_________________________________________________________________\n"
          ],
          "name": "stdout"
        },
        {
          "output_type": "display_data",
          "data": {
            "image/png": "[encoded data removed]",
            "text/plain": [
              "<Figure size 432x288 with 1 Axes>"
            ]
          },
          "metadata": {
            "tags": []
          }
        }
      ]
    },
    {
      "cell_type": "markdown",
      "metadata": {
        "id": "l0QMGbtcQKNx",
        "colab_type": "text"
      },
      "source": [
        "## Question 4: Reinforcement Learning\n",
        "In this you have to implement and train an RL agent to find a path for a frozen lake problem. "
      ]
    },
    {
      "cell_type": "markdown",
      "metadata": {
        "id": "qH7ubidoNaEv",
        "colab_type": "text"
      },
      "source": [
        "### Frozen Lake Problem Description:"
      ]
    },
    {
      "cell_type": "markdown",
      "metadata": {
        "id": "LTCY_Ip1M9Qc",
        "colab_type": "text"
      },
      "source": [
        "> Imagine there is a frozen lake stretching from your home to your office; you have to walk on the frozen lake to reach your office. But oops! There are holes in the frozen lake so you have to be careful while walking on the frozen lake to avoid getting trapped in the holes. [[src](https://subscription.packtpub.com/book/big_data_and_business_intelligence/9781788836524/3/ch03lvl1sec32/solving-the-frozen-lake-problem)]\n",
        "\n",
        "![frozen-lake](https://static.packt-cdn.com/products/9781788836524/graphics/49f3e058-2f32-40e8-9992-b53d1f57d138.png)\n",
        "\n",
        "\n",
        "Two task you have to do here:\n",
        "\n",
        "*   Implement a frozen lake scenario given the inputs, number of holes (M) and size of the lake (N) (Assume the lake is square). Starting point will be (0, 0) and goal will be to reach at (N-1, N-1)\n",
        "*   Implemenat Q-learning method to learn a path from start to goal.\n",
        "*   Use the following reward scheme: 50 points on reaching the goal, -50 points on stepping on a hole.\n",
        "\n",
        "#### Q-learning\n",
        "Recall from the lecture video that `Q[state, action]` gives you an action state pair to get an optimal policy. Recall the Q-Loss from the lecture video i.e:\n",
        "> $E = ||r + \\gamma \\cdot \\max_{a'} Q(s', a') - Q(s, a)||^2$\n",
        "\n",
        "Use gradient descent to minimise $E$ and work out a learning rule for $Q(s, a)$. \n",
        "> Take $\\max_{a'} Q(s', a')$ and $r$ to be independent of $Q(s, a)$.\n"
      ]
    },
    {
      "cell_type": "markdown",
      "metadata": {
        "id": "pbkIHLK7NFEw",
        "colab_type": "text"
      },
      "source": [
        "### Defining important functions"
      ]
    },
    {
      "cell_type": "code",
      "metadata": {
        "id": "QnnNULcYQNRj",
        "colab_type": "code",
        "colab": {}
      },
      "source": [
        "import numpy as np\n",
        "import matplotlib.pyplot as plt\n",
        "import copy\n",
        "import random"
      ],
      "execution_count": 0,
      "outputs": []
    },
    {
      "cell_type": "code",
      "metadata": {
        "id": "n9vGeSBZEG-r",
        "colab_type": "code",
        "colab": {}
      },
      "source": [
        "ActionMap = ['Up', 'Right', 'Down', 'Left']"
      ],
      "execution_count": 0,
      "outputs": []
    },
    {
      "cell_type": "code",
      "metadata": {
        "id": "izQzYoXBHVgr",
        "colab_type": "code",
        "colab": {}
      },
      "source": [
        "def get_board(N, M):\n",
        "  # should return an N x N size frozen lake - board with M randomle placed holes.\n",
        "  # use 'S' representation for starting point\n",
        "  # use 'G' representation for goal point\n",
        "  # use 'H' representation for holes\n",
        "  # use 'F' for frozen lakes \n",
        "  # Refer the representation from the image shown above\n",
        "\n",
        "  # Write your code here ----------\n",
        "  array = ['H']*M + ['F']*(N*N-(2+M))\n",
        "  random.shuffle(array)\n",
        "  board = np.ones((N, N), dtype=object)\n",
        "  board[0][0] = 'S'\n",
        "  board[N-1][N-1] = 'G'\n",
        "  for i in range(N):\n",
        "    for j in range(N):\n",
        "      if board[i][j] == 'S' or board[i][j] == 'G':\n",
        "        continue\n",
        "      else:\n",
        "        board[i][j] = array.pop()\n",
        "  # -------------------------------\n",
        "\n",
        "  return board"
      ],
      "execution_count": 0,
      "outputs": []
    },
    {
      "cell_type": "code",
      "metadata": {
        "id": "nu6PW4KhIZH7",
        "colab_type": "code",
        "colab": {}
      },
      "source": [
        "def get_reward(board, N, M):\n",
        "  # should return an N x N size reward table for the generated frozen lake scenario\n",
        "  # use 50 reward for 'G' point\n",
        "  # use -50 reward for 'H' point\n",
        "  # o for rest.\n",
        "\n",
        "  # Write your code here ----------\n",
        "  reward = np.zeros((N, N))\n",
        "  for i in range(N):\n",
        "    for j in range(N):\n",
        "      if board[i][j] == 'H':\n",
        "        reward[i][j] = -50\n",
        "      elif board[i][j] == 'G':\n",
        "        reward[i][j] = 50\n",
        "  # -------------------------------\n",
        "\n",
        "  return reward"
      ],
      "execution_count": 0,
      "outputs": []
    },
    {
      "cell_type": "code",
      "metadata": {
        "id": "B1ueYhO8Ecnh",
        "colab_type": "code",
        "colab": {}
      },
      "source": [
        "class FrozenLake:\n",
        "  def __init__(self, N, M):\n",
        "    # Recall python class, this function is called when you first initialise the class\n",
        "    # Should intialise the board and reward table based on the reward scheme\n",
        "    # Select M numbers of holes randomly\n",
        "\n",
        "    self.board = get_board(N, M)\n",
        "    self.init_board = copy.deepcopy(self.board) \n",
        "    self.reward = get_reward(self.board, N, M)\n",
        "    self.state = (0, 0)\n",
        "    self.finish = 0\n",
        "    self.N = N\n",
        "    self.holes = 0\n",
        "\n",
        "\n",
        "  def reset(self):\n",
        "    # should reset the env with board to initial state\n",
        "    # hint: set self.state at 0, 0 and use self.init_board to reset self.board\n",
        "\n",
        "    # Write your code here ----------\n",
        "    self.state = (0, 0)\n",
        "    self.board = copy.deepcopy(self.init_board)\n",
        "    # -------------------------------\n",
        "    self.finish = 0\n",
        "    self.holes = 0\n",
        "\n",
        "    return self.state\n",
        "  \n",
        "  def step(self, action):\n",
        "    # ===== Action Table =========\n",
        "    #     0 -- UP\n",
        "    #     1 -- RIGHT\n",
        "    #     2 -- DOWN\n",
        "    #     3 -- LEFT\n",
        "    # perform the given action and get update the  self.state, get reward, and update the self.board according to new state\n",
        "\n",
        "    # Write your code here ----------\n",
        "\n",
        "    #print(\"Previous: \", self.state)\n",
        "\n",
        "    if action == 0:\n",
        "      self.state = (self.state[0]-1, self.state[1])\n",
        "    elif action == 1:\n",
        "      self.state = (self.state[0], self.state[1]+1)\n",
        "    elif action == 2:\n",
        "      self.state = (self.state[0]+1, self.state[1])\n",
        "    elif action == 3:\n",
        "      self.state = (self.state[0], self.state[1]-1)\n",
        "\n",
        "    #print(\"New: \", self.state)\n",
        "\n",
        "    reward = self.reward[self.state[0], self.state[1]]\n",
        "\n",
        "    self.board = copy.deepcopy(self.init_board)\n",
        "    if self.board[self.state[0]][self.state[1]] == 'H':\n",
        "      self.holes += 1\n",
        "    self.board[self.state[0]][self.state[1]] = 'C'\n",
        "\n",
        "    # -------------------------------\n",
        "    \n",
        "    # status to check if you reached your goal\n",
        "    if self.state == (self.N-1, self.N-1):\n",
        "        self.finish = 1\n",
        "        \n",
        "    return self.state, reward, self.finish\n",
        "  \n",
        "  def get_random_action(self):\n",
        "    # ===== Action Table =========\n",
        "    #     0 -- UP\n",
        "    #     1 -- RIGHT\n",
        "    #     2 -- DOWN\n",
        "    #     3 -- LEFT\n",
        "    # should return a possible random action out of the four\n",
        "    # hint: note that when you are around the corner or sides of the board not all four action will be available for you\n",
        "\n",
        "    # Write your code here ----------\n",
        "    flag = 0\n",
        "    actionList = [0, 1, 2, 3]\n",
        "    while flag != 1:\n",
        "      a = random.choice(actionList)\n",
        "      if self.isValidAction(a):\n",
        "        action = a\n",
        "        flag = 1\n",
        "    # -------------------------------\n",
        "\n",
        "    return action    \n",
        "      \n",
        "  def display(self):\n",
        "    print(self.board)\n",
        "\n",
        "  def isValidAction(self, action):\n",
        "    temp = copy.deepcopy(self.state)\n",
        "    if action == 0:\n",
        "      temp = (temp[0]-1, temp[1])\n",
        "    elif action == 1:\n",
        "      temp = (temp[0], temp[1]+1)\n",
        "    elif action == 2:\n",
        "      temp = (temp[0]+1, temp[1])\n",
        "    elif action == 3:\n",
        "      temp = (temp[0], temp[1]-1)\n",
        "    \n",
        "    if temp[0] in range(self.N) and temp[1] in range(self.N):\n",
        "      return True\n",
        "    else:\n",
        "      return False"
      ],
      "execution_count": 0,
      "outputs": []
    },
    {
      "cell_type": "markdown",
      "metadata": {
        "id": "oizARLSBNMxB",
        "colab_type": "text"
      },
      "source": [
        "### Environment creation and learning"
      ]
    },
    {
      "cell_type": "code",
      "metadata": {
        "id": "yGXRU7ImRnT6",
        "colab_type": "code",
        "colab": {}
      },
      "source": [
        "def explore_exploit(env, Q, state, episode):\n",
        "  # Recall from the video there are two way how you perform an action in Value Learning\n",
        "  # They are called explore or exploit?\n",
        "  # Notice that if you always select your new action based on maximum Q-value you will never get to see any new path right?\n",
        "  # You have to explore the environment to know new paths\n",
        "  # Write your code here to randomly select whether you want to explore or exploit\n",
        "  # The probability of exploration should be exp(-episode*5e-4)\n",
        "  # for exploration get some random action\n",
        "  # for exploitation get action based on max Q value\n",
        "\n",
        "  # Write your code here ----------\n",
        "  epsilon = np.exp(-episode*5*0.0001)\n",
        "\n",
        "  if random.uniform(0, 1) < epsilon:\n",
        "    action = env.get_random_action()\n",
        "    #print(\"random action\")\n",
        "  else:\n",
        "    #action = np.argmax(Q[:, env.state[0], env.state[1]])\n",
        "    for i in np.argsort(-1*Q[:, env.state[0], env.state[1]]):\n",
        "      if env.isValidAction(i):\n",
        "        action = i\n",
        "        break\n",
        "\n",
        "  # -------------------------------\n",
        "\n",
        "  return action"
      ],
      "execution_count": 0,
      "outputs": []
    },
    {
      "cell_type": "code",
      "metadata": {
        "id": "N6ym5P3-LxOz",
        "colab_type": "code",
        "colab": {}
      },
      "source": [
        "def init_env_and_learn(N=6, M=12, gamma=0.8, lr=0.8):\n",
        "  # gamma: gamma param of total discounted reward\n",
        "  # lr: learning rate for Q updates\n",
        "  # N = grid size of frozen lake wil be N x N\n",
        "  # M = Number of holes\n",
        "  # returns env, Q-function, rewards\n",
        "\n",
        "  env = FrozenLake(N, M)\n",
        "  Q = np.zeros((4, N, N))\n",
        "\n",
        "  total_episodes = 3000 # i.e. the number of times your RL agent will run through the board.\n",
        "  max_steps = N*N*3 # maximum number of steps to perform\n",
        "\n",
        "  rewards = []\n",
        "  for episode in range(total_episodes):\n",
        "    state = env.reset()\n",
        "    total_rewards = 0\n",
        "\n",
        "    for step in range(max_steps):\n",
        "      action = explore_exploit(env, Q, state, episode)\n",
        "\n",
        "      # Write your code here ----------------------------------------------------------\n",
        "      # Should perform the action get reward, new_state, finish status and update the Q value\n",
        "      new_state, reward, finish = env.step(action)\n",
        "      Q[action, state[0], state[1]] = Q[action, state[0], state[1]] + lr * (reward + gamma * np.max(Q[:, new_state[0], new_state[1]]) - Q[action, state[0], state[1]])\n",
        "\n",
        "\n",
        "      # reward = '...' # replace these with your values\n",
        "      # finish = '...' # replace these with your values\n",
        "      # new_state = '...' # replace these with your values\n",
        "      # # -------------------------------------------------------------------------------\n",
        "\n",
        "      total_rewards += reward\n",
        "      state = new_state\n",
        "      \n",
        "      if finish == 1: \n",
        "          break\n",
        "\n",
        "    rewards.append(total_rewards)\n",
        "\n",
        "  return env, Q, rewards"
      ],
      "execution_count": 0,
      "outputs": []
    },
    {
      "cell_type": "code",
      "metadata": {
        "id": "6z8EuJ6sXCTK",
        "colab_type": "code",
        "colab": {}
      },
      "source": [
        "def travel_path(env, Q):\n",
        "  # write a function to display a sequence of path performed using the learned Q-values\n",
        "  # show initial and final frozen lake board \n",
        "  # to perform an action at a state simply take max of Q at that state\n",
        "\n",
        "  # Write your code here ----------\n",
        "  print(\"Initial Board\")\n",
        "  print(env.board)\n",
        "  while env.finish != 1:\n",
        "    action = np.argmax(Q[:, env.state[0], env.state[1]])\n",
        "    env.step(action)\n",
        "    print(action)\n",
        "    print(env.board)\n",
        "  print(\"holes: \",  env.holes)\n",
        "\n",
        "  # -------------------------------\n",
        "\n",
        "  return"
      ],
      "execution_count": 0,
      "outputs": []
    },
    {
      "cell_type": "markdown",
      "metadata": {
        "id": "Ios3sB8ZYDTN",
        "colab_type": "text"
      },
      "source": [
        "### Use N = 6, M = 10 and learn the models for following sets of gamma and lr:\n",
        "\n",
        "*   `(gamma, lr) = (0.8, 0.8)`\n",
        "*   `(gamma, lr) = (0.95, 0.8)`\n",
        "*   `(gamma, lr) = (0.6, 0.8)`\n",
        "*   `(gamma, lr) = (0.8, 0.95)`\n",
        "*   `(gamma, lr) = (0.8, 0.1)`\n",
        "\n",
        "Plot rewards vs episode for each of them and compare.\n",
        "\n"
      ]
    },
    {
      "cell_type": "code",
      "metadata": {
        "id": "1BB8d1_3MhsL",
        "colab_type": "code",
        "colab": {
          "base_uri": "https://localhost:8080/",
          "height": 1000
        },
        "outputId": "dd7c8944-ce58-4cab-cd16-fe55a5f51cc4"
      },
      "source": [
        "# Write your code here ----------\n",
        "env, Q, rewards = init_env_and_learn(6, 10, 0.8, 0.8)\n",
        "plt.figure(0)\n",
        "plt.plot(rewards, label='(gamma, lr) = (0.8, 0.8)')\n",
        "plt.legend(loc='lower right')\n",
        "\n",
        "env, Q, rewards = init_env_and_learn(6, 10, 0.95, 0.8)\n",
        "plt.figure(1)\n",
        "plt.plot(rewards, label='(gamma, lr) = (0.95, 0.8)')\n",
        "plt.legend(loc='lower right')\n",
        "\n",
        "env, Q, rewards = init_env_and_learn(6, 10, 0.6, 0.8)\n",
        "plt.figure(2)\n",
        "plt.plot(rewards, label='(gamma, lr) = (0.6, 0.8)')\n",
        "plt.legend(loc='lower right')\n",
        "\n",
        "env, Q, rewards = init_env_and_learn(6, 10, 0.8, 0.95)\n",
        "plt.figure(3)\n",
        "plt.plot(rewards, label='(gamma, lr) = (0.8, 0.95)')\n",
        "plt.legend(loc='lower right')\n",
        "\n",
        "env, Q, rewards = init_env_and_learn(6, 10, 0.8, 0.1)\n",
        "plt.figure(4)\n",
        "plt.plot(rewards, label='(gamma, lr) = (0.8, 0.1)')\n",
        "plt.legend(loc='lower right')\n",
        "# -------------------------------\n",
        "\n",
        "print(\"Replace this with your observation\")"
      ],
      "execution_count": 89,
      "outputs": [
        {
          "output_type": "stream",
          "text": [
            "Replace this with your observation\n"
          ],
          "name": "stdout"
        },
        {
          "output_type": "display_data",
          "data": {
            "image/png": "[encoded data removed]",
            "text/plain": [
              "<Figure size 432x288 with 1 Axes>"
            ]
          },
          "metadata": {
            "tags": []
          }
        },
        {
          "output_type": "display_data",
          "data": {
            "image/png": "[encoded data removed]",
            "text/plain": [
              "<Figure size 432x288 with 1 Axes>"
            ]
          },
          "metadata": {
            "tags": []
          }
        },
        {
          "output_type": "display_data",
          "data": {
            "image/png": "[encoded data removed]",
            "text/plain": [
              "<Figure size 432x288 with 1 Axes>"
            ]
          },
          "metadata": {
            "tags": []
          }
        },
        {
          "output_type": "display_data",
          "data": {
            "image/png": "[encoded data removed]",
            "text/plain": [
              "<Figure size 432x288 with 1 Axes>"
            ]
          },
          "metadata": {
            "tags": []
          }
        },
        {
          "output_type": "display_data",
          "data": {
            "image/png": "[encoded data removed]",
            "text/plain": [
              "<Figure size 432x288 with 1 Axes>"
            ]
          },
          "metadata": {
            "tags": []
          }
        }
      ]
    },
    {
      "cell_type": "markdown",
      "metadata": {
        "id": "yI5oHjVbZkIW",
        "colab_type": "text"
      },
      "source": [
        "### Use N = 6, M = 10 and learn a models with (gamma, lr) = (0.8, 0.8)\n",
        "After learning the model, display a path traveled from source to goal."
      ]
    },
    {
      "cell_type": "code",
      "metadata": {
        "id": "RtDOaUEeMi-0",
        "colab_type": "code",
        "colab": {
          "base_uri": "https://localhost:8080/",
          "height": 1000
        },
        "outputId": "bef59eeb-93c5-454b-cae1-6d2977b9f310"
      },
      "source": [
        "# Write your code here ----------\n",
        "env, Q, rewards = init_env_and_learn(6, 10, 0.8, 0.8)\n",
        "env.reset()\n",
        "travel_path(env, Q)\n"
      ],
      "execution_count": 90,
      "outputs": [
        {
          "output_type": "stream",
          "text": [
            "Initial Board\n",
            "[['S' 'F' 'F' 'F' 'F' 'H']\n",
            " ['H' 'H' 'F' 'F' 'F' 'H']\n",
            " ['H' 'F' 'F' 'H' 'F' 'F']\n",
            " ['H' 'H' 'F' 'F' 'F' 'F']\n",
            " ['H' 'H' 'F' 'F' 'F' 'F']\n",
            " ['F' 'F' 'F' 'F' 'F' 'G']]\n",
            "1\n",
            "[['S' 'C' 'F' 'F' 'F' 'H']\n",
            " ['H' 'H' 'F' 'F' 'F' 'H']\n",
            " ['H' 'F' 'F' 'H' 'F' 'F']\n",
            " ['H' 'H' 'F' 'F' 'F' 'F']\n",
            " ['H' 'H' 'F' 'F' 'F' 'F']\n",
            " ['F' 'F' 'F' 'F' 'F' 'G']]\n",
            "1\n",
            "[['S' 'F' 'C' 'F' 'F' 'H']\n",
            " ['H' 'H' 'F' 'F' 'F' 'H']\n",
            " ['H' 'F' 'F' 'H' 'F' 'F']\n",
            " ['H' 'H' 'F' 'F' 'F' 'F']\n",
            " ['H' 'H' 'F' 'F' 'F' 'F']\n",
            " ['F' 'F' 'F' 'F' 'F' 'G']]\n",
            "1\n",
            "[['S' 'F' 'F' 'C' 'F' 'H']\n",
            " ['H' 'H' 'F' 'F' 'F' 'H']\n",
            " ['H' 'F' 'F' 'H' 'F' 'F']\n",
            " ['H' 'H' 'F' 'F' 'F' 'F']\n",
            " ['H' 'H' 'F' 'F' 'F' 'F']\n",
            " ['F' 'F' 'F' 'F' 'F' 'G']]\n",
            "1\n",
            "[['S' 'F' 'F' 'F' 'C' 'H']\n",
            " ['H' 'H' 'F' 'F' 'F' 'H']\n",
            " ['H' 'F' 'F' 'H' 'F' 'F']\n",
            " ['H' 'H' 'F' 'F' 'F' 'F']\n",
            " ['H' 'H' 'F' 'F' 'F' 'F']\n",
            " ['F' 'F' 'F' 'F' 'F' 'G']]\n",
            "2\n",
            "[['S' 'F' 'F' 'F' 'F' 'H']\n",
            " ['H' 'H' 'F' 'F' 'C' 'H']\n",
            " ['H' 'F' 'F' 'H' 'F' 'F']\n",
            " ['H' 'H' 'F' 'F' 'F' 'F']\n",
            " ['H' 'H' 'F' 'F' 'F' 'F']\n",
            " ['F' 'F' 'F' 'F' 'F' 'G']]\n",
            "2\n",
            "[['S' 'F' 'F' 'F' 'F' 'H']\n",
            " ['H' 'H' 'F' 'F' 'F' 'H']\n",
            " ['H' 'F' 'F' 'H' 'C' 'F']\n",
            " ['H' 'H' 'F' 'F' 'F' 'F']\n",
            " ['H' 'H' 'F' 'F' 'F' 'F']\n",
            " ['F' 'F' 'F' 'F' 'F' 'G']]\n",
            "1\n",
            "[['S' 'F' 'F' 'F' 'F' 'H']\n",
            " ['H' 'H' 'F' 'F' 'F' 'H']\n",
            " ['H' 'F' 'F' 'H' 'F' 'C']\n",
            " ['H' 'H' 'F' 'F' 'F' 'F']\n",
            " ['H' 'H' 'F' 'F' 'F' 'F']\n",
            " ['F' 'F' 'F' 'F' 'F' 'G']]\n",
            "2\n",
            "[['S' 'F' 'F' 'F' 'F' 'H']\n",
            " ['H' 'H' 'F' 'F' 'F' 'H']\n",
            " ['H' 'F' 'F' 'H' 'F' 'F']\n",
            " ['H' 'H' 'F' 'F' 'F' 'C']\n",
            " ['H' 'H' 'F' 'F' 'F' 'F']\n",
            " ['F' 'F' 'F' 'F' 'F' 'G']]\n",
            "2\n",
            "[['S' 'F' 'F' 'F' 'F' 'H']\n",
            " ['H' 'H' 'F' 'F' 'F' 'H']\n",
            " ['H' 'F' 'F' 'H' 'F' 'F']\n",
            " ['H' 'H' 'F' 'F' 'F' 'F']\n",
            " ['H' 'H' 'F' 'F' 'F' 'C']\n",
            " ['F' 'F' 'F' 'F' 'F' 'G']]\n",
            "2\n",
            "[['S' 'F' 'F' 'F' 'F' 'H']\n",
            " ['H' 'H' 'F' 'F' 'F' 'H']\n",
            " ['H' 'F' 'F' 'H' 'F' 'F']\n",
            " ['H' 'H' 'F' 'F' 'F' 'F']\n",
            " ['H' 'H' 'F' 'F' 'F' 'F']\n",
            " ['F' 'F' 'F' 'F' 'F' 'C']]\n",
            "holes:  0\n"
          ],
          "name": "stdout"
        }
      ]
    },
    {
      "cell_type": "code",
      "metadata": {
        "id": "72ynnXUsi1lL",
        "colab_type": "code",
        "colab": {}
      },
      "source": [
        ""
      ],
      "execution_count": 0,
      "outputs": []
    }
  ]
}