{
  "nbformat": 4,
  "nbformat_minor": 0,
  "metadata": {
    "colab": {
      "name": "Python_Tutorial.ipynb",
      "provenance": [],
      "collapsed_sections": [
        "f1UTiaLrwD-8",
        "Ki5oKWco3F67",
        "h9EPF0Va4sAV",
        "HBfUfNEQ62MW",
        "Lpe66hWU73Oe",
        "gvxsZehB8O1O",
        "IDh8YHia8hoR",
        "6G1U7-ki_JyO",
        "UVoHZB6a_VnH",
        "-BjnLk9eMcvo",
        "x_nDVvi1ODC_",
        "t6vT8PCDOvbp",
        "FwSPz2zjPipe",
        "YaKU_FfMTfDz",
        "UHYk-BexVCFT",
        "11IM79czVT1A",
        "5r0oyV2VUiQE",
        "J-c7oLkUYqT2",
        "FROjbDpsYFLp",
        "8eIgkAT5YJWM",
        "13i6ciPkYuvT",
        "O3VDV0UdZEDn"
      ],
      "toc_visible": true
    },
    "kernelspec": {
      "name": "python3",
      "display_name": "Python 3"
    }
  },
  "cells": [
    {
      "cell_type": "markdown",
      "metadata": {
        "id": "3deYTsOujB2E",
        "colab_type": "text"
      },
      "source": [
        "<table class=\"tfo-notebook-buttons\" align=\"left\">\n",
        "  <td>\n",
        "    <a target=\"_blank\" href=\"https://colab.research.google.com/github/bcs-iitk/BCS_Workshop_Apr_20/blob/master/Python_Tutorial/Python_Tutorial.ipynb\"><img src=\"https://www.tensorflow.org/images/colab_logo_32px.png\" />Run in Google Colab</a>\n",
        "  </td>\n",
        "  <td>\n",
        "    <a target=\"_blank\" href=\"https://github.com/bcs-iitk/BCS_Workshop_Apr_20/blob/master/Python_Tutorial/Python_Tutorial.ipynb\"><img src=\"https://www.tensorflow.org/images/GitHub-Mark-32px.png\" />View source on GitHub</a>\n",
        "  </td>\n",
        "  <td>\n",
        "    <a href=\"https://github.com/bcs-iitk/BCS_Workshop_Apr_20/raw/master/Python_Tutorial/Python_Tutorial.ipynb\"><img src=\"https://www.tensorflow.org/images/download_logo_32px.png\" />Download notebook</a>\n",
        "  </td>\n",
        "</table>"
      ]
    },
    {
      "cell_type": "markdown",
      "metadata": {
        "id": "f1UTiaLrwD-8",
        "colab_type": "text"
      },
      "source": [
        "# Python Tutorial For The BCS Workshop Apr '20\n",
        "***Author:*** [*Shashi Kant*](http://shashikg.github.io/)\n",
        "\n",
        "This tutorial is targeted to those, who are not familiar with Python and use of Pyhton for scientific computing. "
      ]
    },
    {
      "cell_type": "markdown",
      "metadata": {
        "id": "8DzEUxlv45GI",
        "colab_type": "text"
      },
      "source": [
        "## Hello World Example"
      ]
    },
    {
      "cell_type": "code",
      "metadata": {
        "id": "t00OMGst4-e0",
        "colab_type": "code",
        "colab": {}
      },
      "source": [
        "# This is a comment\n",
        "print(\"Helllo World\")"
      ],
      "execution_count": 0,
      "outputs": []
    },
    {
      "cell_type": "markdown",
      "metadata": {
        "id": "Ki5oKWco3F67",
        "colab_type": "text"
      },
      "source": [
        "## Variables and basic data types\n",
        "\n",
        "Like other programming languages, Python also have similar basic data types such as integers, float, strings, etc. Unlike in C/ C++, you don't need any additional declaration of variables or their variable type, you can straight away start using. Examples given below will clear it for you. "
      ]
    },
    {
      "cell_type": "markdown",
      "metadata": {
        "id": "h9EPF0Va4sAV",
        "colab_type": "text"
      },
      "source": [
        "### Numbers"
      ]
    },
    {
      "cell_type": "code",
      "metadata": {
        "id": "pFhGQUtvvdeV",
        "colab_type": "code",
        "colab": {}
      },
      "source": [
        "# Integers\n",
        "\n",
        "x = 2 # This will create new integer variable 'x' with value as 2\n",
        "print(type(x))\n",
        "print(\"x is:\",x,\"and x + 1 is:\", x+1) # multiple print statements and addition of two integers\n",
        "print(\"x multiply by 3 is:\",x*3, \"and x^3 is:\", x**3) # multiplication and power of\n",
        "x += 1 # Increment statement\n",
        "print(x) "
      ],
      "execution_count": 0,
      "outputs": []
    },
    {
      "cell_type": "code",
      "metadata": {
        "id": "KbfM2EBT5vbJ",
        "colab_type": "code",
        "colab": {}
      },
      "source": [
        "# Floats\n",
        "\n",
        "x = 2.0 # This how you create a new float variable\n",
        "print(type(x))\n",
        "print(\"x is:\",x,\"and x + 1 is:\", x+1)\n",
        "print(\"x multiply by 3 is:\",x*3, \"and x^3 is:\", x**3)\n",
        "x += 1\n",
        "print(x)"
      ],
      "execution_count": 0,
      "outputs": []
    },
    {
      "cell_type": "code",
      "metadata": {
        "id": "lGUo6SN76SF1",
        "colab_type": "code",
        "colab": {}
      },
      "source": [
        "# Type Conversion\n",
        "\n",
        "x = 2\n",
        "print(x, type(x))\n",
        "x += 1.0 # This will convert the integer data type to float data type\n",
        "print(x, type(x))"
      ],
      "execution_count": 0,
      "outputs": []
    },
    {
      "cell_type": "markdown",
      "metadata": {
        "id": "HBfUfNEQ62MW",
        "colab_type": "text"
      },
      "source": [
        "### Strings"
      ]
    },
    {
      "cell_type": "code",
      "metadata": {
        "id": "kIwH3fn96n9s",
        "colab_type": "code",
        "colab": {}
      },
      "source": [
        "x = \"bcs_iitk\"\n",
        "print(type(x))\n",
        "print(x)\n",
        "print(len(x))\n",
        "\n",
        "y = \"workshop april 2020\"\n",
        "z = x + \" \" + y # This is how you concatenate strings\n",
        "print(z)"
      ],
      "execution_count": 0,
      "outputs": []
    },
    {
      "cell_type": "markdown",
      "metadata": {
        "id": "Lpe66hWU73Oe",
        "colab_type": "text"
      },
      "source": [
        "### Booleans"
      ]
    },
    {
      "cell_type": "code",
      "metadata": {
        "id": "RnIwkwJP7PE5",
        "colab_type": "code",
        "colab": {}
      },
      "source": [
        "x = True\n",
        "y = False\n",
        "print(type(x))\n",
        "print(x and y)\n",
        "print(x or y)\n",
        "print(not x)"
      ],
      "execution_count": 0,
      "outputs": []
    },
    {
      "cell_type": "markdown",
      "metadata": {
        "id": "gvxsZehB8O1O",
        "colab_type": "text"
      },
      "source": [
        "## Lists and Dictionaries"
      ]
    },
    {
      "cell_type": "markdown",
      "metadata": {
        "id": "IDh8YHia8hoR",
        "colab_type": "text"
      },
      "source": [
        "### Lists \n",
        "Lists are container which can contain several elements or values in one variable name. Quite similar to arrays in C/ C++ but with additional features.\n"
      ]
    },
    {
      "cell_type": "markdown",
      "metadata": {
        "id": "6G1U7-ki_JyO",
        "colab_type": "text"
      },
      "source": [
        "#### Creating lists"
      ]
    },
    {
      "cell_type": "code",
      "metadata": {
        "id": "yIjiBvSN8Z-X",
        "colab_type": "code",
        "colab": {}
      },
      "source": [
        "x = [5, 1, 8] # Creating a list of 3 elements\n",
        "print(x)\n",
        "\n",
        "# Calling individual element\n",
        "print(\"1st element:\",x[0],\"and 1st last element:\", x[-1])\n",
        "\n",
        "# change value\n",
        "x[1] = 2\n",
        "print(\"Change Value:\",x)\n",
        "\n",
        "# Add a new element\n",
        "x.append(4)\n",
        "print(\"new element:\",x)\n",
        "\n",
        "# Removing any element at specified index\n",
        "print(\"Removed element:\",x.pop(3), \"| Left out list:\",x)\n",
        "\n",
        "y = [] # Initialising an empty list\n",
        "print(y)\n",
        "y.append(x.pop(0))\n",
        "print(\"y:\",y, \"| x:\",x)"
      ],
      "execution_count": 0,
      "outputs": []
    },
    {
      "cell_type": "markdown",
      "metadata": {
        "id": "UVoHZB6a_VnH",
        "colab_type": "text"
      },
      "source": [
        "#### Slicing\n",
        "In python you can easily get the sublists using slicing."
      ]
    },
    {
      "cell_type": "code",
      "metadata": {
        "id": "txf50iau_fIi",
        "colab_type": "code",
        "colab": {}
      },
      "source": [
        "x = [*range(10)] # short trick to create a list containing integers from 0 to 10\n",
        "y = [*range(2,10,2)]\n",
        "print(x)\n",
        "print(y)\n",
        "print(x[:5]) # from starting index to 4\n",
        "print(x[5:]) # from 5 to last index\n",
        "print(x[3:8]) # from 3 to 7\n",
        "x[:3] = [*range(3,6)] # changing value of a slice\n",
        "print(x)"
      ],
      "execution_count": 0,
      "outputs": []
    },
    {
      "cell_type": "markdown",
      "metadata": {
        "id": "-BjnLk9eMcvo",
        "colab_type": "text"
      },
      "source": [
        "### Dictionaries\n",
        "Dictionary are variables which stores key-value pairs."
      ]
    },
    {
      "cell_type": "code",
      "metadata": {
        "id": "3os3F0bpAQmt",
        "colab_type": "code",
        "colab": {}
      },
      "source": [
        "# 'Name', 'Branch' and 'Roll' are keys || 'Shashi', 'Electrical' and 160645 are there respective values\n",
        "student_1 = {'Name': 'Shashi', 'Branch': 'Electrical', 'Roll': 160645}\n",
        "print(student_1)\n",
        "print(student_1['Name'])\n",
        "print(student_1['Roll'])\n",
        "\n",
        "# Adding new key-value pair\n",
        "student_1['CPI'] = 'NA' # :-P\n",
        "print(student_1)"
      ],
      "execution_count": 0,
      "outputs": []
    },
    {
      "cell_type": "code",
      "metadata": {
        "id": "9kBLLgLWNNdj",
        "colab_type": "code",
        "colab": {}
      },
      "source": [
        ""
      ],
      "execution_count": 0,
      "outputs": []
    },
    {
      "cell_type": "markdown",
      "metadata": {
        "id": "x_nDVvi1ODC_",
        "colab_type": "text"
      },
      "source": [
        "## Conditional Statements (if-else)\n",
        "Conditional statements are used for decision making. Unlike C/C++, there is no switch-case thing in Python."
      ]
    },
    {
      "cell_type": "code",
      "metadata": {
        "id": "NWefhWGiOe9y",
        "colab_type": "code",
        "colab": {}
      },
      "source": [
        "x = 1\n",
        "\n",
        "if x == 1:\n",
        "    print(\"x is 1\")\n",
        "else:\n",
        "    print(\"x is not 1\")\n",
        "\n",
        "x = 2\n",
        "if x == 1:\n",
        "    print(\"x is 1\")\n",
        "else:\n",
        "    print(\"x is not 1\")\n",
        "    \n",
        "x = 2\n",
        "if x == 1:\n",
        "    print(\"x is 1\")\n",
        "elif x == 2:\n",
        "    print(\"x is 2\")\n",
        "else:\n",
        "    print(\"x is neither 1 nor 2\")\n",
        "    \n",
        "x = 3\n",
        "if x == 1:\n",
        "    print(\"x is 1\")\n",
        "elif x == 2:\n",
        "    print(\"x is 2\")\n",
        "else:\n",
        "    print(\"x is neither 1 nor 2\")"
      ],
      "execution_count": 0,
      "outputs": []
    },
    {
      "cell_type": "markdown",
      "metadata": {
        "id": "t6vT8PCDOvbp",
        "colab_type": "text"
      },
      "source": [
        "## Loops\n",
        "Loops are used to run same kind of lines multiple times."
      ]
    },
    {
      "cell_type": "code",
      "metadata": {
        "id": "bERz0JgSOpjm",
        "colab_type": "code",
        "colab": {}
      },
      "source": [
        "# general loop\n",
        "for i in range(5):\n",
        "    print(i)\n",
        "\n",
        "print('------')\n",
        "for i in range(1, 8, 2):\n",
        "    print(i)"
      ],
      "execution_count": 0,
      "outputs": []
    },
    {
      "cell_type": "code",
      "metadata": {
        "id": "LZ9gypggPDQ2",
        "colab_type": "code",
        "colab": {}
      },
      "source": [
        "# Looping over a list\n",
        "x = [2, 5, 6]\n",
        "for i in x:\n",
        "    print(i)"
      ],
      "execution_count": 0,
      "outputs": []
    },
    {
      "cell_type": "code",
      "metadata": {
        "id": "iJw_ju-RPTwv",
        "colab_type": "code",
        "colab": {}
      },
      "source": [
        "# list comprehension\n",
        "x = [*range(5)]\n",
        "x_sq = [i ** 2 for i in x]\n",
        "print(x)\n",
        "print(x_sq)"
      ],
      "execution_count": 0,
      "outputs": []
    },
    {
      "cell_type": "code",
      "metadata": {
        "id": "_gxO4oaJPbet",
        "colab_type": "code",
        "colab": {}
      },
      "source": [
        "# while loop\n",
        "x = 1\n",
        "while x<5:\n",
        "    print(x)\n",
        "    x+=1"
      ],
      "execution_count": 0,
      "outputs": []
    },
    {
      "cell_type": "markdown",
      "metadata": {
        "id": "FwSPz2zjPipe",
        "colab_type": "text"
      },
      "source": [
        "## Functions\n",
        "Defined simply using ```def``` keyword. Can return as many variable as much you want. Can take optional keyword arguments as well."
      ]
    },
    {
      "cell_type": "code",
      "metadata": {
        "id": "755MZpcjPg0a",
        "colab_type": "code",
        "colab": {}
      },
      "source": [
        "# simple python function\n",
        "def poly(poly_idx, x):\n",
        "    value = 0\n",
        "    l = len(poly_idx) - 1\n",
        "    \n",
        "    for i in range(l+1):\n",
        "        value += poly_idx[i]*(x**(l-i))\n",
        "        \n",
        "    return value\n",
        "\n",
        "print(\"x^2 + x + 1 at x = 0 is:\", poly([1, 1, 1], 0))\n",
        "print(\"x^2 + x + 1 at x = 1 is:\", poly([1, 1, 1], 1))\n",
        "print(\"x^2 + x + 1 at x = 2 is:\", poly([1, 1, 1], 2))\n",
        "print(\"2x^2 + x + 1 at x = 2 is:\", poly([2, 1, 1], 1))"
      ],
      "execution_count": 0,
      "outputs": []
    },
    {
      "cell_type": "code",
      "metadata": {
        "id": "kSf6RCaJQAY_",
        "colab_type": "code",
        "colab": {}
      },
      "source": [
        "# function which can return multiple var\n",
        "def get_data():\n",
        "  return 1, 2, 3\n",
        "\n",
        "x, y, z = get_data()\n",
        "\n",
        "print(x, y, z)"
      ],
      "execution_count": 0,
      "outputs": []
    },
    {
      "cell_type": "code",
      "metadata": {
        "id": "z2EGiHHBSMdr",
        "colab_type": "code",
        "colab": {}
      },
      "source": [
        "# function with optional keyword argument\n",
        "def greet(to_whom, greet_type=\"Hi\"):\n",
        "  print(greet_type, \"Shashi!\")\n",
        "\n",
        "greet(\"Shashi\")\n",
        "greet(\"Shashi\", greet_type=\"Bye\")"
      ],
      "execution_count": 0,
      "outputs": []
    },
    {
      "cell_type": "markdown",
      "metadata": {
        "id": "YaKU_FfMTfDz",
        "colab_type": "text"
      },
      "source": [
        "## Classes"
      ]
    },
    {
      "cell_type": "code",
      "metadata": {
        "id": "gQ7xYRiLTX4a",
        "colab_type": "code",
        "colab": {}
      },
      "source": [
        "class Person():\n",
        "    def __init__(self, name, roll):\n",
        "        self.name = name\n",
        "        self.roll = roll\n",
        "        \n",
        "    def get_roll(self):\n",
        "        return self.roll\n",
        "    \n",
        "    def greet(self, say_hi_bye=\"Hi\"):\n",
        "        print(say_hi_bye, self.name) \n",
        "        \n",
        "p1 = Person(name=\"Shashi\", roll=160645)\n",
        "\n",
        "print(p1.get_roll())\n",
        "p1.greet()\n",
        "p1.greet(say_hi_bye=\"Bye\")"
      ],
      "execution_count": 0,
      "outputs": []
    },
    {
      "cell_type": "markdown",
      "metadata": {
        "id": "UHYk-BexVCFT",
        "colab_type": "text"
      },
      "source": [
        "## Practice Assignment - 1 [Not graded]"
      ]
    },
    {
      "cell_type": "markdown",
      "metadata": {
        "id": "11IM79czVT1A",
        "colab_type": "text"
      },
      "source": [
        "### Try creating merge sort algorithm\n",
        "\n"
      ]
    },
    {
      "cell_type": "markdown",
      "metadata": {
        "id": "8BL2Z32vWoVU",
        "colab_type": "text"
      },
      "source": [
        "Pseudo code is given below:\n",
        "\n",
        "```\n",
        "// SRC: https://www.geeksforgeeks.org/merge-sort/\n",
        "\n",
        "MergeSort(arr[], l,  r)\n",
        "If r > l\n",
        "     1. Find the middle point to divide the array into two halves:  \n",
        "             middle m = (l+r)/2\n",
        "     2. Call mergeSort for first half:   \n",
        "             Call mergeSort(arr, l, m)\n",
        "     3. Call mergeSort for second half:\n",
        "             Call mergeSort(arr, m+1, r)\n",
        "     4. Merge the two halves sorted in step 2 and 3:\n",
        "             Call merge(arr, l, m, r)\n",
        "```"
      ]
    },
    {
      "cell_type": "code",
      "metadata": {
        "id": "3Z0PD7VVWSIo",
        "colab_type": "code",
        "colab": {}
      },
      "source": [
        "# Write your code here"
      ],
      "execution_count": 0,
      "outputs": []
    },
    {
      "cell_type": "markdown",
      "metadata": {
        "id": "5r0oyV2VUiQE",
        "colab_type": "text"
      },
      "source": [
        "## SciPy\n",
        "It contains a collection of python packages for mathematics, science and egineering. We will be covering some of the basics of some of the important packages: **NumPy** and **Matplotlib**"
      ]
    },
    {
      "cell_type": "markdown",
      "metadata": {
        "id": "J-c7oLkUYqT2",
        "colab_type": "text"
      },
      "source": [
        "### NumPy"
      ]
    },
    {
      "cell_type": "markdown",
      "metadata": {
        "id": "FROjbDpsYFLp",
        "colab_type": "text"
      },
      "source": [
        "#### General"
      ]
    },
    {
      "cell_type": "code",
      "metadata": {
        "id": "vterOnKZTpq7",
        "colab_type": "code",
        "colab": {}
      },
      "source": [
        "import numpy as np # this is how you import libraries in Python"
      ],
      "execution_count": 0,
      "outputs": []
    },
    {
      "cell_type": "code",
      "metadata": {
        "id": "P6KQpbT-XF02",
        "colab_type": "code",
        "colab": {}
      },
      "source": [
        "# creating numpy arrays\n",
        "x = np.asarray([3, 1, 5])\n",
        "print(x)\n",
        "print(x.shape)\n",
        "print(x[1])\n",
        "print(x[:2])\n",
        "\n",
        "print(np.asarray([[1, 2],[3, 4]]))"
      ],
      "execution_count": 0,
      "outputs": []
    },
    {
      "cell_type": "code",
      "metadata": {
        "id": "rooU0xOlXJ5T",
        "colab_type": "code",
        "colab": {}
      },
      "source": [
        "x = np.random.random((2,2)) #random 2x2 array\n",
        "print(x.shape)\n",
        "print(x)\n",
        "print(x[1,1])"
      ],
      "execution_count": 0,
      "outputs": []
    },
    {
      "cell_type": "code",
      "metadata": {
        "id": "yMVvh4vvXXhK",
        "colab_type": "code",
        "colab": {}
      },
      "source": [
        "x = np.arange(16) #linear array with values ranging from 0 to 15\n",
        "print(x)\n",
        "x = x.reshape((4,4)) #reshaping\n",
        "print(x)"
      ],
      "execution_count": 0,
      "outputs": []
    },
    {
      "cell_type": "code",
      "metadata": {
        "id": "lM7N2bADXllq",
        "colab_type": "code",
        "colab": {}
      },
      "source": [
        "# indexing\n",
        "y = x[:2, 1:]\n",
        "print(y.shape)\n",
        "print(y)\n",
        "print(y.shape[0], y.shape[1])"
      ],
      "execution_count": 0,
      "outputs": []
    },
    {
      "cell_type": "code",
      "metadata": {
        "id": "qU7nRXD_XojO",
        "colab_type": "code",
        "colab": {}
      },
      "source": [
        "# boolean indexing\n",
        "x = np.arange(8)\n",
        "print(x)\n",
        "print(x>5)\n",
        "print(x[x>5])"
      ],
      "execution_count": 0,
      "outputs": []
    },
    {
      "cell_type": "markdown",
      "metadata": {
        "id": "8eIgkAT5YJWM",
        "colab_type": "text"
      },
      "source": [
        "#### Broadcasting"
      ]
    },
    {
      "cell_type": "code",
      "metadata": {
        "id": "uxGbQ1q8XyQM",
        "colab_type": "code",
        "colab": {}
      },
      "source": [
        "# Broadcasting \n",
        "\n",
        "x = np.asarray([1, 4, 9, 16])\n",
        "y = np.ones(4,)\n",
        "\n",
        "## Adding 1\n",
        "\n",
        "# Usual way\n",
        "print(x+y)\n",
        "# broadcasting\n",
        "print(x+1)"
      ],
      "execution_count": 0,
      "outputs": []
    },
    {
      "cell_type": "code",
      "metadata": {
        "id": "trYTS4jFX9gA",
        "colab_type": "code",
        "colab": {}
      },
      "source": [
        "x = np.asarray([[1, 2], [3, 4]])\n",
        "y = np.asarray([[2], [2]])\n",
        "\n",
        "print(x)\n",
        "print(y)"
      ],
      "execution_count": 0,
      "outputs": []
    },
    {
      "cell_type": "code",
      "metadata": {
        "id": "dA87Gwd_YOV1",
        "colab_type": "code",
        "colab": {}
      },
      "source": [
        "print(x*2) #multiplied to all the indexes"
      ],
      "execution_count": 0,
      "outputs": []
    },
    {
      "cell_type": "code",
      "metadata": {
        "id": "cXDktx_MYRrK",
        "colab_type": "code",
        "colab": {}
      },
      "source": [
        "print(x*y) #again mulptiplication"
      ],
      "execution_count": 0,
      "outputs": []
    },
    {
      "cell_type": "code",
      "metadata": {
        "id": "gwURP8PiYXqg",
        "colab_type": "code",
        "colab": {}
      },
      "source": [
        "print(np.dot(x, y)) #dot product"
      ],
      "execution_count": 0,
      "outputs": []
    },
    {
      "cell_type": "code",
      "metadata": {
        "id": "FLx9UDryYdn9",
        "colab_type": "code",
        "colab": {}
      },
      "source": [
        "print(y.shape)\n",
        "print(y.T.shape) # transpose"
      ],
      "execution_count": 0,
      "outputs": []
    },
    {
      "cell_type": "markdown",
      "metadata": {
        "id": "13i6ciPkYuvT",
        "colab_type": "text"
      },
      "source": [
        "### MatplotLib"
      ]
    },
    {
      "cell_type": "code",
      "metadata": {
        "id": "gAAqg7qtYhKc",
        "colab_type": "code",
        "colab": {}
      },
      "source": [
        "import matplotlib.pyplot as plt # creating a shorthand name for the imported library"
      ],
      "execution_count": 0,
      "outputs": []
    },
    {
      "cell_type": "code",
      "metadata": {
        "id": "1APdjTtUY7ef",
        "colab_type": "code",
        "colab": {}
      },
      "source": [
        "x = np.arange(0, 6 * np.pi, 0.2)\n",
        "ys = np.sin(x)\n",
        "yc = np.cos(x)\n",
        "\n",
        "plt.plot(x, ys)\n",
        "plt.plot(x, yc)\n",
        "plt.xlabel('x axis')\n",
        "plt.ylabel('y axis')\n",
        "plt.title('Sin and Cos Curve')\n",
        "plt.legend(['Sin', 'Cos'])\n",
        "plt.grid()"
      ],
      "execution_count": 0,
      "outputs": []
    },
    {
      "cell_type": "markdown",
      "metadata": {
        "id": "O3VDV0UdZEDn",
        "colab_type": "text"
      },
      "source": [
        "### SciPy Stats\n",
        "Those who don't have any backgrounds in statistics can get back here after completing the stats lecture."
      ]
    },
    {
      "cell_type": "code",
      "metadata": {
        "id": "HMnP6TpzY_nR",
        "colab_type": "code",
        "colab": {}
      },
      "source": [
        "import scipy.stats\n",
        "\n",
        "rv = scipy.stats.norm(0, 1) # getting a normal random var of mean=0 and var=1"
      ],
      "execution_count": 0,
      "outputs": []
    },
    {
      "cell_type": "code",
      "metadata": {
        "id": "iKkVD5AqaZYF",
        "colab_type": "code",
        "colab": {}
      },
      "source": [
        "samples = rv.rvs(10000) # taking a random sample\n",
        "print(samples)\n",
        "print(samples.shape)"
      ],
      "execution_count": 0,
      "outputs": []
    },
    {
      "cell_type": "code",
      "metadata": {
        "id": "8EwEhd6eZX2-",
        "colab_type": "code",
        "colab": {}
      },
      "source": [
        "x = np.arange(-4, 4, 0.05)\n",
        "print(x.shape)\n",
        "y = rv.pdf(x) #will give the probability distribution function of the random var 'rv'\n",
        "print(y.shape)"
      ],
      "execution_count": 0,
      "outputs": []
    },
    {
      "cell_type": "code",
      "metadata": {
        "id": "3a6cKS86aLPn",
        "colab_type": "code",
        "colab": {}
      },
      "source": [
        "temp = plt.hist(samples, density=True, bins=100) # plot histogram i.e. frequency dist\n",
        "plt.plot(x, y, 'r-', lw=3)"
      ],
      "execution_count": 0,
      "outputs": []
    },
    {
      "cell_type": "code",
      "metadata": {
        "id": "HgHfaAp5aTK-",
        "colab_type": "code",
        "colab": {}
      },
      "source": [
        "# An another example with mean=5 and var=1\n",
        "rv = scipy.stats.norm(5, 1)\n",
        "samples = rv.rvs(10000)\n",
        "x = np.arange(0, 10, 0.05)\n",
        "y = rv.pdf(x)\n",
        "temp = plt.hist(samples, density=True, bins=100)\n",
        "plt.plot(x, y, 'r-', lw=3)"
      ],
      "execution_count": 0,
      "outputs": []
    },
    {
      "cell_type": "code",
      "metadata": {
        "id": "hAe_p8hwamqG",
        "colab_type": "code",
        "colab": {}
      },
      "source": [
        "# An another example with mean=0 and var=3\n",
        "rv = scipy.stats.norm(0, 3)\n",
        "samples = rv.rvs(10000)\n",
        "x = np.arange(-5, 5, 0.05)\n",
        "y = rv.pdf(x)\n",
        "temp = plt.hist(samples, density=True, bins=100)\n",
        "plt.plot(x, y, 'r-', lw=3)"
      ],
      "execution_count": 0,
      "outputs": []
    },
    {
      "cell_type": "markdown",
      "metadata": {
        "id": "sD5uON7QoiNc",
        "colab_type": "text"
      },
      "source": [
        "# For further reference\n",
        "\n",
        "\n",
        "*   [A Byte of Python](https://python.swaroopch.com/)\n",
        "*   [NumPy Quickstart Tutorial](https://numpy.org/devdocs/user/quickstart.html#further-reading)\n",
        "*   [Scipy Lecture Notes](https://numpy.org/devdocs/user/quickstart.html#further-reading)\n",
        "\n"
      ]
    }
  ]
}