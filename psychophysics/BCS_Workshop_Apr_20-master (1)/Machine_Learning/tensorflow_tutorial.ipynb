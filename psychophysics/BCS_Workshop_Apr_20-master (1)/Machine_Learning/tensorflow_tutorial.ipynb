{
  "nbformat": 4,
  "nbformat_minor": 0,
  "metadata": {
    "colab": {
      "name": "tensorflow_tutorial.ipynb",
      "provenance": [],
      "collapsed_sections": [
        "Jwk7Ra_MU0la",
        "BuBqnRqpK13V",
        "QMGTMvfvLFk-",
        "c2cAkULTMfU8",
        "q91eumLBOSk2",
        "SZ2RORyLTH9S"
      ]
    },
    "kernelspec": {
      "name": "python3",
      "display_name": "Python 3"
    },
    "accelerator": "GPU"
  },
  "cells": [
    {
      "cell_type": "markdown",
      "metadata": {
        "id": "uqSslbeAH0QK",
        "colab_type": "text"
      },
      "source": [
        "# Tensorflow and Google Colab Tutorial"
      ]
    },
    {
      "cell_type": "markdown",
      "metadata": {
        "id": "Jwk7Ra_MU0la",
        "colab_type": "text"
      },
      "source": [
        "## Import the needed libraries"
      ]
    },
    {
      "cell_type": "code",
      "metadata": {
        "id": "tqYDOcBmvTAS",
        "colab_type": "code",
        "outputId": "21cbce7d-f18f-4291-9ed0-7d237b0a4a18",
        "colab": {
          "base_uri": "https://localhost:8080/",
          "height": 80
        }
      },
      "source": [
        "import numpy as np\n",
        "import tensorflow as tf\n",
        "import matplotlib.pyplot as plt\n",
        "from tensorflow.keras.models import Sequential\n",
        "from tensorflow.keras.layers import Dense, Dropout, Flatten, Activation"
      ],
      "execution_count": 0,
      "outputs": [
        {
          "output_type": "display_data",
          "data": {
            "text/html": [
              "<p style=\"color: red;\">\n",
              "The default version of TensorFlow in Colab will soon switch to TensorFlow 2.x.<br>\n",
              "We recommend you <a href=\"https://www.tensorflow.org/guide/migrate\" target=\"_blank\">upgrade</a> now \n",
              "or ensure your notebook will continue to use TensorFlow 1.x via the <code>%tensorflow_version 1.x</code> magic:\n",
              "<a href=\"https://colab.research.google.com/notebooks/tensorflow_version.ipynb\" target=\"_blank\">more info</a>.</p>\n"
            ],
            "text/plain": [
              "<IPython.core.display.HTML object>"
            ]
          },
          "metadata": {
            "tags": []
          }
        }
      ]
    },
    {
      "cell_type": "markdown",
      "metadata": {
        "id": "BuBqnRqpK13V",
        "colab_type": "text"
      },
      "source": [
        "## Saving and Reading files to Google Drive"
      ]
    },
    {
      "cell_type": "code",
      "metadata": {
        "id": "CkqYW6JYIPM_",
        "colab_type": "code",
        "outputId": "59a70bb2-8db0-40b5-85b1-ff9d1f40cac0",
        "colab": {
          "base_uri": "https://localhost:8080/"
        }
      },
      "source": [
        "from google.colab import drive\n",
        "drive.mount('/content/drive')"
      ],
      "execution_count": 0,
      "outputs": [
        {
          "output_type": "stream",
          "text": [
            "Go to this URL in a browser: https://accounts.google.com/o/oauth2/auth?client_id=947318989803-6bn6qk8qdgf4n4g3pfee6491hc0brc4i.apps.googleusercontent.com&redirect_uri=urn%3aietf%3awg%3aoauth%3a2.0%3aoob&response_type=code&scope=email%20https%3a%2f%2fwww.googleapis.com%2fauth%2fdocs.test%20https%3a%2f%2fwww.googleapis.com%2fauth%2fdrive%20https%3a%2f%2fwww.googleapis.com%2fauth%2fdrive.photos.readonly%20https%3a%2f%2fwww.googleapis.com%2fauth%2fpeopleapi.readonly\n",
            "\n",
            "Enter your authorization code:\n",
            "··········\n",
            "Mounted at /content/drive\n"
          ],
          "name": "stdout"
        }
      ]
    },
    {
      "cell_type": "code",
      "metadata": {
        "id": "eT24VTIbJOdC",
        "colab_type": "code",
        "outputId": "4cb48c9f-c685-48a4-a2bd-dc84b57428aa",
        "colab": {
          "base_uri": "https://localhost:8080/"
        }
      },
      "source": [
        "save_data = np.asarray([[1, 2, 3], [4, 5, 6]])\n",
        "print(save_data)"
      ],
      "execution_count": 0,
      "outputs": [
        {
          "output_type": "stream",
          "text": [
            "[[1 2 3]\n",
            " [4 5 6]]\n"
          ],
          "name": "stdout"
        }
      ]
    },
    {
      "cell_type": "code",
      "metadata": {
        "id": "QNi9kkUgJPL7",
        "colab_type": "code",
        "colab": {}
      },
      "source": [
        "np.savetxt(\"/content/drive/My Drive/try.txt\", save_data)"
      ],
      "execution_count": 0,
      "outputs": []
    },
    {
      "cell_type": "code",
      "metadata": {
        "id": "oXl_8I-gJWI1",
        "colab_type": "code",
        "outputId": "f890d5ec-7a44-4e9e-b152-610d8caa0655",
        "colab": {
          "base_uri": "https://localhost:8080/"
        }
      },
      "source": [
        "read_data = np.genfromtxt(\"/content/drive/My Drive/try.txt\")\n",
        "print(read_data)"
      ],
      "execution_count": 0,
      "outputs": [
        {
          "output_type": "stream",
          "text": [
            "[[1. 2. 3.]\n",
            " [4. 5. 6.]]\n"
          ],
          "name": "stdout"
        }
      ]
    },
    {
      "cell_type": "markdown",
      "metadata": {
        "id": "QMGTMvfvLFk-",
        "colab_type": "text"
      },
      "source": [
        "## Getting dataset for training from tensorflow"
      ]
    },
    {
      "cell_type": "code",
      "metadata": {
        "id": "gTdnRfxQLOB2",
        "colab_type": "code",
        "outputId": "dcfecd25-b764-4454-9404-975f78569863",
        "colab": {
          "base_uri": "https://localhost:8080/",
          "height": 52
        }
      },
      "source": [
        "mnist = tf.keras.datasets.mnist\n",
        "num_classes = 10\n",
        "\n",
        "(x_train, y_train), (x_test, y_test) = mnist.load_data()\n",
        "## Converting the datas to float values as well as changing their range from \"0.0\" to \"1.0\"\n",
        "x_train, x_test = x_train / 255.0, x_test / 255.0 \n",
        "\n",
        "# convert class vectors to binary class matrices\n",
        "y_train = tf.keras.utils.to_categorical(y_train, num_classes)\n",
        "y_test = tf.keras.utils.to_categorical(y_test, num_classes)"
      ],
      "execution_count": 0,
      "outputs": [
        {
          "output_type": "stream",
          "text": [
            "Downloading data from https://storage.googleapis.com/tensorflow/tf-keras-datasets/mnist.npz\n",
            "11493376/11490434 [==============================] - 0s 0us/step\n"
          ],
          "name": "stdout"
        }
      ]
    },
    {
      "cell_type": "code",
      "metadata": {
        "id": "WDF_OZJmLUfx",
        "colab_type": "code",
        "outputId": "4f023b5b-7a27-411b-dc48-ba345881aa75",
        "colab": {
          "base_uri": "https://localhost:8080/",
          "height": 87
        }
      },
      "source": [
        "# Check training and test data sizes\n",
        "print('x_train shape:', x_train.shape)\n",
        "print('y_train shape:', y_train.shape)\n",
        "print('x_test shape:', x_test.shape)\n",
        "print('y_test shape:', y_test.shape)"
      ],
      "execution_count": 0,
      "outputs": [
        {
          "output_type": "stream",
          "text": [
            "x_train shape: (60000, 28, 28)\n",
            "y_train shape: (60000, 10)\n",
            "x_test shape: (10000, 28, 28)\n",
            "y_test shape: (10000, 10)\n"
          ],
          "name": "stdout"
        }
      ]
    },
    {
      "cell_type": "markdown",
      "metadata": {
        "id": "c2cAkULTMfU8",
        "colab_type": "text"
      },
      "source": [
        "## Define your Model"
      ]
    },
    {
      "cell_type": "code",
      "metadata": {
        "id": "Ojrke2ssL6ud",
        "colab_type": "code",
        "colab": {}
      },
      "source": [
        "def my_model_1H():\n",
        "    model = Sequential()\n",
        "\n",
        "    model.add(Flatten(input_shape=(28, 28)))\n",
        "    model.add(Dense(128))\n",
        "    model.add(Activation('relu'))\n",
        "    model.add(Dropout(0.2))\n",
        "\n",
        "    model.add(Dense(num_classes, activation='softmax'))\n",
        "\n",
        "    model.compile(loss=tf.keras.losses.categorical_crossentropy,\n",
        "                  optimizer='adam',\n",
        "                  metrics=['accuracy'])\n",
        "    \n",
        "    return model\n",
        "\n",
        "def my_model_2H():\n",
        "    model = Sequential()\n",
        "\n",
        "    model.add(Flatten(input_shape=(28, 28)))\n",
        "\n",
        "    model.add(Dense(512))\n",
        "    model.add(Activation('relu'))\n",
        "    model.add(Dropout(0.2))\n",
        "\n",
        "    model.add(Dense(128))\n",
        "    model.add(Activation('relu'))\n",
        "    model.add(Dropout(0.2))\n",
        "\n",
        "    model.add(Dense(num_classes, activation='softmax'))\n",
        "\n",
        "    model.compile(loss=tf.keras.losses.categorical_crossentropy,\n",
        "                  optimizer='adam',\n",
        "                  metrics=['accuracy'])\n",
        "    \n",
        "    return model\n",
        "\n",
        "def my_model_5H():\n",
        "    model = Sequential()\n",
        "\n",
        "    model.add(Flatten(input_shape=(28, 28)))\n",
        "\n",
        "    model.add(Dense(512))\n",
        "    model.add(Activation('relu'))\n",
        "    model.add(Dropout(0.2))\n",
        "\n",
        "    model.add(Dense(128))\n",
        "    model.add(Activation('relu'))\n",
        "    model.add(Dropout(0.2))\n",
        "\n",
        "    model.add(Dense(128))\n",
        "    model.add(Activation('relu'))\n",
        "    model.add(Dropout(0.2))\n",
        "\n",
        "    model.add(Dense(128))\n",
        "    model.add(Activation('relu'))\n",
        "    model.add(Dropout(0.2))\n",
        "\n",
        "    model.add(Dense(128))\n",
        "    model.add(Activation('relu'))\n",
        "    model.add(Dropout(0.2))\n",
        "\n",
        "    model.add(Dense(num_classes, activation='softmax'))\n",
        "\n",
        "    model.compile(loss=tf.keras.losses.categorical_crossentropy,\n",
        "                  optimizer='adam',\n",
        "                  metrics=['accuracy'])\n",
        "    \n",
        "    return model"
      ],
      "execution_count": 0,
      "outputs": []
    },
    {
      "cell_type": "markdown",
      "metadata": {
        "id": "q91eumLBOSk2",
        "colab_type": "text"
      },
      "source": [
        "## Training and Evaluating"
      ]
    },
    {
      "cell_type": "code",
      "metadata": {
        "id": "Y82Lx0MoOoam",
        "colab_type": "code",
        "outputId": "c2579fa1-f392-4b41-fc60-26925a908ea0",
        "colab": {
          "base_uri": "https://localhost:8080/",
          "height": 369
        }
      },
      "source": [
        "batch_size = 512\n",
        "epochs = 5\n",
        "\n",
        "model = my_model_1H()\n",
        "\n",
        "print(\"Start Training .....................\")\n",
        "history = model.fit(x_train, y_train,\n",
        "                    batch_size=batch_size,\n",
        "                    epochs=epochs,\n",
        "                    verbose=1,\n",
        "                    validation_data=(x_test, y_test))\n",
        "print(\"Training Done .....................\")\n",
        "\n",
        "print(\"Evaluation.....................\")\n",
        "score = model.evaluate(x_test, y_test, verbose=0)\n",
        "print('Test loss:', score[0])\n",
        "print('Test accuracy:', score[1])"
      ],
      "execution_count": 0,
      "outputs": [
        {
          "output_type": "stream",
          "text": [
            "WARNING:tensorflow:From /usr/local/lib/python3.6/dist-packages/tensorflow_core/python/ops/resource_variable_ops.py:1630: calling BaseResourceVariable.__init__ (from tensorflow.python.ops.resource_variable_ops) with constraint is deprecated and will be removed in a future version.\n",
            "Instructions for updating:\n",
            "If using Keras pass *_constraint arguments to layers.\n",
            "Start Training .....................\n",
            "Train on 60000 samples, validate on 10000 samples\n",
            "Epoch 1/5\n",
            "60000/60000 [==============================] - 6s 101us/sample - loss: 0.2935 - acc: 0.9153 - val_loss: 0.1434 - val_acc: 0.9560\n",
            "Epoch 2/5\n",
            "60000/60000 [==============================] - 5s 85us/sample - loss: 0.1438 - acc: 0.9582 - val_loss: 0.1049 - val_acc: 0.9676\n",
            "Epoch 3/5\n",
            "60000/60000 [==============================] - 5s 85us/sample - loss: 0.1096 - acc: 0.9672 - val_loss: 0.0822 - val_acc: 0.9748\n",
            "Epoch 4/5\n",
            "60000/60000 [==============================] - 5s 84us/sample - loss: 0.0886 - acc: 0.9727 - val_loss: 0.0787 - val_acc: 0.9750\n",
            "Epoch 5/5\n",
            "60000/60000 [==============================] - 5s 84us/sample - loss: 0.0771 - acc: 0.9761 - val_loss: 0.0700 - val_acc: 0.9792\n",
            "Training Done .....................\n",
            "Evaluation.....................\n",
            "Test loss: 0.07000434307013638\n",
            "Test accuracy: 0.9792\n"
          ],
          "name": "stdout"
        }
      ]
    },
    {
      "cell_type": "code",
      "metadata": {
        "id": "8sXXhUTNw6Jf",
        "colab_type": "code",
        "outputId": "ed0ca932-6bb8-4288-feb4-30522dfb944c",
        "colab": {
          "base_uri": "https://localhost:8080/",
          "height": 177
        }
      },
      "source": [
        "batch_size = 1\n",
        "epochs = 5\n",
        "\n",
        "model = my_model_1H()\n",
        "\n",
        "print(\"Start Training .....................\")\n",
        "history = model.fit(x_train, y_train,\n",
        "                    batch_size=batch_size,\n",
        "                    epochs=epochs,\n",
        "                    verbose=1,\n",
        "                    validation_data=(x_test, y_test))\n",
        "print(\"Training Done .....................\")\n",
        "\n",
        "print(\"Evaluation.....................\")\n",
        "score = model.evaluate(x_test, y_test, verbose=0)\n",
        "print('Test loss:', score[0])\n",
        "print('Test accuracy:', score[1])"
      ],
      "execution_count": 0,
      "outputs": [
        {
          "output_type": "stream",
          "text": [
            "Start Training .....................\n",
            "Train on 60000 samples, validate on 10000 samples\n",
            "Epoch 1/5\n",
            "60000/60000 [==============================] - 155s 3ms/sample - loss: 0.2677 - acc: 0.9227 - val_loss: 0.1458 - val_acc: 0.9604\n",
            "Epoch 2/5\n",
            "60000/60000 [==============================] - 154s 3ms/sample - loss: 0.1870 - acc: 0.9511 - val_loss: 0.1629 - val_acc: 0.9614\n",
            "Epoch 3/5\n",
            "48229/60000 [=======================>......] - ETA: 26s - loss: 0.1691 - acc: 0.9582"
          ],
          "name": "stdout"
        }
      ]
    },
    {
      "cell_type": "code",
      "metadata": {
        "id": "BOzFto9uRW5V",
        "colab_type": "code",
        "outputId": "ca385c09-5069-45c4-bced-a0ae698ac386",
        "colab": {
          "base_uri": "https://localhost:8080/",
          "height": 590
        }
      },
      "source": [
        "plt.figure(0)\n",
        "plt.plot(history.history['acc'])\n",
        "plt.plot(history.history['val_acc'])\n",
        "plt.title('model accuracy')\n",
        "plt.ylabel('accuracy')\n",
        "plt.xlabel('epoch')\n",
        "plt.legend(['train', 'test'])\n",
        "plt.savefig(\"/content/drive/My Drive/model_accuracy.png\")\n",
        "\n",
        "# summarize history for loss\n",
        "plt.figure(1)\n",
        "plt.plot(history.history['loss'])\n",
        "plt.plot(history.history['val_loss'])\n",
        "plt.title('model loss')\n",
        "plt.ylabel('loss')\n",
        "plt.xlabel('epoch')\n",
        "plt.legend(['train', 'test'])"
      ],
      "execution_count": 0,
      "outputs": [
        {
          "output_type": "execute_result",
          "data": {
            "text/plain": [
              "<matplotlib.legend.Legend at 0x7f854e6b7e48>"
            ]
          },
          "metadata": {
            "tags": []
          },
          "execution_count": 12
        },
        {
          "output_type": "display_data",
          "data": {
            "image/png": "[encoded data removed]",
            "text/plain": [
              "<Figure size 432x288 with 1 Axes>"
            ]
          },
          "metadata": {
            "tags": []
          }
        },
        {
          "output_type": "display_data",
          "data": {
            "image/png": "[encoded data removed]",
            "text/plain": [
              "<Figure size 432x288 with 1 Axes>"
            ]
          },
          "metadata": {
            "tags": []
          }
        }
      ]
    },
    {
      "cell_type": "markdown",
      "metadata": {
        "id": "SZ2RORyLTH9S",
        "colab_type": "text"
      },
      "source": [
        "## Use Your Model for Prediction"
      ]
    },
    {
      "cell_type": "code",
      "metadata": {
        "id": "6oQsEAS0SW9Z",
        "colab_type": "code",
        "outputId": "406c27a8-72e5-428a-e19c-43151164660c",
        "colab": {
          "base_uri": "https://localhost:8080/",
          "height": 282
        }
      },
      "source": [
        "i = np.random.randint(x_test.shape[0], size=1)\n",
        "img = x_test[i]\n",
        "plt.imshow(img.reshape((28, 28)))\n",
        "pred = np.argmax(model.predict(img))\n",
        "print(\"Prediction:\", pred)"
      ],
      "execution_count": 0,
      "outputs": [
        {
          "output_type": "stream",
          "text": [
            "Prediction: 4\n"
          ],
          "name": "stdout"
        },
        {
          "output_type": "display_data",
          "data": {
            "image/png": "[encoded data removed]",
            "text/plain": [
              "<Figure size 432x288 with 1 Axes>"
            ]
          },
          "metadata": {
            "tags": []
          }
        }
      ]
    },
    {
      "cell_type": "code",
      "metadata": {
        "id": "Z0pDaOA2UN1C",
        "colab_type": "code",
        "colab": {}
      },
      "source": [
        ""
      ],
      "execution_count": 0,
      "outputs": []
    }
  ]
}