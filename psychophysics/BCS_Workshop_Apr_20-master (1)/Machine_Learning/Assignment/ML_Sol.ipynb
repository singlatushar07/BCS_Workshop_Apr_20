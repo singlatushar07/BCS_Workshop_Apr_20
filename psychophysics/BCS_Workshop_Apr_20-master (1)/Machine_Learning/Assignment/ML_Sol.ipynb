{
  "nbformat": 4,
  "nbformat_minor": 0,
  "metadata": {
    "colab": {
      "name": "ML_Sol.ipynb",
      "provenance": [],
      "collapsed_sections": []
    },
    "kernelspec": {
      "name": "python3",
      "display_name": "Python 3"
    },
    "accelerator": "GPU"
  },
  "cells": [
    {
      "cell_type": "markdown",
      "metadata": {
        "id": "xgTHW1jTc94u",
        "colab_type": "text"
      },
      "source": [
        "<table class=\"tfo-notebook-buttons\" align=\"left\">\n",
        "  <td>\n",
        "    <a target=\"_blank\" href=\"https://colab.research.google.com/github/bcs-iitk/BCS_Workshop_Apr_20/blob/master/Machine_Learning/Assignment/ML_Sol.ipynb\"><img src=\"https://www.tensorflow.org/images/colab_logo_32px.png\" />Run in Google Colab</a>\n",
        "  </td>\n",
        "  <td>\n",
        "    <a target=\"_blank\" href=\"https://github.com/bcs-iitk/BCS_Workshop_Apr_20/blob/master/Machine_Learning/Assignment/ML_Sol.ipynb\"><img src=\"https://www.tensorflow.org/images/GitHub-Mark-32px.png\" />View source on GitHub</a>\n",
        "  </td>\n",
        "  <td>\n",
        "    <a href=\"https://github.com/bcs-iitk/BCS_Workshop_Apr_20/raw/master/Machine_Learning/Assignment/ML_Sol.ipynb\"><img src=\"https://www.tensorflow.org/images/download_logo_32px.png\" />Download notebook</a>\n",
        "  </td>\n",
        "</table>"
      ]
    },
    {
      "cell_type": "code",
      "metadata": {
        "id": "BiU-x0ujcRkE",
        "colab_type": "code",
        "colab": {}
      },
      "source": [
        "# Copyright (c) 2020 Brain and Cognitive Society, IIT Kanpur [ BCS @IITK ]\n",
        "# Copyright under MIT License, must reference https://github.com/bcs-iitk/BCS_Workshop_Apr_20 if used anywhere else.\n",
        "# Author: Shashi Kant (http://shashikg.github.io/)"
      ],
      "execution_count": 0,
      "outputs": []
    },
    {
      "cell_type": "markdown",
      "metadata": {
        "id": "-6GMP27JdNG2",
        "colab_type": "text"
      },
      "source": [
        "\n",
        "\n",
        "> Note: Do not forget to click on **Copy to Drive** in Google Colab to save a copy of this assignment.\n",
        "\n",
        "![copy2drive](https://github.com/bcs-iitk/BCS_Workshop_Apr_20/raw/master/Machine_Learning/Assignment/copy2drive.png)\n",
        "\n"
      ]
    },
    {
      "cell_type": "markdown",
      "metadata": {
        "id": "UWRTh7z2ZmM2",
        "colab_type": "text"
      },
      "source": [
        "# Assignment 1: Machine Learning\n"
      ]
    },
    {
      "cell_type": "markdown",
      "metadata": {
        "id": "UkJr6Lh9aIem",
        "colab_type": "text"
      },
      "source": [
        "## Question 1: Linear Regression\n",
        "To check whether you are able to build simple linear regression model from scratch or not."
      ]
    },
    {
      "cell_type": "code",
      "metadata": {
        "id": "wq1ZliSEuhTw",
        "colab_type": "code",
        "outputId": "d2d9d20d-c862-4d8b-f99f-c529c6887eae",
        "colab": {
          "base_uri": "https://localhost:8080/",
          "height": 577
        }
      },
      "source": [
        "import numpy as np\n",
        "import matplotlib.pyplot as plt\n",
        "\n",
        "!wget --no-check-certificate https://github.com/bcs-iitk/BCS_Workshop_Apr_20/raw/master/Machine_Learning/Assignment/X.npy -O X.npy\n",
        "!wget --no-check-certificate https://github.com/bcs-iitk/BCS_Workshop_Apr_20/raw/master/Machine_Learning/Assignment/y.npy -O y.npy"
      ],
      "execution_count": 2,
      "outputs": [
        {
          "output_type": "stream",
          "text": [
            "--2020-04-05 18:47:12--  https://github.com/bcs-iitk/BCS_Workshop_Apr_20/raw/master/Machine_Learning/Assignment/X.npy\n",
            "Resolving github.com (github.com)... 140.82.118.4\n",
            "Connecting to github.com (github.com)|140.82.118.4|:443... connected.\n",
            "HTTP request sent, awaiting response... 302 Found\n",
            "Location: https://raw.githubusercontent.com/bcs-iitk/BCS_Workshop_Apr_20/master/Machine_Learning/Assignment/X.npy [following]\n",
            "--2020-04-05 18:47:12--  https://raw.githubusercontent.com/bcs-iitk/BCS_Workshop_Apr_20/master/Machine_Learning/Assignment/X.npy\n",
            "Resolving raw.githubusercontent.com (raw.githubusercontent.com)... 151.101.0.133, 151.101.64.133, 151.101.128.133, ...\n",
            "Connecting to raw.githubusercontent.com (raw.githubusercontent.com)|151.101.0.133|:443... connected.\n",
            "HTTP request sent, awaiting response... 200 OK\n",
            "Length: 528 [application/octet-stream]\n",
            "Saving to: ‘X.npy’\n",
            "\n",
            "\rX.npy                 0%[                    ]       0  --.-KB/s               \rX.npy               100%[===================>]     528  --.-KB/s    in 0s      \n",
            "\n",
            "2020-04-05 18:47:12 (29.7 MB/s) - ‘X.npy’ saved [528/528]\n",
            "\n",
            "--2020-04-05 18:47:17--  https://github.com/bcs-iitk/BCS_Workshop_Apr_20/raw/master/Machine_Learning/Assignment/y.npy\n",
            "Resolving github.com (github.com)... 140.82.118.4\n",
            "Connecting to github.com (github.com)|140.82.118.4|:443... connected.\n",
            "HTTP request sent, awaiting response... 302 Found\n",
            "Location: https://raw.githubusercontent.com/bcs-iitk/BCS_Workshop_Apr_20/master/Machine_Learning/Assignment/y.npy [following]\n",
            "--2020-04-05 18:47:18--  https://raw.githubusercontent.com/bcs-iitk/BCS_Workshop_Apr_20/master/Machine_Learning/Assignment/y.npy\n",
            "Resolving raw.githubusercontent.com (raw.githubusercontent.com)... 151.101.0.133, 151.101.64.133, 151.101.128.133, ...\n",
            "Connecting to raw.githubusercontent.com (raw.githubusercontent.com)|151.101.0.133|:443... connected.\n",
            "HTTP request sent, awaiting response... 200 OK\n",
            "Length: 528 [application/octet-stream]\n",
            "Saving to: ‘y.npy’\n",
            "\n",
            "y.npy               100%[===================>]     528  --.-KB/s    in 0s      \n",
            "\n",
            "2020-04-05 18:47:18 (28.5 MB/s) - ‘y.npy’ saved [528/528]\n",
            "\n"
          ],
          "name": "stdout"
        }
      ]
    },
    {
      "cell_type": "code",
      "metadata": {
        "id": "021fTYdwTkZm",
        "colab_type": "code",
        "colab": {}
      },
      "source": [
        "def load_data_LR():\n",
        "  # Implement this function to read the dataset using the path declared in path_X and path_y\n",
        "  # should return the X and y data\n",
        "  # use np.load() to load the data google it you will get to know how to do it\n",
        "\n",
        "  path_X = \"X.npy\"\n",
        "  path_y = \"y.npy\"\n",
        "\n",
        "  # Write your code here ----------\n",
        "  X = np.load(path_X)\n",
        "  y = np.load(path_y)\n",
        "  # -------------------------------\n",
        "\n",
        "  return X, y"
      ],
      "execution_count": 0,
      "outputs": []
    },
    {
      "cell_type": "code",
      "metadata": {
        "id": "Ngg3QUyTfBxC",
        "colab_type": "code",
        "colab": {}
      },
      "source": [
        "def get_linear_model(X, y):\n",
        "  # This shoudl return a proper linear model without bias of type y = XW\n",
        "\n",
        "  # Write your code here ----------\n",
        "  D = X.shape[1]\n",
        "  out_shape = y.shape[1]\n",
        "  # -------------------------------\n",
        "  \n",
        "  W = np.random.randn(D, out_shape)\n",
        "\n",
        "  return W"
      ],
      "execution_count": 0,
      "outputs": []
    },
    {
      "cell_type": "code",
      "metadata": {
        "id": "c52FIGu-hlzM",
        "colab_type": "code",
        "colab": {}
      },
      "source": [
        "def MSE(y, y_pred):\n",
        "  # should return the mean square error between the actual y and predicted y\n",
        "\n",
        "  # Write your code here ----------\n",
        "  error = np.mean((y - y_pred)**2)\n",
        "  # -------------------------------\n",
        "\n",
        "  return error"
      ],
      "execution_count": 0,
      "outputs": []
    },
    {
      "cell_type": "code",
      "metadata": {
        "id": "zrBrqA15hCdT",
        "colab_type": "code",
        "colab": {}
      },
      "source": [
        "def train_by_algebra(X, y):\n",
        "  # should return the trained weight 'W' using the linear algebra method i.e. setting dE/dW = 0\n",
        "\n",
        "  # Write your code here ----------\n",
        "  W = np.linalg.inv(np.dot(X.T, X))\n",
        "  W = np.dot(W, X.T)\n",
        "  W = np.dot(W, y.reshape(-1, 1))\n",
        "  # -------------------------------\n",
        "\n",
        "  return W"
      ],
      "execution_count": 0,
      "outputs": []
    },
    {
      "cell_type": "code",
      "metadata": {
        "id": "kJ_r_R1PixX2",
        "colab_type": "code",
        "colab": {}
      },
      "source": [
        "def train_by_GD(X, y, epochs=5, lr=0.01):\n",
        "  # should return the trained weight 'W' using the gradient descent for number of iterations equals to epochs\n",
        "  # should also return error history int the cariable error_hist.shape = (epochs,); error_hist[i] = mean square error after epoch i-1\n",
        "  # should also print mean square error after each epoch/ iteration\n",
        "  # lr = \"learning rate\" i.e. eta\n",
        "  \n",
        "  # Write your code here ----------\n",
        "  W = get_linear_model(X, y)\n",
        "  error_hist = []\n",
        "\n",
        "  for e in range(epochs):\n",
        "    y_pred = np.dot(X, W)\n",
        "\n",
        "    dW = -1*np.dot(X.T, (y.reshape(-1,1)-y_pred.reshape(-1,1))).reshape(-1, 1)\n",
        "    W -= lr*dW\n",
        "\n",
        "    error_hist.append(MSE(y,y_pred))\n",
        "  # -------------------------------\n",
        "\n",
        "  return W, np.array(error_hist)"
      ],
      "execution_count": 0,
      "outputs": []
    },
    {
      "cell_type": "markdown",
      "metadata": {
        "id": "uLTxFIOgkdjJ",
        "colab_type": "text"
      },
      "source": [
        "### Now write a complete code using the function defined above to learn the model for following cases:"
      ]
    },
    {
      "cell_type": "markdown",
      "metadata": {
        "id": "eYW1AukM378a",
        "colab_type": "text"
      },
      "source": [
        "##### Learn **W** using linear algebra method and prints mean square error between actual y and predicted y. Use `y_pred = XW`. Also plot y_pred and y."
      ]
    },
    {
      "cell_type": "code",
      "metadata": {
        "id": "AIRs0jB-kOZU",
        "colab_type": "code",
        "outputId": "58d01f78-d6a5-4d34-9207-8fd7d4d23fb5",
        "colab": {
          "base_uri": "https://localhost:8080/",
          "height": 282
        }
      },
      "source": [
        "# Write your code here ----------\n",
        "X, y = load_data_LR()\n",
        "\n",
        "W = train_by_algebra(X, y)\n",
        "y_pred = np.dot(X, W)\n",
        "error = MSE(y, y_pred)\n",
        "\n",
        "print(\"MSE:\", error)\n",
        "plt.plot(y_pred, label=\"y_pred\")\n",
        "plt.plot(y, label=\"y\")\n",
        "plt.legend()\n",
        "plt.show()\n",
        "# -------------------------------"
      ],
      "execution_count": 8,
      "outputs": [
        {
          "output_type": "stream",
          "text": [
            "MSE: 5.490059820643823\n"
          ],
          "name": "stdout"
        },
        {
          "output_type": "display_data",
          "data": {
            "image/png": "[encoded data removed]",
            "text/plain": [
              "<Figure size 432x288 with 1 Axes>"
            ]
          },
          "metadata": {
            "tags": []
          }
        }
      ]
    },
    {
      "cell_type": "markdown",
      "metadata": {
        "id": "6kP77_sK4CpT",
        "colab_type": "text"
      },
      "source": [
        "##### Learn **W** using gradient descent method for following learning rates, `lr = [0.01, 0.001, 0.0001]` for **10 epochs**. Plot **MSE vs epochs** for each of them.  Also plot y_pred and y on a different plot."
      ]
    },
    {
      "cell_type": "code",
      "metadata": {
        "id": "1bac27RT4G2H",
        "colab_type": "code",
        "outputId": "c3d3d21f-d17b-460c-a0b2-5abf18adde9b",
        "colab": {
          "base_uri": "https://localhost:8080/",
          "height": 1000
        }
      },
      "source": [
        "# Write your code here ----------\n",
        "for lr in [0.01, 0.001, 0.0001]:\n",
        "  W, error_hist = train_by_GD(X, y, epochs=10, lr=lr)\n",
        "  plt.figure(100)\n",
        "  plt.plot(np.log(error_hist), label=\"lr = \"+ str(lr))\n",
        "  plt.grid()\n",
        "\n",
        "  plt.figure(int(lr*100000)+2)\n",
        "  y_pred = np.dot(X, W)\n",
        "  plt.plot(y_pred, label=\"y_pred\")\n",
        "  plt.plot(y, label=\"y\")\n",
        "  plt.title(\"lr = \"+ str(lr))\n",
        "  plt.grid()\n",
        "  plt.legend()\n",
        "\n",
        "plt.figure(100)\n",
        "plt.title(\"Error vs Epochs\")\n",
        "plt.legend()\n",
        "plt.show()\n",
        "# -------------------------------"
      ],
      "execution_count": 9,
      "outputs": [
        {
          "output_type": "display_data",
          "data": {
            "image/png": "[encoded data removed]",
            "text/plain": [
              "<Figure size 432x288 with 1 Axes>"
            ]
          },
          "metadata": {
            "tags": []
          }
        },
        {
          "output_type": "display_data",
          "data": {
            "image/png": "[encoded data removed]",
            "text/plain": [
              "<Figure size 432x288 with 1 Axes>"
            ]
          },
          "metadata": {
            "tags": []
          }
        },
        {
          "output_type": "display_data",
          "data": {
            "image/png": "[encoded data removed]",
            "text/plain": [
              "<Figure size 432x288 with 1 Axes>"
            ]
          },
          "metadata": {
            "tags": []
          }
        },
        {
          "output_type": "display_data",
          "data": {
            "image/png": "[encoded data removed]",
            "text/plain": [
              "<Figure size 432x288 with 1 Axes>"
            ]
          },
          "metadata": {
            "tags": []
          }
        }
      ]
    },
    {
      "cell_type": "markdown",
      "metadata": {
        "id": "4zJO-LIvn6sD",
        "colab_type": "text"
      },
      "source": [
        "## Question 2: Image Classification in Tensorflow using Deep Learning\n",
        "To check whether you are able to build a given neural network model in tensorflow or not. First we will build a fully connected NN model second we will build a CNN model."
      ]
    },
    {
      "cell_type": "code",
      "metadata": {
        "id": "7mynGfqRn24b",
        "colab_type": "code",
        "colab": {}
      },
      "source": [
        "import numpy as np\n",
        "import tensorflow as tf\n",
        "import matplotlib.pyplot as plt"
      ],
      "execution_count": 0,
      "outputs": []
    },
    {
      "cell_type": "code",
      "metadata": {
        "id": "s8WKt-qY4agV",
        "colab_type": "code",
        "colab": {}
      },
      "source": [
        "def plot_history(history):\n",
        "  # function to plot accuracy vs epoch\n",
        "\n",
        "  plt.plot(history.history['accuracy'], label='accuracy')\n",
        "  plt.plot(history.history['val_accuracy'], label = 'val_accuracy')\n",
        "  plt.xlabel('Epoch')\n",
        "  plt.ylabel('Accuracy')\n",
        "  plt.legend(loc='lower right')"
      ],
      "execution_count": 0,
      "outputs": []
    },
    {
      "cell_type": "code",
      "metadata": {
        "id": "tCT9Kmhhn5I_",
        "colab_type": "code",
        "colab": {}
      },
      "source": [
        "def load_data_cifar10_norm():\n",
        "  # should return the normalised cifar10 dataset by loading it from tensorflow\n",
        "  # link: https://www.tensorflow.org/api_docs/python/tf/keras/datasets/cifar10/\n",
        "\n",
        "  # Write your code here ----------\n",
        "  (x_train, y_train), (x_test, y_test) = tf.keras.datasets.cifar10.load_data()\n",
        "  x_train, x_test = x_train/255.0, x_test/255.0\n",
        "  # -------------------------------\n",
        "\n",
        "  return x_train, y_train, x_test, y_test"
      ],
      "execution_count": 0,
      "outputs": []
    },
    {
      "cell_type": "markdown",
      "metadata": {
        "id": "LDpHSTRPvS9t",
        "colab_type": "text"
      },
      "source": [
        "### Define a fully connected neural network model with following attributes:\n",
        "\n",
        "*   Total number of **hidden layers = 4**, all with **relu** activation\n",
        "*   Number of neurons in **first hidden layer = 7200**\n",
        "*   Number of neurons in **second hidden layer = 2304**\n",
        "*   Number of neurons in **third hidden layer = 1024**\n",
        "*   Number of neurons in **fourth hidden layer = 64**\n"
      ]
    },
    {
      "cell_type": "code",
      "metadata": {
        "id": "VYYQzIWnqU3t",
        "colab_type": "code",
        "colab": {}
      },
      "source": [
        "def build_fc_model(input_shape=(32, 32, 3), num_class=10):\n",
        "  # should return a sequential model defined based on the above attributes\n",
        "  # do not compile the model\n",
        "\n",
        "  # Write your code here ----------\n",
        "  model = tf.keras.models.Sequential([tf.keras.layers.Flatten(), \n",
        "                                    tf.keras.layers.Dense(7200, activation=tf.nn.relu),\n",
        "                                    tf.keras.layers.Dense(2304, activation=tf.nn.relu),\n",
        "                                    tf.keras.layers.Dense(1024, activation=tf.nn.relu),\n",
        "                                    tf.keras.layers.Dense(64, activation=tf.nn.relu),\n",
        "                                    tf.keras.layers.Dropout(0.3), \n",
        "                                    tf.keras.layers.Dense(10, activation=tf.nn.softmax)])\n",
        "  # -------------------------------\n",
        "\n",
        "  return model"
      ],
      "execution_count": 0,
      "outputs": []
    },
    {
      "cell_type": "markdown",
      "metadata": {
        "id": "pdcQ2yqz1RYH",
        "colab_type": "text"
      },
      "source": [
        "### Define a CNN model with following attribute:\n",
        "\n",
        "*   Total number of **hidden layer = 4**\n",
        "*   After every convolutional layer there must be a MaxPoolingLayer of size (2, 2)\n",
        "*   Total number of convolutional layer = 3, all with **relu** activation.\n",
        "    *    Number of filters in **first convolutional layer = 32**\n",
        "    *    Number of filters in **second convolutional layer = 64**\n",
        "    *    Number of filters in **third convolutional layer = 64**\n",
        "*   After all convolutional layer flatten the output and use **dense layer of 64 neurons**\n",
        "\n"
      ]
    },
    {
      "cell_type": "code",
      "metadata": {
        "id": "T00AYU3D3L1j",
        "colab_type": "code",
        "colab": {}
      },
      "source": [
        "def build_cnn_model(input_shape=(32, 32, 3), num_class=10):\n",
        "  # should return a sequential model defined based on the above attributes\n",
        "  # do not compile the model\n",
        "\n",
        "  # Write your code here ----------\n",
        "  model = tf.keras.models.Sequential([tf.keras.layers.Conv2D(32, (3, 3), activation='relu', input_shape=(32, 32, 3)),\n",
        "                                      tf.keras.layers.MaxPooling2D((2, 2)),\n",
        "                                      tf.keras.layers.Conv2D(64, (3, 3), activation='relu'),\n",
        "                                      tf.keras.layers.MaxPooling2D((2, 2)),\n",
        "                                      tf.keras.layers.Conv2D(64, (3, 3), activation='relu'),\n",
        "                                      tf.keras.layers.Flatten(),\n",
        "                                      tf.keras.layers.Dense(64, activation=tf.nn.relu),\n",
        "                                      tf.keras.layers.Dropout(0.3),\n",
        "                                      tf.keras.layers.Dense(10, activation=tf.nn.softmax)])\n",
        "  # -------------------------------\n",
        "\n",
        "  return model"
      ],
      "execution_count": 0,
      "outputs": []
    },
    {
      "cell_type": "markdown",
      "metadata": {
        "id": "7SXXUeRp4Urq",
        "colab_type": "text"
      },
      "source": [
        "### Compile and train the fully connected neural network model using the above functions."
      ]
    },
    {
      "cell_type": "code",
      "metadata": {
        "id": "61_XiEUR3eV0",
        "colab_type": "code",
        "outputId": "9c7c59f3-dacc-45f2-965e-507f9c27a92f",
        "colab": {
          "base_uri": "https://localhost:8080/",
          "height": 1000
        }
      },
      "source": [
        "# Write your code here ----------\n",
        "x_train, y_train, x_test, y_test = load_data_cifar10_norm()\n",
        "model = build_fc_model()\n",
        "lr = 0.0001\n",
        "\n",
        "model.compile(optimizer = tf.keras.optimizers.Adam(lr=lr),\n",
        "              loss = 'sparse_categorical_crossentropy',\n",
        "              metrics=['accuracy'])\n",
        "# -------------------------------\n",
        "\n",
        "history = model.fit(x_train, y_train, epochs=10, batch_size=512,\n",
        "                    validation_data=(x_test, y_test))\n",
        "\n",
        "plot_history(history)\n",
        "model.summary()"
      ],
      "execution_count": 15,
      "outputs": [
        {
          "output_type": "stream",
          "text": [
            "Epoch 1/10\n",
            "98/98 [==============================] - 6s 65ms/step - loss: 2.0301 - accuracy: 0.2515 - val_loss: 1.8478 - val_accuracy: 0.3566\n",
            "Epoch 2/10\n",
            "98/98 [==============================] - 6s 61ms/step - loss: 1.8447 - accuracy: 0.3369 - val_loss: 1.7107 - val_accuracy: 0.4033\n",
            "Epoch 3/10\n",
            "98/98 [==============================] - 6s 62ms/step - loss: 1.7375 - accuracy: 0.3846 - val_loss: 1.5881 - val_accuracy: 0.4457\n",
            "Epoch 4/10\n",
            "98/98 [==============================] - 6s 62ms/step - loss: 1.6603 - accuracy: 0.4144 - val_loss: 1.5452 - val_accuracy: 0.4590\n",
            "Epoch 5/10\n",
            "98/98 [==============================] - 6s 62ms/step - loss: 1.5893 - accuracy: 0.4419 - val_loss: 1.5332 - val_accuracy: 0.4586\n",
            "Epoch 6/10\n",
            "98/98 [==============================] - 6s 62ms/step - loss: 1.5422 - accuracy: 0.4581 - val_loss: 1.5151 - val_accuracy: 0.4668\n",
            "Epoch 7/10\n",
            "98/98 [==============================] - 6s 62ms/step - loss: 1.4896 - accuracy: 0.4780 - val_loss: 1.4392 - val_accuracy: 0.4877\n",
            "Epoch 8/10\n",
            "98/98 [==============================] - 6s 63ms/step - loss: 1.4534 - accuracy: 0.4933 - val_loss: 1.4095 - val_accuracy: 0.5069\n",
            "Epoch 9/10\n",
            "98/98 [==============================] - 6s 63ms/step - loss: 1.4033 - accuracy: 0.5086 - val_loss: 1.4138 - val_accuracy: 0.4970\n",
            "Epoch 10/10\n",
            "98/98 [==============================] - 6s 62ms/step - loss: 1.3682 - accuracy: 0.5205 - val_loss: 1.4253 - val_accuracy: 0.5000\n",
            "Model: \"sequential\"\n",
            "_________________________________________________________________\n",
            "Layer (type)                 Output Shape              Param #   \n",
            "=================================================================\n",
            "flatten (Flatten)            multiple                  0         \n",
            "_________________________________________________________________\n",
            "dense (Dense)                multiple                  22125600  \n",
            "_________________________________________________________________\n",
            "dense_1 (Dense)              multiple                  16591104  \n",
            "_________________________________________________________________\n",
            "dense_2 (Dense)              multiple                  2360320   \n",
            "_________________________________________________________________\n",
            "dense_3 (Dense)              multiple                  65600     \n",
            "_________________________________________________________________\n",
            "dropout (Dropout)            multiple                  0         \n",
            "_________________________________________________________________\n",
            "dense_4 (Dense)              multiple                  650       \n",
            "=================================================================\n",
            "Total params: 41,143,274\n",
            "Trainable params: 41,143,274\n",
            "Non-trainable params: 0\n",
            "_________________________________________________________________\n"
          ],
          "name": "stdout"
        },
        {
          "output_type": "display_data",
          "data": {
            "image/png": "[encoded data removed]",
            "text/plain": [
              "<Figure size 432x288 with 1 Axes>"
            ]
          },
          "metadata": {
            "tags": []
          }
        }
      ]
    },
    {
      "cell_type": "markdown",
      "metadata": {
        "id": "Z_yHXGc47ENb",
        "colab_type": "text"
      },
      "source": [
        "### Compile and train the CNN model using the above functions."
      ]
    },
    {
      "cell_type": "code",
      "metadata": {
        "id": "aM9rueu97Gnq",
        "colab_type": "code",
        "outputId": "e7741099-65cc-44fb-9c08-99c5d3320cae",
        "colab": {
          "base_uri": "https://localhost:8080/",
          "height": 1000
        }
      },
      "source": [
        "# Write your code here ----------\n",
        "x_train, y_train, x_test, y_test = load_data_cifar10_norm()\n",
        "model = build_cnn_model()\n",
        "lr = 0.001\n",
        "\n",
        "model.compile(optimizer = tf.keras.optimizers.Adam(lr=lr),\n",
        "              loss = 'sparse_categorical_crossentropy',\n",
        "              metrics=['accuracy'])\n",
        "# -------------------------------\n",
        "\n",
        "history = model.fit(x_train, y_train, epochs=10, batch_size=512,\n",
        "                    validation_data=(x_test, y_test))\n",
        "\n",
        "plot_history(history)\n",
        "model.summary()"
      ],
      "execution_count": 16,
      "outputs": [
        {
          "output_type": "stream",
          "text": [
            "Epoch 1/10\n",
            "98/98 [==============================] - 3s 34ms/step - loss: 1.9601 - accuracy: 0.2768 - val_loss: 1.6362 - val_accuracy: 0.4107\n",
            "Epoch 2/10\n",
            "98/98 [==============================] - 3s 30ms/step - loss: 1.5901 - accuracy: 0.4157 - val_loss: 1.4287 - val_accuracy: 0.4861\n",
            "Epoch 3/10\n",
            "98/98 [==============================] - 3s 30ms/step - loss: 1.4595 - accuracy: 0.4742 - val_loss: 1.3256 - val_accuracy: 0.5328\n",
            "Epoch 4/10\n",
            "98/98 [==============================] - 3s 30ms/step - loss: 1.3679 - accuracy: 0.5126 - val_loss: 1.2530 - val_accuracy: 0.5588\n",
            "Epoch 5/10\n",
            "98/98 [==============================] - 3s 30ms/step - loss: 1.3058 - accuracy: 0.5353 - val_loss: 1.1981 - val_accuracy: 0.5791\n",
            "Epoch 6/10\n",
            "98/98 [==============================] - 3s 32ms/step - loss: 1.2499 - accuracy: 0.5568 - val_loss: 1.1523 - val_accuracy: 0.5990\n",
            "Epoch 7/10\n",
            "98/98 [==============================] - 3s 30ms/step - loss: 1.1936 - accuracy: 0.5783 - val_loss: 1.1058 - val_accuracy: 0.6075\n",
            "Epoch 8/10\n",
            "98/98 [==============================] - 3s 30ms/step - loss: 1.1413 - accuracy: 0.5983 - val_loss: 1.0784 - val_accuracy: 0.6147\n",
            "Epoch 9/10\n",
            "98/98 [==============================] - 3s 30ms/step - loss: 1.1142 - accuracy: 0.6072 - val_loss: 1.0383 - val_accuracy: 0.6333\n",
            "Epoch 10/10\n",
            "98/98 [==============================] - 3s 30ms/step - loss: 1.0787 - accuracy: 0.6212 - val_loss: 1.0107 - val_accuracy: 0.6409\n",
            "Model: \"sequential_1\"\n",
            "_________________________________________________________________\n",
            "Layer (type)                 Output Shape              Param #   \n",
            "=================================================================\n",
            "conv2d (Conv2D)              (None, 30, 30, 32)        896       \n",
            "_________________________________________________________________\n",
            "max_pooling2d (MaxPooling2D) (None, 15, 15, 32)        0         \n",
            "_________________________________________________________________\n",
            "conv2d_1 (Conv2D)            (None, 13, 13, 64)        18496     \n",
            "_________________________________________________________________\n",
            "max_pooling2d_1 (MaxPooling2 (None, 6, 6, 64)          0         \n",
            "_________________________________________________________________\n",
            "conv2d_2 (Conv2D)            (None, 4, 4, 64)          36928     \n",
            "_________________________________________________________________\n",
            "flatten_1 (Flatten)          (None, 1024)              0         \n",
            "_________________________________________________________________\n",
            "dense_5 (Dense)              (None, 64)                65600     \n",
            "_________________________________________________________________\n",
            "dropout_1 (Dropout)          (None, 64)                0         \n",
            "_________________________________________________________________\n",
            "dense_6 (Dense)              (None, 10)                650       \n",
            "=================================================================\n",
            "Total params: 122,570\n",
            "Trainable params: 122,570\n",
            "Non-trainable params: 0\n",
            "_________________________________________________________________\n"
          ],
          "name": "stdout"
        },
        {
          "output_type": "display_data",
          "data": {
            "image/png": "[encoded data removed]",
            "text/plain": [
              "<Figure size 432x288 with 1 Axes>"
            ]
          },
          "metadata": {
            "tags": []
          }
        }
      ]
    },
    {
      "cell_type": "markdown",
      "metadata": {
        "id": "nKwrtPcy750Q",
        "colab_type": "text"
      },
      "source": [
        "### What do you observe? Compare both the model by looking at their Accuracy vs Epoch plot and total numbers of trainable parameters."
      ]
    },
    {
      "cell_type": "code",
      "metadata": {
        "id": "Q2lFRCoL8N_b",
        "colab_type": "code",
        "outputId": "5f6ab3ee-415f-4198-c03d-37d634b0eadd",
        "colab": {
          "base_uri": "https://localhost:8080/",
          "height": 55
        }
      },
      "source": [
        "print(\"Less time per epochs and better accuracy for CNN one. Bonus: Trainable params for fully connected one: 41,143,274 and Trainable params for CNN one: 122,570 but if you closely look at each layers the number of features learned at each layer is equal in number this means by using CNN you can learn more or less equal number of features even though the number of parameters to learn is much less than the fully connected one.\")"
      ],
      "execution_count": 17,
      "outputs": [
        {
          "output_type": "stream",
          "text": [
            "Less time per epochs and better accuracy for CNN one. Bonus: Trainable params for fully connected one: 41,143,274 and Trainable params for CNN one: 122,570 but if you closely look at each layers the number of features learned at each layer is equal in number this means by using CNN you can learn more or less equal number of features even though the number of parameters to learn is much less than the fully connected one.\n"
          ],
          "name": "stdout"
        }
      ]
    },
    {
      "cell_type": "markdown",
      "metadata": {
        "id": "NlX1GE9f84dN",
        "colab_type": "text"
      },
      "source": [
        "## Question 3: Image Classification in Tensorflow using Transfer Learning\n",
        "In this we will again try to learn a classification model for **cifar10** but by using the concept of transfer learning. "
      ]
    },
    {
      "cell_type": "markdown",
      "metadata": {
        "id": "TMQs8VAJaiZc",
        "colab_type": "text"
      },
      "source": [
        "### Brief description on Transfer Learning:"
      ]
    },
    {
      "cell_type": "markdown",
      "metadata": {
        "id": "velsoC8-KP6B",
        "colab_type": "text"
      },
      "source": [
        "The idea behind transfer learning for image classification is that when you train a model on a very large image dataset like ImageNet, then this model can effectivly serve as generic model of visual world. If you remember, a closer look at every CNN model gives you an idea that every CNN model used to have some sets of convolutional layers followed by a dense layer and finally at last a classification (output) layer. So, here the convolutional layer somewhat act as feature mapping function which maps the input image to an different dimensional space. And finally at the end you apply dense layer to classify the images based on those extracted features. <br>\n",
        "\n",
        "**Inshort this what you do in a CNN model:**\n",
        "![](https://github.com/bcs-iitk/BCS_Workshop_Apr_20/raw/master/Machine_Learning/Assignment/cnn_model.png)\n",
        "\n",
        "So what we will do in transfer learning is that we will use some already pre-trained model which are trained on ImageNet dataset. Will only use its learned convolutional layers as a feature mapping function. And finally will learn a fully connected neural network on those features to classify the images.\n"
      ]
    },
    {
      "cell_type": "markdown",
      "metadata": {
        "id": "203W4I0oMs5v",
        "colab_type": "text"
      },
      "source": [
        "### Attributes of Transfer Learning model to be build\n",
        "\n",
        "*   Pre-trained weights of VGG16 will be used as feature extracter\n",
        "*   After this flatten the output and use dense layer of **64 neurons**\n",
        "\n"
      ]
    },
    {
      "cell_type": "code",
      "metadata": {
        "id": "COUcSjSz9DtQ",
        "colab_type": "code",
        "colab": {}
      },
      "source": [
        "import numpy as np\n",
        "import tensorflow as tf\n",
        "import matplotlib.pyplot as plt\n",
        "from tensorflow.keras.applications.vgg16 import preprocess_input, VGG16"
      ],
      "execution_count": 0,
      "outputs": []
    },
    {
      "cell_type": "code",
      "metadata": {
        "id": "ylCRV_niMhxA",
        "colab_type": "code",
        "colab": {}
      },
      "source": [
        "def plot_history(history):\n",
        "  # function to plot accuracy vs epoch\n",
        "\n",
        "  plt.plot(history.history['accuracy'], label='accuracy')\n",
        "  plt.plot(history.history['val_accuracy'], label = 'val_accuracy')\n",
        "  plt.xlabel('Epoch')\n",
        "  plt.ylabel('Accuracy')\n",
        "  plt.legend(loc='lower right')"
      ],
      "execution_count": 0,
      "outputs": []
    },
    {
      "cell_type": "code",
      "metadata": {
        "id": "ijdwptetMmSL",
        "colab_type": "code",
        "colab": {}
      },
      "source": [
        "def load_data_cifar10():\n",
        "  # should return the normalised cifar10 dataset by loading it from tensorflow\n",
        "  # link: https://www.tensorflow.org/api_docs/python/tf/keras/datasets/cifar10/\n",
        "\n",
        "  # Write your code here ----------\n",
        "  (x_train, y_train), (x_test, y_test) = tf.keras.datasets.cifar10.load_data()\n",
        "  # -------------------------------\n",
        "\n",
        "  return preprocess_input(x_train), y_train, preprocess_input(x_test), y_test"
      ],
      "execution_count": 0,
      "outputs": []
    },
    {
      "cell_type": "code",
      "metadata": {
        "id": "8kgkpJfwKhlR",
        "colab_type": "code",
        "colab": {}
      },
      "source": [
        "def build_tl_model(num_class=10):\n",
        "  # should return the ccombined model using the VGG16 conv layers as conv layers\n",
        "  # and for fully connected layer part use the above attributes.\n",
        "\n",
        "  base_model = VGG16(input_shape=(32, 32, 3), include_top=False, weights='imagenet') # this is the conv layers from VGG16\n",
        "  base_model.trainable = False # this ensures that while training the dense layers these weights don't get changed\n",
        "\n",
        "  model = tf.keras.models.Sequential([\n",
        "    # Feature extractor \n",
        "    base_model,\n",
        "\n",
        "    # Flatten and use the attribute given the question to build the dense part\n",
        "    # Write your code here ----------\n",
        "    tf.keras.layers.Flatten(),\n",
        "    tf.keras.layers.Dense(64, activation=tf.nn.relu), \n",
        "    tf.keras.layers.Dense(10, activation=tf.nn.softmax)\n",
        "    # -------------------------------\n",
        "  ])\n",
        "\n",
        "  return model"
      ],
      "execution_count": 0,
      "outputs": []
    },
    {
      "cell_type": "markdown",
      "metadata": {
        "id": "_-2kUilyPNJJ",
        "colab_type": "text"
      },
      "source": [
        "### Compile and train the model using above functions, use adam optimiser with learning rate = 0.001 and 0.0001"
      ]
    },
    {
      "cell_type": "code",
      "metadata": {
        "id": "6FzIIP7GPMOt",
        "colab_type": "code",
        "outputId": "ba74be8b-db29-4b7d-f18b-b5f101e35035",
        "colab": {
          "base_uri": "https://localhost:8080/",
          "height": 1000
        }
      },
      "source": [
        "# Write your code here ----------\n",
        "for lr in [0.001, 0.0001]:\n",
        "  print(\"\\nlr = \" + str(lr))\n",
        "  x_train, y_train, x_test, y_test = load_data_cifar10()\n",
        "  model = build_tl_model()\n",
        "\n",
        "  model.compile(optimizer = tf.keras.optimizers.Adam(lr=lr),\n",
        "                loss = 'sparse_categorical_crossentropy',\n",
        "                metrics=['accuracy'])\n",
        "  # -------------------------------\n",
        "\n",
        "  history = model.fit(x_train, y_train, epochs=10, batch_size=512,\n",
        "                      validation_data=(x_test, y_test))\n",
        "\n",
        "  plt.figure()\n",
        "  plot_history(history)\n",
        "  plt.title(\"lr = \" + str(lr))\n",
        "\n",
        "model.summary()"
      ],
      "execution_count": 22,
      "outputs": [
        {
          "output_type": "stream",
          "text": [
            "\n",
            "lr = 0.001\n",
            "Epoch 1/10\n",
            "98/98 [==============================] - 16s 167ms/step - loss: 4.3850 - accuracy: 0.4071 - val_loss: 1.9582 - val_accuracy: 0.4684\n",
            "Epoch 2/10\n",
            "98/98 [==============================] - 14s 138ms/step - loss: 1.6234 - accuracy: 0.5000 - val_loss: 1.4934 - val_accuracy: 0.5239\n",
            "Epoch 3/10\n",
            "98/98 [==============================] - 13s 138ms/step - loss: 1.3313 - accuracy: 0.5604 - val_loss: 1.3559 - val_accuracy: 0.5575\n",
            "Epoch 4/10\n",
            "98/98 [==============================] - 14s 138ms/step - loss: 1.1931 - accuracy: 0.5969 - val_loss: 1.2784 - val_accuracy: 0.5803\n",
            "Epoch 5/10\n",
            "98/98 [==============================] - 14s 138ms/step - loss: 1.1041 - accuracy: 0.6226 - val_loss: 1.2251 - val_accuracy: 0.5926\n",
            "Epoch 6/10\n",
            "98/98 [==============================] - 14s 138ms/step - loss: 1.0401 - accuracy: 0.6413 - val_loss: 1.1875 - val_accuracy: 0.6046\n",
            "Epoch 7/10\n",
            "98/98 [==============================] - 14s 138ms/step - loss: 0.9910 - accuracy: 0.6559 - val_loss: 1.1679 - val_accuracy: 0.6145\n",
            "Epoch 8/10\n",
            "98/98 [==============================] - 14s 138ms/step - loss: 0.9505 - accuracy: 0.6688 - val_loss: 1.1483 - val_accuracy: 0.6198\n",
            "Epoch 9/10\n",
            "98/98 [==============================] - 14s 138ms/step - loss: 0.9155 - accuracy: 0.6798 - val_loss: 1.1394 - val_accuracy: 0.6272\n",
            "Epoch 10/10\n",
            "98/98 [==============================] - 13s 137ms/step - loss: 0.8872 - accuracy: 0.6892 - val_loss: 1.1293 - val_accuracy: 0.6304\n",
            "\n",
            "lr = 0.0001\n",
            "Epoch 1/10\n",
            "98/98 [==============================] - 14s 141ms/step - loss: 13.1691 - accuracy: 0.1503 - val_loss: 8.2480 - val_accuracy: 0.2210\n",
            "Epoch 2/10\n",
            "98/98 [==============================] - 13s 138ms/step - loss: 6.4819 - accuracy: 0.2839 - val_loss: 5.4085 - val_accuracy: 0.3249\n",
            "Epoch 3/10\n",
            "98/98 [==============================] - 13s 137ms/step - loss: 4.6449 - accuracy: 0.3585 - val_loss: 4.1939 - val_accuracy: 0.3807\n",
            "Epoch 4/10\n",
            "98/98 [==============================] - 13s 138ms/step - loss: 3.7121 - accuracy: 0.3985 - val_loss: 3.4821 - val_accuracy: 0.4065\n",
            "Epoch 5/10\n",
            "98/98 [==============================] - 13s 138ms/step - loss: 3.1178 - accuracy: 0.4198 - val_loss: 2.9888 - val_accuracy: 0.4182\n",
            "Epoch 6/10\n",
            "98/98 [==============================] - 13s 137ms/step - loss: 2.6969 - accuracy: 0.4350 - val_loss: 2.6198 - val_accuracy: 0.4319\n",
            "Epoch 7/10\n",
            "98/98 [==============================] - 13s 137ms/step - loss: 2.3797 - accuracy: 0.4462 - val_loss: 2.3371 - val_accuracy: 0.4439\n",
            "Epoch 8/10\n",
            "98/98 [==============================] - 14s 138ms/step - loss: 2.1425 - accuracy: 0.4556 - val_loss: 2.1317 - val_accuracy: 0.4532\n",
            "Epoch 9/10\n",
            "98/98 [==============================] - 13s 137ms/step - loss: 1.9681 - accuracy: 0.4642 - val_loss: 1.9853 - val_accuracy: 0.4623\n",
            "Epoch 10/10\n",
            "98/98 [==============================] - 13s 137ms/step - loss: 1.8392 - accuracy: 0.4735 - val_loss: 1.8748 - val_accuracy: 0.4705\n",
            "Model: \"sequential_3\"\n",
            "_________________________________________________________________\n",
            "Layer (type)                 Output Shape              Param #   \n",
            "=================================================================\n",
            "vgg16 (Model)                (None, 1, 1, 512)         14714688  \n",
            "_________________________________________________________________\n",
            "flatten_3 (Flatten)          (None, 512)               0         \n",
            "_________________________________________________________________\n",
            "dense_9 (Dense)              (None, 64)                32832     \n",
            "_________________________________________________________________\n",
            "dense_10 (Dense)             (None, 10)                650       \n",
            "=================================================================\n",
            "Total params: 14,748,170\n",
            "Trainable params: 33,482\n",
            "Non-trainable params: 14,714,688\n",
            "_________________________________________________________________\n"
          ],
          "name": "stdout"
        },
        {
          "output_type": "display_data",
          "data": {
            "image/png": "[encoded data removed]",
            "text/plain": [
              "<Figure size 432x288 with 1 Axes>"
            ]
          },
          "metadata": {
            "tags": []
          }
        },
        {
          "output_type": "display_data",
          "data": {
            "image/png": "[encoded data removed]",
            "text/plain": [
              "<Figure size 432x288 with 1 Axes>"
            ]
          },
          "metadata": {
            "tags": []
          }
        }
      ]
    },
    {
      "cell_type": "markdown",
      "metadata": {
        "id": "l0QMGbtcQKNx",
        "colab_type": "text"
      },
      "source": [
        "## Question 4: Reinforcement Learning\n",
        "In this you have to implement and train an RL agent to find a path for a frozen lake problem. "
      ]
    },
    {
      "cell_type": "markdown",
      "metadata": {
        "id": "qH7ubidoNaEv",
        "colab_type": "text"
      },
      "source": [
        "### Frozen Lake Problem Description:"
      ]
    },
    {
      "cell_type": "markdown",
      "metadata": {
        "id": "LTCY_Ip1M9Qc",
        "colab_type": "text"
      },
      "source": [
        "> Imagine there is a frozen lake stretching from your home to your office; you have to walk on the frozen lake to reach your office. But oops! There are holes in the frozen lake so you have to be careful while walking on the frozen lake to avoid getting trapped in the holes. [[src](https://subscription.packtpub.com/book/big_data_and_business_intelligence/9781788836524/3/ch03lvl1sec32/solving-the-frozen-lake-problem)]\n",
        "\n",
        "![frozen-lake](https://static.packt-cdn.com/products/9781788836524/graphics/49f3e058-2f32-40e8-9992-b53d1f57d138.png)\n",
        "\n",
        "\n",
        "Two task you have to do here:\n",
        "\n",
        "*   Implement a frozen lake scenario given the inputs, number of holes (M) and size of the lake (N) (Assume the lake is square). Starting point will be (0, 0) and goal will be to reach at (N-1, N-1)\n",
        "*   Implemenat Q-learning method to learn a path from start to goal.\n",
        "*   Use the following reward scheme: 50 points on reaching the goal, -50 points on stepping on a hole.\n",
        "\n",
        "#### Q-learning\n",
        "Recall from the lecture video that `Q[state, action]` gives you an action state pair to get an optimal policy. Recall the Q-Loss from the lecture video i.e:\n",
        "> $E = ||r + \\gamma \\cdot \\max_{a'} Q(s', a') - Q(s, a)||^2$\n",
        "\n",
        "Use gradient descent to minimise $E$ and work out a learning rule for $Q(s, a)$. \n",
        "> Take $\\max_{a'} Q(s', a')$ and $r$ to be independent of $Q(s, a)$.\n"
      ]
    },
    {
      "cell_type": "markdown",
      "metadata": {
        "id": "pbkIHLK7NFEw",
        "colab_type": "text"
      },
      "source": [
        "### Defining important functions"
      ]
    },
    {
      "cell_type": "code",
      "metadata": {
        "id": "QnnNULcYQNRj",
        "colab_type": "code",
        "colab": {}
      },
      "source": [
        "import numpy as np\n",
        "import matplotlib.pyplot as plt\n",
        "import copy\n",
        "\n",
        "from numpy.random import choice as randC\n",
        "from numpy.random import uniform as randU"
      ],
      "execution_count": 0,
      "outputs": []
    },
    {
      "cell_type": "code",
      "metadata": {
        "id": "n9vGeSBZEG-r",
        "colab_type": "code",
        "colab": {}
      },
      "source": [
        "ActionMap = ['Up', 'Right', 'Down', 'Left']"
      ],
      "execution_count": 0,
      "outputs": []
    },
    {
      "cell_type": "code",
      "metadata": {
        "id": "izQzYoXBHVgr",
        "colab_type": "code",
        "colab": {}
      },
      "source": [
        "def get_board(N, M):\n",
        "  # should return an N x N size frozen lake - board with M randomle placed holes.\n",
        "  # use 'S' representation for starting point\n",
        "  # use 'G' representation for goal point\n",
        "  # use 'H' representation for holes\n",
        "  # use 'F' for frozen lakes\n",
        "  # use 'C' for displaying agents current position on the board.\n",
        "  # Refer the representation from the image shown above\n",
        "\n",
        "  # Write your code here ----------\n",
        "  H = randC(N*N-2, M, replace=False) + 1      \n",
        "  \n",
        "  row = ['F' for i in range(N)]\n",
        "  board = [row for i in range(N)]\n",
        "  board = np.array(board, dtype=str)\n",
        "\n",
        "  for i in H:\n",
        "      board[int(i/N)][int(i%N)] = 'H'\n",
        "  \n",
        "  board[0, 0] = 'S'\n",
        "  board[N-1, N-1] = 'G'\n",
        "  # -------------------------------\n",
        "\n",
        "  return board"
      ],
      "execution_count": 0,
      "outputs": []
    },
    {
      "cell_type": "code",
      "metadata": {
        "id": "nu6PW4KhIZH7",
        "colab_type": "code",
        "colab": {}
      },
      "source": [
        "def get_reward(board, N, M):\n",
        "  # should return an N x N size reward table for the generated frozen lake scenario\n",
        "  # use 50 reward for 'G' point\n",
        "  # use -50 reward for 'H' point\n",
        "  # o for rest.\n",
        "\n",
        "  # Write your code here ----------\n",
        "  reward = np.zeros((N, N))\n",
        "  reward[board == 'H'] = -50\n",
        "  reward[board == 'G'] = 50\n",
        "  # -------------------------------\n",
        "\n",
        "  return reward"
      ],
      "execution_count": 0,
      "outputs": []
    },
    {
      "cell_type": "code",
      "metadata": {
        "id": "B1ueYhO8Ecnh",
        "colab_type": "code",
        "colab": {}
      },
      "source": [
        "class FrozenLake:\n",
        "  def __init__(self, N, M):\n",
        "    # Recall python class, this function is called when you first initialise the class\n",
        "    # Should intialise the board and reward table based on the reward scheme\n",
        "    # Select M numbers of holes randomly\n",
        "\n",
        "    self.board = get_board(N, M)\n",
        "    self.init_board = copy.deepcopy(self.board)\n",
        "    self.reward = get_reward(self.board, N, M)\n",
        "    self.state = (0, 0)\n",
        "    self.board[self.state] = 'C'\n",
        "    self.finish = 0\n",
        "    self.N = N\n",
        "\n",
        "  def reset(self):\n",
        "    # should reset the env with board to initial state\n",
        "    # hint: set self.state at 0, 0 and use self.init_board to reset self.board\n",
        "\n",
        "    # Write your code here ----------\n",
        "    self.state = (0, 0)\n",
        "    self.board = copy.deepcopy(self.init_board)\n",
        "    self.board[self.state] = 'C'\n",
        "    # -------------------------------\n",
        "    self.finish = 0\n",
        "\n",
        "    return self.state\n",
        "  \n",
        "  def step(self, action):\n",
        "    # ===== Action Table =========\n",
        "    #     0 -- UP\n",
        "    #     1 -- RIGHT\n",
        "    #     2 -- DOWN\n",
        "    #     3 -- LEFT\n",
        "    # perform the given action and get update the  self.state, get reward, and update the self.board according to new state\n",
        "    # update the self.board means update the new position with 'C' and replace previous position with {'S', 'F', 'G'} which is actually there according to the self.init_board\n",
        "\n",
        "    # Write your code here ----------\n",
        "    self.board[self.state] = self.init_board[self.state]\n",
        "\n",
        "    if action == 0: self.state = (self.state[0] - 1, self.state[1])\n",
        "    elif action == 1: self.state = (self.state[0], self.state[1] + 1)\n",
        "    elif action == 2: self.state = (self.state[0] + 1, self.state[1])\n",
        "    elif action == 3: self.state = (self.state[0], self.state[1] - 1)\n",
        "\n",
        "    reward = self.reward[self.state]\n",
        "\n",
        "    self.board[self.state] = 'C'\n",
        "    N = self.N\n",
        "    # -------------------------------\n",
        "    \n",
        "    # status to check if you reached your goal\n",
        "    if self.state == (N-1, N-1):\n",
        "        self.finish = 1\n",
        "        \n",
        "    return self.state, reward, self.finish\n",
        "  \n",
        "  def get_random_action(self):\n",
        "    # ===== Action Table =========\n",
        "    #     0 -- UP\n",
        "    #     1 -- RIGHT\n",
        "    #     2 -- DOWN\n",
        "    #     3 -- LEFT\n",
        "    # should return a possible random action out of the four\n",
        "    # hint: note that when you are around the corner or sides of the board not all four action will be available for you\n",
        "\n",
        "    # Write your code here ----------\n",
        "    valid_actions = [0, 1, 2, 3]\n",
        "\n",
        "    if self.state[0] == 0: valid_actions.remove(0)\n",
        "    if self.state[0] == self.N-1: valid_actions.remove(2)\n",
        "    if self.state[1] == 0: valid_actions.remove(3)\n",
        "    if self.state[1] == self.N-1: valid_actions.remove(1)\n",
        "    # -------------------------------\n",
        "\n",
        "    action = randC(valid_actions)\n",
        "\n",
        "    return action    \n",
        "      \n",
        "  def display(self):\n",
        "    print(self.board)"
      ],
      "execution_count": 0,
      "outputs": []
    },
    {
      "cell_type": "markdown",
      "metadata": {
        "id": "oizARLSBNMxB",
        "colab_type": "text"
      },
      "source": [
        "### Environment creation and learning"
      ]
    },
    {
      "cell_type": "code",
      "metadata": {
        "id": "yGXRU7ImRnT6",
        "colab_type": "code",
        "colab": {}
      },
      "source": [
        "def explore_exploit(env, Q, state, episode):\n",
        "  # Notice that if you always select your new action based on maximum Q-value you will never get to see any new path right?\n",
        "  # You have to explore the environment to know new paths\n",
        "  # Write your code here to randomly select whether you want to explore or exploit\n",
        "  # The probability of exploration should be exp(-episode*5e-4)\n",
        "  # for exploration get some random action\n",
        "  # for exploitation get action based on max Q value\n",
        "\n",
        "  # Write your code here ----------\n",
        "  exploit = randU(0,1)\n",
        "  if exploit > np.exp(-episode*5e-4):\n",
        "      action = np.argmax(Q[state])\n",
        "  else:\n",
        "      action = env.get_random_action()\n",
        "  # -------------------------------\n",
        "\n",
        "  return action"
      ],
      "execution_count": 0,
      "outputs": []
    },
    {
      "cell_type": "code",
      "metadata": {
        "id": "N6ym5P3-LxOz",
        "colab_type": "code",
        "colab": {}
      },
      "source": [
        "def init_env_and_learn(N=6, M=12, gamma=0.8, lr=0.8):\n",
        "  # gamma: gamma param of total discounted reward\n",
        "  # lr: learning rate for Q updates\n",
        "  # N = grid size of frozen lake wil be N x N\n",
        "  # M = Number of holes\n",
        "  # returns env, Q-function, rewards\n",
        "\n",
        "  env = FrozenLake(N, M)\n",
        "  Q = np.zeros((N, N, 4))\n",
        "  \n",
        "  Q[0, :, 0] = -1e8     # To avoid invalid 'UP' action\n",
        "  Q[N-1, :, 2] = -1e8   # To avoid invalid 'Down' action\n",
        "  Q[:, 0, 3] = -1e8     # To avoid invalid 'LEFT' action\n",
        "  Q[:, N-1, 1] = -1e8   # To avoid invalid 'RIGHT' action\n",
        "\n",
        "  total_episodes = 3000 # i.e. the number of times your RL agent will run through the board.\n",
        "  max_steps = N*N*3 # maximum number of steps to perform\n",
        "\n",
        "  rewards = []\n",
        "  for episode in range(total_episodes):\n",
        "    state = env.reset()\n",
        "    total_rewards = 0\n",
        "\n",
        "    for step in range(max_steps):\n",
        "      action = explore_exploit(env, Q, state, episode)\n",
        "\n",
        "      # Write your code here ----------------------------------------------------------\n",
        "      # Should perform the action get reward, new_state, finish status and update the Q value\n",
        "      new_state, reward, finish = env.step(action)\n",
        "      Q[state][action] = Q[state][action] + lr*(reward + gamma*np.max(Q[new_state]) - Q[state][action])\n",
        "      # -------------------------------------------------------------------------------\n",
        "\n",
        "      total_rewards += reward\n",
        "      state = new_state\n",
        "      \n",
        "      if finish == 1: \n",
        "          break\n",
        "\n",
        "    rewards.append(total_rewards)\n",
        "\n",
        "  return env, Q, rewards"
      ],
      "execution_count": 0,
      "outputs": []
    },
    {
      "cell_type": "code",
      "metadata": {
        "id": "6z8EuJ6sXCTK",
        "colab_type": "code",
        "colab": {}
      },
      "source": [
        "def travel_path(env, Q, show_display=False):\n",
        "  # write a function to display a sequence of path performed using the learned Q-values\n",
        "  # show initial and final frozen lake board \n",
        "  # to perform an action at a state simply take max of Q at that state\n",
        "\n",
        "  # Write your code here ----------\n",
        "  state = env.reset()\n",
        "  finish = 0\n",
        "  for step in range(3*env.N*env.N):\n",
        "    action = np.argmax(Q[state])\n",
        "    state, reward, finish = env.step(action)\n",
        "\n",
        "    if show_display:\n",
        "      print('--------------------------------')\n",
        "      print(' Action: ', ActionMap[action], ' | Step No.: ', step+1, ' ')\n",
        "      print('--------------------------------')\n",
        "      env.display()\n",
        "      print()\n",
        "\n",
        "    if finish:\n",
        "        break\n",
        "\n",
        "  if finish == 0 and show_display:\n",
        "    print('Sorry No Solution Found!!')\n",
        "\n",
        "  # -------------------------------\n",
        "\n",
        "  return finish"
      ],
      "execution_count": 0,
      "outputs": []
    },
    {
      "cell_type": "markdown",
      "metadata": {
        "id": "Ios3sB8ZYDTN",
        "colab_type": "text"
      },
      "source": [
        "### Use N = 6, M = 10 and learn the models for following sets of gamma and lr:\n",
        "\n",
        "*   `(gamma, lr) = (0.8, 0.8)`\n",
        "*   `(gamma, lr) = (0.95, 0.8)`\n",
        "*   `(gamma, lr) = (0.6, 0.8)`\n",
        "*   `(gamma, lr) = (0.8, 0.95)`\n",
        "*   `(gamma, lr) = (0.8, 0.1)`\n",
        "\n",
        "Plot rewards vs episode for each of them and compare.\n",
        "\n"
      ]
    },
    {
      "cell_type": "code",
      "metadata": {
        "id": "1BB8d1_3MhsL",
        "colab_type": "code",
        "outputId": "0b746407-e157-41f8-aed6-b0e292bb64d7",
        "colab": {
          "base_uri": "https://localhost:8080/",
          "height": 1000
        }
      },
      "source": [
        "# Write your code here ----------\n",
        "for (gamma, lr) in [(0.8, 0.8), (0.95, 0.8), (0.6, 0.8), (0.8, 0.95), (0.8, 0.1)]:\n",
        "  print(\"| gamma: \" + str(gamma) + \" | lr: \" + str(lr) + \" |\")\n",
        "  soln_exist = 0\n",
        "\n",
        "  env, Q, rewards = init_env_and_learn(N=6, M=10, gamma=gamma, lr=lr)\n",
        "  soln_exist = travel_path(env, Q)\n",
        "\n",
        "  while soln_exist == 0:\n",
        "    env, Q, rewards = init_env_and_learn(N=6, M=10, gamma=gamma, lr=lr)\n",
        "    soln_exist = travel_path(env, Q)\n",
        "\n",
        "  rewards = np.array(rewards)\n",
        "\n",
        "  # Averaging for a clear plot\n",
        "  mean_R = rewards[:-30]/30.0\n",
        "  for i in range(1, 30):\n",
        "    mean_R += rewards[i:(-30+i)]/30.0\n",
        "\n",
        "  plt.figure()\n",
        "  plt.plot(mean_R)\n",
        "  plt.ylabel('Total Rewards')\n",
        "  plt.xlabel('Episodes')\n",
        "  plt.title(\"| gamma: \" + str(gamma) + \" | lr: \" + str(lr) + \" |\")\n",
        "# -------------------------------\n",
        "\n",
        "# print(\"Replace this with your observation\")"
      ],
      "execution_count": 31,
      "outputs": [
        {
          "output_type": "stream",
          "text": [
            "| gamma: 0.8 | lr: 0.8 |\n",
            "| gamma: 0.95 | lr: 0.8 |\n",
            "| gamma: 0.6 | lr: 0.8 |\n",
            "| gamma: 0.8 | lr: 0.95 |\n",
            "| gamma: 0.8 | lr: 0.1 |\n"
          ],
          "name": "stdout"
        },
        {
          "output_type": "display_data",
          "data": {
            "image/png": "[encoded data removed]",
            "text/plain": [
              "<Figure size 432x288 with 1 Axes>"
            ]
          },
          "metadata": {
            "tags": []
          }
        },
        {
          "output_type": "display_data",
          "data": {
            "image/png": "[encoded data removed]",
            "text/plain": [
              "<Figure size 432x288 with 1 Axes>"
            ]
          },
          "metadata": {
            "tags": []
          }
        },
        {
          "output_type": "display_data",
          "data": {
            "image/png": "[encoded data removed]",
            "text/plain": [
              "<Figure size 432x288 with 1 Axes>"
            ]
          },
          "metadata": {
            "tags": []
          }
        },
        {
          "output_type": "display_data",
          "data": {
            "image/png": "[encoded data removed]",
            "text/plain": [
              "<Figure size 432x288 with 1 Axes>"
            ]
          },
          "metadata": {
            "tags": []
          }
        },
        {
          "output_type": "display_data",
          "data": {
            "image/png": "[encoded data removed]",
            "text/plain": [
              "<Figure size 432x288 with 1 Axes>"
            ]
          },
          "metadata": {
            "tags": []
          }
        }
      ]
    },
    {
      "cell_type": "markdown",
      "metadata": {
        "id": "yI5oHjVbZkIW",
        "colab_type": "text"
      },
      "source": [
        "### Use N = 6, M = 10 and learn a models with (gamma, lr) = (0.8, 0.8)\n",
        "After learning the model, display a path traveled from source to goal."
      ]
    },
    {
      "cell_type": "code",
      "metadata": {
        "id": "RtDOaUEeMi-0",
        "colab_type": "code",
        "outputId": "c81dee3a-b956-4dc3-8ccd-577e00693949",
        "colab": {
          "base_uri": "https://localhost:8080/",
          "height": 1000
        }
      },
      "source": [
        "# Write your code here ----------\n",
        "env, Q, rewards = init_env_and_learn(N=6, M=10, gamma=0.8, lr=0.8)\n",
        "soln_exist = travel_path(env, Q, show_display=True)\n",
        "# -------------------------------"
      ],
      "execution_count": 32,
      "outputs": [
        {
          "output_type": "stream",
          "text": [
            "--------------------------------\n",
            " Action:  Right  | Step No.:  1  \n",
            "--------------------------------\n",
            "[['S' 'C' 'F' 'H' 'F' 'H']\n",
            " ['F' 'F' 'F' 'H' 'F' 'F']\n",
            " ['F' 'H' 'F' 'F' 'F' 'H']\n",
            " ['F' 'H' 'F' 'F' 'F' 'F']\n",
            " ['H' 'H' 'H' 'F' 'F' 'F']\n",
            " ['F' 'F' 'H' 'F' 'F' 'G']]\n",
            "\n",
            "--------------------------------\n",
            " Action:  Right  | Step No.:  2  \n",
            "--------------------------------\n",
            "[['S' 'F' 'C' 'H' 'F' 'H']\n",
            " ['F' 'F' 'F' 'H' 'F' 'F']\n",
            " ['F' 'H' 'F' 'F' 'F' 'H']\n",
            " ['F' 'H' 'F' 'F' 'F' 'F']\n",
            " ['H' 'H' 'H' 'F' 'F' 'F']\n",
            " ['F' 'F' 'H' 'F' 'F' 'G']]\n",
            "\n",
            "--------------------------------\n",
            " Action:  Down  | Step No.:  3  \n",
            "--------------------------------\n",
            "[['S' 'F' 'F' 'H' 'F' 'H']\n",
            " ['F' 'F' 'C' 'H' 'F' 'F']\n",
            " ['F' 'H' 'F' 'F' 'F' 'H']\n",
            " ['F' 'H' 'F' 'F' 'F' 'F']\n",
            " ['H' 'H' 'H' 'F' 'F' 'F']\n",
            " ['F' 'F' 'H' 'F' 'F' 'G']]\n",
            "\n",
            "--------------------------------\n",
            " Action:  Down  | Step No.:  4  \n",
            "--------------------------------\n",
            "[['S' 'F' 'F' 'H' 'F' 'H']\n",
            " ['F' 'F' 'F' 'H' 'F' 'F']\n",
            " ['F' 'H' 'C' 'F' 'F' 'H']\n",
            " ['F' 'H' 'F' 'F' 'F' 'F']\n",
            " ['H' 'H' 'H' 'F' 'F' 'F']\n",
            " ['F' 'F' 'H' 'F' 'F' 'G']]\n",
            "\n",
            "--------------------------------\n",
            " Action:  Right  | Step No.:  5  \n",
            "--------------------------------\n",
            "[['S' 'F' 'F' 'H' 'F' 'H']\n",
            " ['F' 'F' 'F' 'H' 'F' 'F']\n",
            " ['F' 'H' 'F' 'C' 'F' 'H']\n",
            " ['F' 'H' 'F' 'F' 'F' 'F']\n",
            " ['H' 'H' 'H' 'F' 'F' 'F']\n",
            " ['F' 'F' 'H' 'F' 'F' 'G']]\n",
            "\n",
            "--------------------------------\n",
            " Action:  Right  | Step No.:  6  \n",
            "--------------------------------\n",
            "[['S' 'F' 'F' 'H' 'F' 'H']\n",
            " ['F' 'F' 'F' 'H' 'F' 'F']\n",
            " ['F' 'H' 'F' 'F' 'C' 'H']\n",
            " ['F' 'H' 'F' 'F' 'F' 'F']\n",
            " ['H' 'H' 'H' 'F' 'F' 'F']\n",
            " ['F' 'F' 'H' 'F' 'F' 'G']]\n",
            "\n",
            "--------------------------------\n",
            " Action:  Down  | Step No.:  7  \n",
            "--------------------------------\n",
            "[['S' 'F' 'F' 'H' 'F' 'H']\n",
            " ['F' 'F' 'F' 'H' 'F' 'F']\n",
            " ['F' 'H' 'F' 'F' 'F' 'H']\n",
            " ['F' 'H' 'F' 'F' 'C' 'F']\n",
            " ['H' 'H' 'H' 'F' 'F' 'F']\n",
            " ['F' 'F' 'H' 'F' 'F' 'G']]\n",
            "\n",
            "--------------------------------\n",
            " Action:  Right  | Step No.:  8  \n",
            "--------------------------------\n",
            "[['S' 'F' 'F' 'H' 'F' 'H']\n",
            " ['F' 'F' 'F' 'H' 'F' 'F']\n",
            " ['F' 'H' 'F' 'F' 'F' 'H']\n",
            " ['F' 'H' 'F' 'F' 'F' 'C']\n",
            " ['H' 'H' 'H' 'F' 'F' 'F']\n",
            " ['F' 'F' 'H' 'F' 'F' 'G']]\n",
            "\n",
            "--------------------------------\n",
            " Action:  Down  | Step No.:  9  \n",
            "--------------------------------\n",
            "[['S' 'F' 'F' 'H' 'F' 'H']\n",
            " ['F' 'F' 'F' 'H' 'F' 'F']\n",
            " ['F' 'H' 'F' 'F' 'F' 'H']\n",
            " ['F' 'H' 'F' 'F' 'F' 'F']\n",
            " ['H' 'H' 'H' 'F' 'F' 'C']\n",
            " ['F' 'F' 'H' 'F' 'F' 'G']]\n",
            "\n",
            "--------------------------------\n",
            " Action:  Down  | Step No.:  10  \n",
            "--------------------------------\n",
            "[['S' 'F' 'F' 'H' 'F' 'H']\n",
            " ['F' 'F' 'F' 'H' 'F' 'F']\n",
            " ['F' 'H' 'F' 'F' 'F' 'H']\n",
            " ['F' 'H' 'F' 'F' 'F' 'F']\n",
            " ['H' 'H' 'H' 'F' 'F' 'F']\n",
            " ['F' 'F' 'H' 'F' 'F' 'C']]\n",
            "\n"
          ],
          "name": "stdout"
        }
      ]
    }
  ]
}