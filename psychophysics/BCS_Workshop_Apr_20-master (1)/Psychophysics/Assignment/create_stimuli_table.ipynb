{
 "cells": [
  {
   "cell_type": "code",
   "execution_count": 1,
   "metadata": {},
   "outputs": [],
   "source": [
    "# This code will be used to generate the table for PsyToolkit\n",
    "# Author: Shashi Kant (http://shashikg.github.io/)"
   ]
  },
  {
   "cell_type": "code",
   "execution_count": 2,
   "metadata": {},
   "outputs": [],
   "source": [
    "import numpy as np\n",
    "from numpy.random import choice as randC"
   ]
  },
  {
   "cell_type": "code",
   "execution_count": 3,
   "metadata": {},
   "outputs": [],
   "source": [
    "# Just change these according to your experiment.\n",
    "target_name = 'tar' # file name of your target image\n",
    "distractors_name = ['dist_1', 'dist_2'] # distractors can be of multiple types so list of names"
   ]
  },
  {
   "cell_type": "code",
   "execution_count": 4,
   "metadata": {},
   "outputs": [],
   "source": [
    "empty_name = 'empty' \n",
    "\n",
    "obj_size = (50, 50)\n",
    "view_area = (250, 250)\n",
    "\n",
    "items = [6, 12, 18, 24]\n",
    "num_per_case = 10"
   ]
  },
  {
   "cell_type": "code",
   "execution_count": 5,
   "metadata": {},
   "outputs": [],
   "source": [
    "idx = []\n",
    "\n",
    "for i in range(-2, 3, 1):\n",
    "    for j in range(-2, 3, 1):\n",
    "        idx.append((i*obj_size[0], j*obj_size[1]))\n",
    "\n",
    "idx = np.array(idx)"
   ]
  },
  {
   "cell_type": "code",
   "execution_count": 10,
   "metadata": {},
   "outputs": [],
   "source": [
    "table = []\n",
    "\n",
    "# Target present\n",
    "for k in range(len(items)):   \n",
    "    for n in range(num_per_case):\n",
    "        item = items[k]\n",
    "        rand_pos = idx[randC(len(idx), item, replace=False)]\n",
    "\n",
    "        txt = \" \" + str(item) + \" \" + target_name + \" \" + str(rand_pos[0][0]) + \" \" + str(rand_pos[0][1])\n",
    "\n",
    "        for i in range(1, item):\n",
    "            j = randC(len(distractors_name))\n",
    "            txt += \" \" + distractors_name[j] + \" \" + str(rand_pos[i][0]) + \" \" + str(rand_pos[i][1])\n",
    "            \n",
    "        for i in range(item, len(idx)):\n",
    "            txt += \" \" + empty_name + \" \" + str(250) + \" \" + str(250)\n",
    "            \n",
    "        table.append(txt)\n",
    "\n",
    "# Target not present\n",
    "for k in range(len(items)):   \n",
    "    for n in range(int(num_per_case/2)):\n",
    "        item = items[k]\n",
    "        rand_pos = idx[randC(len(idx), item, replace=False)]\n",
    "        \n",
    "        j = randC(len(distractors_name))\n",
    "        txt = \" \" + str(100+item) + \" \" + distractors_name[j] + \" \" + str(rand_pos[0][0]) + \" \" + str(rand_pos[0][1])\n",
    "\n",
    "        for i in range(1, item):\n",
    "            j = randC(len(distractors_name))\n",
    "            txt += \" \" + distractors_name[j] + \" \" + str(rand_pos[i][0]) + \" \" + str(rand_pos[i][1])\n",
    "            \n",
    "        for i in range(item, len(idx)):\n",
    "            txt += \" \" + empty_name + \" \" + str(250) + \" \" + str(250)\n",
    "            \n",
    "        table.append(txt)\n",
    "\n",
    "np.savetxt(\"table.txt\", table, fmt=\"%s\")"
   ]
  },
  {
   "cell_type": "code",
   "execution_count": null,
   "metadata": {},
   "outputs": [],
   "source": []
  }
 ],
 "metadata": {
  "kernelspec": {
   "display_name": "Python 3",
   "language": "python",
   "name": "python3"
  },
  "language_info": {
   "codemirror_mode": {
    "name": "ipython",
    "version": 3
   },
   "file_extension": ".py",
   "mimetype": "text/x-python",
   "name": "python",
   "nbconvert_exporter": "python",
   "pygments_lexer": "ipython3",
   "version": "3.7.4"
  }
 },
 "nbformat": 4,
 "nbformat_minor": 2
}
