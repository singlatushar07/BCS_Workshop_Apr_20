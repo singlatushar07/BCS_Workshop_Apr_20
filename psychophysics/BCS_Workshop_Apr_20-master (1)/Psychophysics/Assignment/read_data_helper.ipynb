{
 "cells": [
  {
   "cell_type": "code",
   "execution_count": 1,
   "metadata": {},
   "outputs": [],
   "source": [
    "import numpy as np\n",
    "import matplotlib.pyplot as plt\n",
    "import pandas as pd"
   ]
  },
  {
   "cell_type": "code",
   "execution_count": 2,
   "metadata": {},
   "outputs": [],
   "source": [
    "data = pd.read_csv(\"data/data.csv\", sep=\",\").values\n",
    "exp_1_data = pd.read_csv(\"data/\" + data[0, 3], sep=\" \", header=None).values\n",
    "exp_2_data = pd.read_csv(\"data/\" + data[0, 4], sep=\" \", header=None).values"
   ]
  },
  {
   "cell_type": "code",
   "execution_count": 3,
   "metadata": {},
   "outputs": [
    {
     "name": "stdout",
     "output_type": "stream",
     "text": [
      "[['block1' 24 1 780]\n",
      " ['block1' 24 1 537]\n",
      " ['block1' 12 1 432]\n",
      " ['block1' 18 1 446]\n",
      " ['block1' 24 1 429]]\n"
     ]
    }
   ],
   "source": [
    "# Note that column index = 1 gives the number of items\n",
    "# column index = 3 gives the reaction time in milliseconds\n",
    "print(exp_1_data)"
   ]
  },
  {
   "cell_type": "code",
   "execution_count": 4,
   "metadata": {},
   "outputs": [
    {
     "name": "stdout",
     "output_type": "stream",
     "text": [
      "Item size: 24 and its respective RT: 780 ms\n"
     ]
    }
   ],
   "source": [
    "print(\"Item size:\", exp_1_data[0, 1], \"and its respective RT:\", exp_1_data[0, 3], \"ms\")"
   ]
  },
  {
   "cell_type": "code",
   "execution_count": 5,
   "metadata": {},
   "outputs": [
    {
     "name": "stdout",
     "output_type": "stream",
     "text": [
      "[['block1' 12 1 596]\n",
      " ['block1' 24 1 469]]\n",
      "Item size: 12 and its respective RT: 596 ms\n"
     ]
    }
   ],
   "source": [
    "print(exp_2_data)\n",
    "print(\"Item size:\", exp_2_data[0, 1], \"and its respective RT:\", exp_2_data[0, 3], \"ms\")"
   ]
  },
  {
   "cell_type": "code",
   "execution_count": null,
   "metadata": {},
   "outputs": [],
   "source": []
  }
 ],
 "metadata": {
  "kernelspec": {
   "display_name": "Python 3",
   "language": "python",
   "name": "python3"
  },
  "language_info": {
   "codemirror_mode": {
    "name": "ipython",
    "version": 3
   },
   "file_extension": ".py",
   "mimetype": "text/x-python",
   "name": "python",
   "nbconvert_exporter": "python",
   "pygments_lexer": "ipython3",
   "version": "3.7.4"
  }
 },
 "nbformat": 4,
 "nbformat_minor": 2
}
