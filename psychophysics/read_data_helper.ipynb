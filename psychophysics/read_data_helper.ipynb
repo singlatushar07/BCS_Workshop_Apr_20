{
 "cells": [
  {
   "cell_type": "code",
   "execution_count": 1,
   "metadata": {},
   "outputs": [],
   "source": [
    "import numpy as np\n",
    "import matplotlib.pyplot as plt\n",
    "import pandas as pd"
   ]
  },
  {
   "cell_type": "code",
   "execution_count": 2,
   "metadata": {},
   "outputs": [],
   "source": [
    "data = pd.read_csv(\"data/data.csv\", sep=\",\").values\n",
    "exp_1_data = pd.read_csv(\"data/\" + data[0, 3], sep=\" \", header=None).values\n",
    "exp_2_data = pd.read_csv(\"data/\" + data[0, 4], sep=\" \", header=None).values"
   ]
  },
  {
   "cell_type": "code",
   "execution_count": 3,
   "metadata": {},
   "outputs": [
    {
     "name": "stdout",
     "output_type": "stream",
     "text": [
      "[['block1' 12 1 1737]\n",
      " ['block1' 18 1 1429]\n",
      " ['block1' 106 3 4000]\n",
      " ['block1' 12 1 1211]\n",
      " ['block1' 124 1 1073]\n",
      " ['block1' 12 1 3284]\n",
      " ['block1' 124 3 4000]\n",
      " ['block1' 6 1 1232]\n",
      " ['block1' 112 3 4000]\n",
      " ['block1' 118 3 4000]\n",
      " ['block1' 24 3 4000]\n",
      " ['block1' 112 3 4000]\n",
      " ['block1' 24 3 4000]\n",
      " ['block1' 12 1 2020]\n",
      " ['block1' 18 1 2861]\n",
      " ['block1' 6 1 1462]\n",
      " ['block1' 6 1 1246]\n",
      " ['block1' 118 3 4000]\n",
      " ['block1' 6 1 1130]\n",
      " ['block1' 6 1 1827]\n",
      " ['block1' 106 3 4000]\n",
      " ['block1' 12 1 1085]\n",
      " ['block1' 112 3 4000]\n",
      " ['block1' 106 3 4000]\n",
      " ['block1' 18 1 2022]\n",
      " ['block1' 124 3 4000]\n",
      " ['block1' 12 1 2543]\n",
      " ['block1' 6 1 773]\n",
      " ['block1' 18 1 3822]\n",
      " ['block1' 6 1 1594]\n",
      " ['block1' 12 1 942]\n",
      " ['block1' 124 3 4000]\n",
      " ['block1' 12 1 898]\n",
      " ['block1' 24 1 1091]\n",
      " ['block1' 24 3 4000]\n",
      " ['block1' 18 1 957]\n",
      " ['block1' 18 1 1861]\n",
      " ['block1' 24 3 4000]\n",
      " ['block1' 118 3 4000]\n",
      " ['block1' 24 1 1621]\n",
      " ['block1' 18 1 1011]\n",
      " ['block1' 18 1 1681]\n",
      " ['block1' 24 1 2229]\n",
      " ['block1' 118 3 4000]\n",
      " ['block1' 18 1 1065]\n",
      " ['block1' 24 1 2081]\n",
      " ['block1' 24 3 4000]\n",
      " ['block1' 106 3 4000]\n",
      " ['block1' 6 1 774]\n",
      " ['block1' 24 3 4000]\n",
      " ['block1' 12 1 1390]\n",
      " ['block1' 106 3 4000]\n",
      " ['block1' 6 1 861]\n",
      " ['block1' 12 1 3250]\n",
      " ['block1' 18 1 1584]\n",
      " ['block1' 118 3 4000]\n",
      " ['block1' 112 3 4000]\n",
      " ['block1' 112 3 4000]\n",
      " ['block1' 6 1 1383]\n",
      " ['block1' 124 3 4000]]\n"
     ]
    }
   ],
   "source": [
    "# Note that column index = 1 gives the number of items\n",
    "# column index = 3 gives the reaction time in milliseconds\n",
    "print(exp_1_data)"
   ]
  },
  {
   "cell_type": "code",
   "execution_count": 4,
   "metadata": {},
   "outputs": [
    {
     "name": "stdout",
     "output_type": "stream",
     "text": [
      "[['Rakesh' '19206011' 'rakh@iitk.ac.in'\n",
      "  'visual_search_1.2020-04-18-1422.data.0db2cb69-04bb-4fac-9d6c-cc3356c615b7.txt'\n",
      "  'visual_search_2.2020-04-18-1426.data.0db2cb69-04bb-4fac-9d6c-cc3356c615b7.txt'\n",
      "  '2020-04-18-14-17' '2020-04-18-14-26' 9.0 nan]\n",
      " ['Manish' '19111051' 'mpatel@iitk.ac.in' nan nan '2020-04-18-11-16' nan\n",
      "  nan nan]\n",
      " ['nakul' '180455' 'nakulsh@iitk.ac.in'\n",
      "  'visual_search_1.2020-04-18-0805.data.17ec5da8-b998-43e2-a090-873a34eed1ae.txt'\n",
      "  'visual_search_2.2020-04-18-0809.data.17ec5da8-b998-43e2-a090-873a34eed1ae.txt'\n",
      "  '2020-04-18-08-00' '2020-04-18-08-09' 9.0 nan]\n",
      " [nan nan nan\n",
      "  'visual_search_1.2020-04-16-1815.data.bec2b043-ae44-4aed-96d3-2c0549d8204c.txt'\n",
      "  'visual_search_2.2020-04-16-1820.data.bec2b043-ae44-4aed-96d3-2c0549d8204c.txt'\n",
      "  nan '2020-04-16-18-20' nan nan]\n",
      " [nan nan nan nan nan '2020-04-17-06-06' nan nan nan]\n",
      " ['Samarth' '190749' 'ssamarth@iitk.ac.in' nan nan '2020-04-16-19-14' nan\n",
      "  nan nan]\n",
      " ['sdvsdvs' 'dvddsvd' 'sddvd' nan nan '2020-04-19-13-18' nan nan nan]\n",
      " ['Aman' '190993' 'amyadav@iitk.ac.in'\n",
      "  'visual_search_1.2020-04-17-2002.data.ddb83c99-ec2d-43d7-beb5-8a0da9376dc3.txt'\n",
      "  'visual_search_2.2020-04-17-2006.data.ddb83c99-ec2d-43d7-beb5-8a0da9376dc3.txt'\n",
      "  '2020-04-17-19-57' '2020-04-17-20-06' 9.0 nan]\n",
      " ['Shashwat Agarwal' '190797' 'shashag@iitk.ac.in'\n",
      "  'visual_search_1.2020-04-16-1915.data.4f42ddd5-c594-4b7e-8392-2d847a9bd25e.txt'\n",
      "  'visual_search_2.2020-04-16-1919.data.4f42ddd5-c594-4b7e-8392-2d847a9bd25e.txt'\n",
      "  '2020-04-16-19-10' '2020-04-16-19-19' 9.0 nan]\n",
      " ['Vidit Tripathi' '160781' 'viditt@iitk.ac.in'\n",
      "  'visual_search_1.2020-04-17-1613.data.5fd8b001-179b-4147-8817-25995cbf262f.txt'\n",
      "  'visual_search_2.2020-04-17-1618.data.5fd8b001-179b-4147-8817-25995cbf262f.txt'\n",
      "  '2020-04-17-16-08' '2020-04-17-16-18' 10.0 nan]\n",
      " ['Keerthana M' '190426' 'keerthm@iitk.ac.in'\n",
      "  'visual_search_1.2020-04-16-1844.data.20d089de-1861-43d3-8b0c-d90e57888a91.txt'\n",
      "  'visual_search_2.2020-04-16-1849.data.20d089de-1861-43d3-8b0c-d90e57888a91.txt'\n",
      "  '2020-04-16-18-36' '2020-04-16-18-49' 13.0 nan]\n",
      " ['Gagan Aryan' '190327' 'gagan@iitk.ac.in'\n",
      "  'visual_search_1.2020-04-17-1904.data.09b76650-8fe8-4105-b21a-035e50250ce8.txt'\n",
      "  nan '2020-04-17-18-58' nan nan nan]\n",
      " ['Ashwin' '180156' 'ashwins@iitk.ac.in'\n",
      "  'visual_search_1.2020-04-18-1734.data.4d7e81e9-db9d-4292-abde-2cb98b0c1f4a.txt'\n",
      "  'visual_search_2.2020-04-18-1934.data.4d7e81e9-db9d-4292-abde-2cb98b0c1f4a.txt'\n",
      "  '2020-04-18-17-29' '2020-04-18-19-34' 125.0 nan]\n",
      " ['Manish' '19111051' 'mpatel@iitk.ac.in'\n",
      "  'visual_search_1.2020-04-18-2132.data.ab015b33-ce62-4afa-a540-a3ff25dcd6d0.txt'\n",
      "  'visual_search_2.2020-04-18-2136.data.ab015b33-ce62-4afa-a540-a3ff25dcd6d0.txt'\n",
      "  '2020-04-18-21-26' '2020-04-18-21-36' 10.0 nan]\n",
      " [nan nan nan nan nan '2020-04-16-18-37' nan nan nan]\n",
      " [nan nan nan nan nan '2020-04-16-18-39' nan nan nan]\n",
      " ['Ashwani ' '19111019' 'bashwani@iitk.ac.in'\n",
      "  'visual_search_1.2020-04-17-1510.data.aaf361b7-7920-46e5-aaa6-fd6f2fc51671.txt'\n",
      "  'visual_search_2.2020-04-17-1514.data.aaf361b7-7920-46e5-aaa6-fd6f2fc51671.txt'\n",
      "  '2020-04-17-15-05' '2020-04-17-15-14' 9.0 nan]]\n"
     ]
    }
   ],
   "source": [
    "print(data)"
   ]
  },
  {
   "cell_type": "code",
   "execution_count": 5,
   "metadata": {},
   "outputs": [
    {
     "name": "stdout",
     "output_type": "stream",
     "text": [
      "Item size: 12 and its respective RT: 1737 ms\n"
     ]
    }
   ],
   "source": [
    "print(\"Item size:\", exp_1_data[0, 1], \"and its respective RT:\", exp_1_data[0, 3], \"ms\")"
   ]
  },
  {
   "cell_type": "code",
   "execution_count": 6,
   "metadata": {},
   "outputs": [
    {
     "name": "stdout",
     "output_type": "stream",
     "text": [
      "[['block1' 6 1 970]\n",
      " ['block1' 124 3 4000]\n",
      " ['block1' 18 1 1610]\n",
      " ['block1' 12 1 1996]\n",
      " ['block1' 6 1 730]\n",
      " ['block1' 18 1 2059]\n",
      " ['block1' 24 1 797]\n",
      " ['block1' 6 1 1059]\n",
      " ['block1' 124 3 4000]\n",
      " ['block1' 118 3 4000]\n",
      " ['block1' 106 3 4000]\n",
      " ['block1' 24 1 1076]\n",
      " ['block1' 18 1 919]\n",
      " ['block1' 18 1 2131]\n",
      " ['block1' 24 3 4000]\n",
      " ['block1' 106 3 4000]\n",
      " ['block1' 12 1 830]\n",
      " ['block1' 118 3 4000]\n",
      " ['block1' 106 3 4000]\n",
      " ['block1' 12 1 861]\n",
      " ['block1' 106 3 4000]\n",
      " ['block1' 6 3 4000]\n",
      " ['block1' 24 1 1127]\n",
      " ['block1' 124 3 4000]\n",
      " ['block1' 124 3 4000]\n",
      " ['block1' 24 1 1514]\n",
      " ['block1' 12 1 1629]\n",
      " ['block1' 18 1 907]\n",
      " ['block1' 18 1 1069]\n",
      " ['block1' 118 3 4000]\n",
      " ['block1' 18 1 579]\n",
      " ['block1' 118 3 4000]\n",
      " ['block1' 12 1 609]\n",
      " ['block1' 112 3 4000]\n",
      " ['block1' 18 1 883]\n",
      " ['block1' 124 3 4000]\n",
      " ['block1' 24 1 1658]\n",
      " ['block1' 112 3 4000]\n",
      " ['block1' 6 1 846]\n",
      " ['block1' 12 1 1214]\n",
      " ['block1' 6 1 795]\n",
      " ['block1' 6 1 917]\n",
      " ['block1' 106 3 4000]\n",
      " ['block1' 24 1 1532]\n",
      " ['block1' 6 1 724]\n",
      " ['block1' 12 1 1099]\n",
      " ['block1' 6 1 793]\n",
      " ['block1' 112 3 4000]\n",
      " ['block1' 24 1 633]\n",
      " ['block1' 18 1 727]\n",
      " ['block1' 12 1 730]\n",
      " ['block1' 24 3 4000]\n",
      " ['block1' 18 1 820]\n",
      " ['block1' 12 1 2605]\n",
      " ['block1' 112 3 4000]\n",
      " ['block1' 12 1 1299]\n",
      " ['block1' 112 3 4000]\n",
      " ['block1' 24 1 1317]\n",
      " ['block1' 6 1 1120]\n",
      " ['block1' 118 3 4000]]\n",
      "Item size: 6 and its respective RT: 970 ms\n"
     ]
    }
   ],
   "source": [
    "print(exp_2_data)\n",
    "print(\"Item size:\", exp_2_data[0, 1], \"and its respective RT:\", exp_2_data[0, 3], \"ms\")"
   ]
  },
  {
   "cell_type": "code",
   "execution_count": 8,
   "metadata": {},
   "outputs": [],
   "source": [
    "a = [0, 2, 7, 8, 9, 10, 12, 13, 16]\n",
    "rt6exp1 = []\n",
    "rt12exp1 = []\n",
    "rt18exp1 = []\n",
    "rt24exp1 = []\n",
    "rt6exp2 = []\n",
    "rt12exp2 = []\n",
    "rt18exp2 = []\n",
    "rt24exp2 = []"
   ]
  },
  {
   "cell_type": "code",
   "execution_count": 9,
   "metadata": {},
   "outputs": [],
   "source": [
    "for i in a:\n",
    "    exp_1_data = pd.read_csv(\"data/\" + data[i, 3], sep=\" \", header=None).values\n",
    "    exp_2_data = pd.read_csv(\"data/\" + data[i, 4], sep=\" \", header=None).values\n",
    "    for j in range(len(exp_1_data)):\n",
    "        if exp_1_data[j][1] == 6 and exp_1_data[j][2] == 1:\n",
    "            rt6exp1.append(exp_1_data[j][3])\n",
    "        if exp_1_data[j][1] == 12 and exp_1_data[j][2] == 1:\n",
    "            rt12exp1.append(exp_1_data[j][3])\n",
    "        if exp_1_data[j][1] == 18 and exp_1_data[j][2] == 1:\n",
    "            rt18exp1.append(exp_1_data[j][3])\n",
    "        if exp_1_data[j][1] == 24 and exp_1_data[j][2] == 1:\n",
    "            rt24exp1.append(exp_1_data[j][3])\n",
    "            \n",
    "        if exp_2_data[j][1] == 6 and exp_2_data[j][2] == 1:\n",
    "            rt6exp2.append(exp_2_data[j][3])\n",
    "        if exp_2_data[j][1] == 12 and exp_2_data[j][2] == 1:\n",
    "            rt12exp2.append(exp_2_data[j][3])\n",
    "        if exp_2_data[j][1] == 18 and exp_2_data[j][2] == 1:\n",
    "            rt18exp2.append(exp_2_data[j][3])\n",
    "        if exp_2_data[j][1] == 24 and exp_2_data[j][2] == 1:\n",
    "            rt24exp2.append(exp_2_data[j][3])"
   ]
  },
  {
   "cell_type": "code",
   "execution_count": 10,
   "metadata": {},
   "outputs": [],
   "source": [
    "(exp_2_data[59][1])\n",
    "import statistics"
   ]
  },
  {
   "cell_type": "code",
   "execution_count": 11,
   "metadata": {},
   "outputs": [
    {
     "name": "stdout",
     "output_type": "stream",
     "text": [
      "248818.7459508882\n"
     ]
    }
   ],
   "source": [
    "print(statistics.variance(rt6exp1))"
   ]
  },
  {
   "cell_type": "code",
   "execution_count": 12,
   "metadata": {},
   "outputs": [
    {
     "name": "stdout",
     "output_type": "stream",
     "text": [
      "89\n",
      "90\n",
      "89\n",
      "88\n",
      "88\n",
      "86\n",
      "70\n",
      "66\n"
     ]
    }
   ],
   "source": [
    "print(len(rt6exp2))\n",
    "print(len(rt12exp2))\n",
    "print(len(rt18exp2))\n",
    "print(len(rt24exp2))\n",
    "print(len(rt6exp1))\n",
    "print(len(rt12exp1))\n",
    "print(len(rt18exp1))\n",
    "print(len(rt24exp1))\n"
   ]
  },
  {
   "cell_type": "code",
   "execution_count": 13,
   "metadata": {},
   "outputs": [],
   "source": [
    "a = [6, 12, 18, 24]\n",
    "b = [statistics.mean(rt6exp1), statistics.mean(rt12exp1), statistics.mean(rt18exp1), statistics.mean(rt24exp1)]\n",
    "c = [statistics.mean(rt6exp2), statistics.mean(rt12exp2), statistics.mean(rt18exp2), statistics.mean(rt24exp2)]"
   ]
  },
  {
   "cell_type": "code",
   "execution_count": 14,
   "metadata": {},
   "outputs": [
    {
     "data": {
      "text/plain": [
       "[6, 12, 18, 24]"
      ]
     },
     "execution_count": 14,
     "metadata": {},
     "output_type": "execute_result"
    }
   ],
   "source": [
    "a"
   ]
  },
  {
   "cell_type": "code",
   "execution_count": 15,
   "metadata": {},
   "outputs": [
    {
     "data": {
      "text/plain": [
       "[1095.034090909091, 1600.4418604651162, 1761.4142857142858, 1851.7727272727273]"
      ]
     },
     "execution_count": 15,
     "metadata": {},
     "output_type": "execute_result"
    }
   ],
   "source": [
    "b"
   ]
  },
  {
   "cell_type": "code",
   "execution_count": 16,
   "metadata": {},
   "outputs": [
    {
     "data": {
      "text/plain": [
       "[718.4831460674158, 939.2444444444444, 986.4606741573034, 1063.7954545454545]"
      ]
     },
     "execution_count": 16,
     "metadata": {},
     "output_type": "execute_result"
    }
   ],
   "source": [
    "c"
   ]
  },
  {
   "cell_type": "code",
   "execution_count": 17,
   "metadata": {},
   "outputs": [
    {
     "data": {
      "image/png": "[encoded data removed]",
      "text/plain": [
       "<Figure size 432x288 with 1 Axes>"
      ]
     },
     "metadata": {
      "needs_background": "light"
     },
     "output_type": "display_data"
    }
   ],
   "source": [
    "plt.plot(a, b, 'b')\n",
    "plt.plot(a, c, 'r')\n",
    "plt.scatter(a, b, label='target: parallel lines')\n",
    "plt.scatter(a, c, label='taget: converging lines')\n",
    "plt.xlabel('Number of Items in Display')\n",
    "plt.ylabel('Average reaction time')\n",
    "plt.legend()\n",
    "plt.xticks(range(0, 26, 6))\n",
    "plt.xlim(5, 27, 6)\n",
    "plt.savefig(\"a.png\")"
   ]
  },
  {
   "cell_type": "code",
   "execution_count": 18,
   "metadata": {},
   "outputs": [
    {
     "name": "stdout",
     "output_type": "stream",
     "text": [
      "[1232, 1462, 1246, 1130, 1827, 773, 1594, 774, 861, 1383, 541, 638, 1043, 739, 1803, 868, 2047, 761, 586, 546, 695, 1360, 981, 1234, 639, 1745, 1084, 956, 929, 592, 984, 685, 975, 1235, 646, 1642, 563, 987, 629, 1327, 2044, 1376, 610, 674, 1440, 746, 1737, 1576, 1175, 655, 696, 2272, 2549, 849, 1068, 1585, 1054, 964, 623, 773, 1101, 2969, 809, 1417, 754, 697, 1857, 737, 946, 1757, 1531, 918, 999, 864, 608, 1047, 1968, 1317, 1000, 636, 718, 581, 848, 531, 622, 1582, 725, 616]\n"
     ]
    }
   ],
   "source": [
    "print(rt6exp1)"
   ]
  },
  {
   "cell_type": "code",
   "execution_count": 19,
   "metadata": {},
   "outputs": [
    {
     "name": "stdout",
     "output_type": "stream",
     "text": [
      "[1091, 1621, 2229, 2081, 2905, 1561, 1943, 1365, 585, 1792, 1216, 1569, 1193, 1444, 683, 598, 1650, 1969, 3476, 1442, 2135, 3943, 1026, 3663, 1305, 1678, 3157, 2394, 1544, 904, 3685, 1086, 2175, 1583, 1205, 2904, 3301, 611, 3686, 1129, 1118, 651, 1550, 1038, 1406, 2702, 1398, 728, 3118, 1776, 3563, 1315, 2421, 2276, 3581, 1607, 1579, 3163, 2144, 1551, 879, 2272, 2672, 587, 923, 672]\n",
      "66\n"
     ]
    }
   ],
   "source": [
    "print(rt24exp1)\n",
    "print(len(rt24exp1))"
   ]
  },
  {
   "cell_type": "code",
   "execution_count": 57,
   "metadata": {},
   "outputs": [
    {
     "data": {
      "text/plain": [
       "array([514.18])"
      ]
     },
     "execution_count": 57,
     "metadata": {},
     "output_type": "execute_result"
    },
    {
     "data": {
      "image/png": "[encoded data removed]",
      "text/plain": [
       "<Figure size 432x288 with 1 Axes>"
      ]
     },
     "metadata": {
      "needs_background": "light"
     },
     "output_type": "display_data"
    }
   ],
   "source": [
    "rt6exp2.sort()\n",
    "y, x, _ = plt.hist(rt6exp2, 200)\n",
    "x[np.where(y == y.max())]"
   ]
  },
  {
   "cell_type": "code",
   "execution_count": 42,
   "metadata": {},
   "outputs": [
    {
     "data": {
      "text/plain": [
       "array([ 742.67, 2268.95])"
      ]
     },
     "execution_count": 42,
     "metadata": {},
     "output_type": "execute_result"
    }
   ],
   "source": [
    "x[np.where(y == y.max())]\n"
   ]
  },
  {
   "cell_type": "code",
   "execution_count": null,
   "metadata": {},
   "outputs": [],
   "source": [
    "exp1 = 0\n",
    "exp2 = 0\n",
    "for i in a:\n",
    "    exp_1_data = pd.read_csv(\"data/\" + data[i, 3], sep=\" \", header=None).values\n",
    "    exp_2_data = pd.read_csv(\"data/\" + data[i, 4], sep=\" \", header=None).values\n",
    "    for j in range(len(exp_1_data)):\n",
    "        if exp_1_data[j][1] < 100 and exp_1_data[j][2] == 1:\n",
    "            exp1 += 1\n",
    "        if exp_1_data[j][1] > 100 and exp_1_data[j][2] == 3:\n",
    "            exp1 += 1\n",
    "            \n",
    "    for j in range(len(exp_2_data)):\n",
    "        if exp_2_data[j][1] < 100 and exp_2_data[j][2] == 1:\n",
    "            exp2 += 1\n",
    "        if exp_2_data[j][1] > 100 and exp_2_data[j][2] == 3:\n",
    "            exp2 += 1\n",
    "            \n",
    "print(exp1)\n",
    "print(exp2)"
   ]
  },
  {
   "cell_type": "code",
   "execution_count": null,
   "metadata": {},
   "outputs": [],
   "source": [
    "print(len(rt6exp2))\n",
    "print(len(rt12exp2))\n",
    "print(len(rt18exp2))\n",
    "print(len(rt24exp2))\n",
    "print(len(rt6exp1))\n",
    "print(len(rt12exp1))\n",
    "print(len(rt18exp1))\n",
    "print(len(rt24exp1))\n"
   ]
  },
  {
   "cell_type": "code",
   "execution_count": null,
   "metadata": {},
   "outputs": [],
   "source": [
    "print(len(a))"
   ]
  },
  {
   "cell_type": "code",
   "execution_count": null,
   "metadata": {},
   "outputs": [],
   "source": []
  }
 ],
 "metadata": {
  "kernelspec": {
   "display_name": "Python 3",
   "language": "python",
   "name": "python3"
  },
  "language_info": {
   "codemirror_mode": {
    "name": "ipython",
    "version": 3
   },
   "file_extension": ".py",
   "mimetype": "text/x-python",
   "name": "python",
   "nbconvert_exporter": "python",
   "pygments_lexer": "ipython3",
   "version": "3.7.6"
  }
 },
 "nbformat": 4,
 "nbformat_minor": 2
}
